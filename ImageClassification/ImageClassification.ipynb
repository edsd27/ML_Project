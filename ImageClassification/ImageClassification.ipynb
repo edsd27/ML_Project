{
 "cells": [
  {
   "cell_type": "code",
   "execution_count": null,
   "id": "initial_id",
   "metadata": {
    "ExecuteTime": {
     "end_time": "2025-01-31T15:38:33.641540Z",
     "start_time": "2025-01-31T15:38:31.027924Z"
    },
    "collapsed": true
   },
   "outputs": [],
   "source": [
    "import kagglehub\n",
    "\n",
    "# Download latest version\n",
    "path = kagglehub.dataset_download(\"ankushpanday1/pancreatic-cancer-prediction-dataset\")\n",
    "\n",
    "print(\"Path to dataset files:\", path)"
   ]
  },
  {
   "cell_type": "code",
   "execution_count": null,
   "id": "f02b66e8e90f70fe",
   "metadata": {
    "ExecuteTime": {
     "end_time": "2025-01-31T15:42:10.540244Z",
     "start_time": "2025-01-31T15:42:10.533003Z"
    }
   },
   "outputs": [],
   "source": [
    "import os\n",
    "files = os.listdir(path)\n",
    "print(\"file available:\", files)"
   ]
  },
  {
   "cell_type": "code",
   "execution_count": 3,
   "id": "53988c83c242ab91",
   "metadata": {
    "ExecuteTime": {
     "end_time": "2025-01-31T15:42:41.231346Z",
     "start_time": "2025-01-31T15:42:41.092605Z"
    }
   },
   "outputs": [],
   "source": [
    "import pandas as pd\n",
    "file_path = os.path.join(path, files[0])\n",
    "df = pd.read_csv(file_path)"
   ]
  },
  {
   "cell_type": "code",
   "execution_count": null,
   "id": "2df2b8c5064ebfd9",
   "metadata": {
    "ExecuteTime": {
     "end_time": "2025-01-31T15:42:55.615240Z",
     "start_time": "2025-01-31T15:42:55.578742Z"
    }
   },
   "outputs": [],
   "source": [
    "df.head()"
   ]
  },
  {
   "cell_type": "code",
   "execution_count": null,
   "id": "854cc10880b12307",
   "metadata": {
    "ExecuteTime": {
     "end_time": "2025-01-31T15:45:10.158345Z",
     "start_time": "2025-01-31T15:45:10.149049Z"
    }
   },
   "outputs": [],
   "source": [
    "df.columns"
   ]
  },
  {
   "cell_type": "code",
   "execution_count": null,
   "id": "8142a14200a0bfd4",
   "metadata": {
    "ExecuteTime": {
     "end_time": "2025-02-01T13:04:45.842681Z",
     "start_time": "2025-02-01T13:04:43.720758Z"
    }
   },
   "outputs": [],
   "source": [
    "import kagglehub\n",
    "\n",
    "# Download latest version\n",
    "path = kagglehub.dataset_download(\"vivek468/superstore-dataset-final\")\n",
    "\n",
    "print(\"Path to dataset files:\", path)"
   ]
  },
  {
   "cell_type": "code",
   "execution_count": null,
   "id": "f45567e11294679c",
   "metadata": {
    "ExecuteTime": {
     "end_time": "2025-02-01T13:04:53.592237Z",
     "start_time": "2025-02-01T13:04:53.587012Z"
    }
   },
   "outputs": [],
   "source": [
    "import os\n",
    "files = os.listdir(path)\n",
    "print(\"file available:\", files)"
   ]
  },
  {
   "cell_type": "code",
   "execution_count": 18,
   "id": "dd7b2e393fa698a8",
   "metadata": {
    "ExecuteTime": {
     "end_time": "2025-02-01T13:20:29.067177Z",
     "start_time": "2025-02-01T13:20:28.973855Z"
    }
   },
   "outputs": [],
   "source": [
    "import pandas as pd\n",
    "file_path = os.path.join(path, files[0])\n",
    "df = pd.read_csv(file_path, encoding='latin1')\n",
    "df.head()\n",
    "df.to_csv('superstore-dataset-final.csv', index=False)"
   ]
  },
  {
   "cell_type": "code",
   "execution_count": null,
   "id": "92e29df701ef70c0",
   "metadata": {
    "ExecuteTime": {
     "end_time": "2025-02-01T13:08:30.171846Z",
     "start_time": "2025-02-01T13:08:30.149379Z"
    }
   },
   "outputs": [],
   "source": [
    "df.head()"
   ]
  }
 ],
 "metadata": {
  "kernelspec": {
   "display_name": ".venv",
   "language": "python",
   "name": "python3"
  },
  "language_info": {
   "codemirror_mode": {
    "name": "ipython",
    "version": 3
   },
   "file_extension": ".py",
   "mimetype": "text/x-python",
   "name": "python",
   "nbconvert_exporter": "python",
   "pygments_lexer": "ipython3",
   "version": "3.10.11"
  }
 },
 "nbformat": 4,
 "nbformat_minor": 5
}
