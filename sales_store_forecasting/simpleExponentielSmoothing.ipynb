{
 "cells": [
  {
   "metadata": {},
   "cell_type": "markdown",
   "source": [
    "# simple Exponential Smoothing\n",
    "- Y_dach_t+1 = alpha*y_t + (1-apha)y_dach_t    t =0, 1, ...."
   ],
   "id": "c243635a67b657f8"
  },
  {
   "cell_type": "code",
   "id": "initial_id",
   "metadata": {
    "collapsed": true,
    "ExecuteTime": {
     "end_time": "2025-02-02T16:37:39.418769Z",
     "start_time": "2025-02-02T16:37:39.367510Z"
    }
   },
   "source": [
    "from statsmodels.tsa.holtwinters import ExponentialSmoothing, SimpleExpSmoothing\n",
    "from sklearn.metrics import mean_squared_error, mean_absolute_error, mean_squared_log_error, r2_score\n",
    "from statsmodels.tsa.arima.model import ARIMA\n",
    "from statsmodels.tsa.stattools import adfuller\n",
    "import numpy as np\n",
    "import plotly.graph_objects as go\n",
    "import pandas as pd\n",
    "import warnings\n",
    "warnings.filterwarnings('ignore')\n",
    "warnings.simplefilter(action='ignore', category=FutureWarning)"
   ],
   "outputs": [],
   "execution_count": 35
  },
  {
   "metadata": {
    "ExecuteTime": {
     "end_time": "2025-02-02T16:37:43.698046Z",
     "start_time": "2025-02-02T16:37:42.179363Z"
    }
   },
   "cell_type": "code",
   "source": [
    "df_train  =  pd.read_csv('train.csv', parse_dates=['date'])\n",
    "df_oil = pd.read_csv('../oil.csv', parse_dates=['date'])\n",
    "df_sample_submission = pd.read_csv('sample_submission.csv')\n",
    "df_stores = pd.read_csv('stores.csv')\n",
    "df_test = pd.read_csv('test.csv', parse_dates=['date'])\n",
    "df_transaction = pd.read_csv('transactions.csv', parse_dates=['date'])\n",
    "df_holidays_events = pd.read_csv('holidays_events.csv', parse_dates=['date'])"
   ],
   "id": "6349017254df2f4e",
   "outputs": [],
   "execution_count": 36
  },
  {
   "metadata": {
    "ExecuteTime": {
     "end_time": "2025-02-02T16:40:37.813904Z",
     "start_time": "2025-02-02T16:40:36.487200Z"
    }
   },
   "cell_type": "code",
   "source": [
    "#data = df_train.merge(df_stores, on=['store_nbr'], how='left')\n",
    "data = df_train.copy()\n",
    "data = data.groupby(['id', 'date', 'store_nbr','family'])['sales'].sum().reset_index()\n",
    "data.shape"
   ],
   "id": "f42aaa03e12d0e8c",
   "outputs": [
    {
     "data": {
      "text/plain": [
       "(3000888, 5)"
      ]
     },
     "execution_count": 38,
     "metadata": {},
     "output_type": "execute_result"
    }
   ],
   "execution_count": 38
  },
  {
   "metadata": {
    "ExecuteTime": {
     "end_time": "2025-02-02T16:40:53.518682Z",
     "start_time": "2025-02-02T16:40:53.510677Z"
    }
   },
   "cell_type": "code",
   "source": [
    "def mase(y_true, y_pred, y_train) -> float:\n",
    "    naive_forecast = y_train[:-1]  # naive forecast: previous value\n",
    "    mae_naive = mean_absolute_error(y_train[1:], naive_forecast)\n",
    "    mase = mean_absolute_error(y_true, y_pred) / mae_naive\n",
    "    return mase"
   ],
   "id": "eac9868e57c31089",
   "outputs": [],
   "execution_count": 39
  },
  {
   "metadata": {
    "ExecuteTime": {
     "end_time": "2025-01-30T19:15:45.603156Z",
     "start_time": "2025-01-30T19:15:45.599552Z"
    }
   },
   "cell_type": "code",
   "source": [
    "def eval_model(y_true, y_pred) :\n",
    "    # Calculate the mean squared logarithm error\n",
    "    print(f\"mean squared logarithm error: {mean_squared_log_error(y_true, y_pred)}\")\n",
    "    print(f\"R Sccore model score: {r2_score(y_true, y_pred)}\")\n",
    "    print(f\"mean absolute error: {mean_absolute_error(y_true, y_pred)}\")\n",
    "    print(f\"mean squared error: {mean_squared_error(y_true, y_pred)}\")\n",
    "    print(f\"mase: {mase(y_true, y_pred, y_true)}\")"
   ],
   "id": "808579ae7c0f6ca3",
   "outputs": [],
   "execution_count": 5
  },
  {
   "metadata": {
    "ExecuteTime": {
     "end_time": "2025-02-02T17:15:25.438602Z",
     "start_time": "2025-02-02T17:15:25.425577Z"
    }
   },
   "cell_type": "code",
   "source": [
    "def plot_func(pred_data, t_data, c: int, f: str, title : str) -> None:\n",
    "    data_c_f = t_data[(t_data['store_nbr'] == c) & (t_data['family'] == f)]\n",
    "    forecasts = pred_data[(pred_data['store_nbr'] == c) & (pred_data['family'] == f)]\n",
    "    train_split = data_c_f[:-int(len(data_c_f)*0.2)]\n",
    "    train_split = train_split[train_split['date'].isin(df_holidays_events['date'])]\n",
    "    forecasts = forecasts[forecasts['date'].isin(df_holidays_events['date'])]\n",
    "    fig = go.Figure()\n",
    "    fig.add_trace(go.Scatter(x=train_split['date'], y=train_split['sales'], name='Train'))\n",
    "    fig.add_trace(go.Scatter(x=forecasts['date'], y=forecasts['sales'], name='Test'))\n",
    "    fig.add_trace(go.Scatter(x=forecasts['date'], y=forecasts['sales_forecast'], name='Forecast'))\n",
    "    fig.update_layout(template='simple_white', font=dict(size=10), title_text=title, xaxis_title='date',yaxis_title='Sales', width=750)\n",
    "\n",
    "    eval_model(forecasts['sales'], forecasts['sales_forecast'])\n",
    "\n",
    "    return fig.show()"
   ],
   "id": "30cccd9993cb37e7",
   "outputs": [],
   "execution_count": 51
  },
  {
   "metadata": {
    "ExecuteTime": {
     "end_time": "2025-02-02T16:41:05.844389Z",
     "start_time": "2025-02-02T16:41:05.832563Z"
    }
   },
   "cell_type": "code",
   "source": [
    "def forecast(args) -> pd.DataFrame:\n",
    "\n",
    "    train_cluster_family , test_cluster_family , arima = args\n",
    "    if arima:\n",
    "        model = ARIMA(train_cluster_family['sales'], order=(14,1,14)).fit()\n",
    "    else:\n",
    "        model = SimpleExpSmoothing(train_cluster_family['sales']).fit(optimized=True)\n",
    "\n",
    "    prediction = model.forecast(len(test_cluster_family))\n",
    "\n",
    "    test_cluster_family['sales_forecast'] = prediction\n",
    "    test_cluster_family.dropna(inplace=True, axis=0)\n",
    "    forecast_results = test_cluster_family.copy().reset_index(drop=True)\n",
    "\n",
    "    return forecast_results"
   ],
   "id": "cb29dc2d35a185a6",
   "outputs": [],
   "execution_count": 41
  },
  {
   "metadata": {
    "ExecuteTime": {
     "end_time": "2025-02-02T16:45:01.238775Z",
     "start_time": "2025-02-02T16:45:01.229906Z"
    }
   },
   "cell_type": "code",
   "source": [
    "def train_model(args) -> pd.DataFrame:\n",
    "    c, f , date , y , arima = args\n",
    "\n",
    "    group = []\n",
    "    for cluster in data[c].unique():\n",
    "        for family in data[f].unique():\n",
    "            data_cluster_family = data[(data[c] == cluster) & (data[f] == family)].reset_index(drop=True)\n",
    "            range_date = pd.date_range(start=data_cluster_family[date].min(), end=data_cluster_family[date].max(), freq='D')\n",
    "            data_cluster_family  = pd.merge(pd.DataFrame({date: range_date}), data_cluster_family, on=[date], how='left')\n",
    "            data_cluster_family[y].fillna(0, inplace=True)\n",
    "            train = data_cluster_family[:-int(len(data_cluster_family)*0.2)]\n",
    "            test = data_cluster_family[-int(len(data_cluster_family)*0.2):]\n",
    "            group.append(forecast((train,test,arima)))\n",
    "\n",
    "    # Combine the results\n",
    "    final_predictions = pd.concat(group, ignore_index=True)\n",
    "\n",
    "    # Ensure predictions are not negative\n",
    "    final_predictions['sales'] = np.maximum(0, final_predictions['sales'])\n",
    "\n",
    "    return final_predictions\n"
   ],
   "id": "ecbe84bfc6b7384f",
   "outputs": [],
   "execution_count": 46
  },
  {
   "metadata": {
    "ExecuteTime": {
     "end_time": "2025-02-02T16:52:22.086157Z",
     "start_time": "2025-02-02T16:45:46.545820Z"
    }
   },
   "cell_type": "code",
   "source": [
    "\n",
    "final_predictions = train_model(('store_nbr', 'family' , 'date' , 'sales', False))\n",
    "final_predictions.to_csv('results_forecasting.csv', index=False)"
   ],
   "id": "3f1a470b9dc8b561",
   "outputs": [],
   "execution_count": 47
  },
  {
   "metadata": {
    "ExecuteTime": {
     "end_time": "2025-02-02T17:17:29.009827Z",
     "start_time": "2025-02-02T17:17:28.391663Z"
    }
   },
   "cell_type": "code",
   "source": [
    "f_data = pd.read_csv('../results/results_forecasting.csv', parse_dates=['date'])\n",
    "store_nbr  = 3\n",
    "family = \"BEAUTY\"\n",
    "plot_func(f_data, data , store_nbr, family, f\"Forecasting for product family {family} in Store  {store_nbr}\")"
   ],
   "id": "e246809e457044b1",
   "outputs": [
    {
     "name": "stdout",
     "output_type": "stream",
     "text": [
      "mean squared logarithm error: 0.2812748711694583\n",
      "R Sccore model score: -0.003799784109187465\n",
      "mean absolute error: 4.966344112408586\n",
      "mean squared error: 40.064420289451725\n",
      "mase: 0.824799198880578\n"
     ]
    },
    {
     "data": {
      "application/vnd.plotly.v1+json": {
       "data": [
        {
         "name": "Train",
         "x": [
          "2013-01-01T00:00:00",
          "2013-01-05T00:00:00",
          "2013-01-12T00:00:00",
          "2013-02-11T00:00:00",
          "2013-02-12T00:00:00",
          "2013-03-02T00:00:00",
          "2013-04-01T00:00:00",
          "2013-04-12T00:00:00",
          "2013-04-14T00:00:00",
          "2013-04-21T00:00:00",
          "2013-04-29T00:00:00",
          "2013-05-01T00:00:00",
          "2013-05-11T00:00:00",
          "2013-05-12T00:00:00",
          "2013-05-24T00:00:00",
          "2013-06-23T00:00:00",
          "2013-06-25T00:00:00",
          "2013-07-03T00:00:00",
          "2013-07-23T00:00:00",
          "2013-07-24T00:00:00",
          "2013-07-25T00:00:00",
          "2013-08-05T00:00:00",
          "2013-08-10T00:00:00",
          "2013-08-15T00:00:00",
          "2013-08-24T00:00:00",
          "2013-09-28T00:00:00",
          "2013-10-07T00:00:00",
          "2013-10-09T00:00:00",
          "2013-10-11T00:00:00",
          "2013-11-02T00:00:00",
          "2013-11-03T00:00:00",
          "2013-11-06T00:00:00",
          "2013-11-07T00:00:00",
          "2013-11-10T00:00:00",
          "2013-11-11T00:00:00",
          "2013-11-12T00:00:00",
          "2013-12-05T00:00:00",
          "2013-12-06T00:00:00",
          "2013-12-08T00:00:00",
          "2013-12-21T00:00:00",
          "2013-12-22T00:00:00",
          "2013-12-23T00:00:00",
          "2013-12-24T00:00:00",
          "2013-12-26T00:00:00",
          "2013-12-31T00:00:00",
          "2014-01-01T00:00:00",
          "2014-03-02T00:00:00",
          "2014-03-03T00:00:00",
          "2014-03-04T00:00:00",
          "2014-04-01T00:00:00",
          "2014-04-12T00:00:00",
          "2014-04-14T00:00:00",
          "2014-04-18T00:00:00",
          "2014-04-21T00:00:00",
          "2014-05-01T00:00:00",
          "2014-05-10T00:00:00",
          "2014-05-11T00:00:00",
          "2014-05-12T00:00:00",
          "2014-05-24T00:00:00",
          "2014-06-12T00:00:00",
          "2014-06-15T00:00:00",
          "2014-06-20T00:00:00",
          "2014-06-23T00:00:00",
          "2014-06-25T00:00:00",
          "2014-06-28T00:00:00",
          "2014-06-29T00:00:00",
          "2014-06-30T00:00:00",
          "2014-07-01T00:00:00",
          "2014-07-03T00:00:00",
          "2014-07-04T00:00:00",
          "2014-07-05T00:00:00",
          "2014-07-08T00:00:00",
          "2014-07-09T00:00:00",
          "2014-07-12T00:00:00",
          "2014-07-13T00:00:00",
          "2014-07-23T00:00:00",
          "2014-07-24T00:00:00",
          "2014-07-25T00:00:00",
          "2014-08-05T00:00:00",
          "2014-08-10T00:00:00",
          "2014-08-15T00:00:00",
          "2014-08-24T00:00:00",
          "2014-09-28T00:00:00",
          "2014-10-07T00:00:00",
          "2014-10-09T00:00:00",
          "2014-10-10T00:00:00",
          "2014-11-02T00:00:00",
          "2014-11-03T00:00:00",
          "2014-11-06T00:00:00",
          "2014-11-07T00:00:00",
          "2014-11-10T00:00:00",
          "2014-11-11T00:00:00",
          "2014-11-12T00:00:00",
          "2014-11-28T00:00:00",
          "2014-12-01T00:00:00",
          "2014-12-05T00:00:00",
          "2014-12-06T00:00:00",
          "2014-12-08T00:00:00",
          "2014-12-20T00:00:00",
          "2014-12-21T00:00:00",
          "2014-12-22T00:00:00",
          "2014-12-23T00:00:00",
          "2014-12-24T00:00:00",
          "2014-12-26T00:00:00",
          "2014-12-31T00:00:00",
          "2015-01-01T00:00:00",
          "2015-01-02T00:00:00",
          "2015-01-10T00:00:00",
          "2015-02-16T00:00:00",
          "2015-02-17T00:00:00",
          "2015-03-02T00:00:00",
          "2015-04-01T00:00:00",
          "2015-04-03T00:00:00",
          "2015-04-12T00:00:00",
          "2015-04-14T00:00:00",
          "2015-04-21T00:00:00",
          "2015-05-01T00:00:00",
          "2015-05-09T00:00:00",
          "2015-05-10T00:00:00",
          "2015-05-12T00:00:00",
          "2015-05-24T00:00:00",
          "2015-06-23T00:00:00",
          "2015-06-25T00:00:00",
          "2015-07-03T00:00:00",
          "2015-07-23T00:00:00",
          "2015-07-24T00:00:00",
          "2015-07-25T00:00:00",
          "2015-08-05T00:00:00",
          "2015-08-10T00:00:00",
          "2015-08-15T00:00:00",
          "2015-08-24T00:00:00",
          "2015-09-28T00:00:00",
          "2015-10-07T00:00:00",
          "2015-10-09T00:00:00",
          "2015-11-02T00:00:00",
          "2015-11-03T00:00:00",
          "2015-11-06T00:00:00",
          "2015-11-07T00:00:00",
          "2015-11-10T00:00:00",
          "2015-11-11T00:00:00",
          "2015-11-12T00:00:00",
          "2015-11-27T00:00:00",
          "2015-11-30T00:00:00",
          "2015-12-05T00:00:00",
          "2015-12-06T00:00:00",
          "2015-12-08T00:00:00",
          "2015-12-21T00:00:00",
          "2015-12-22T00:00:00",
          "2015-12-23T00:00:00",
          "2015-12-24T00:00:00",
          "2015-12-26T00:00:00",
          "2015-12-31T00:00:00",
          "2016-01-01T00:00:00",
          "2016-02-08T00:00:00",
          "2016-02-09T00:00:00",
          "2016-03-02T00:00:00",
          "2016-03-25T00:00:00",
          "2016-04-01T00:00:00",
          "2016-04-12T00:00:00",
          "2016-04-14T00:00:00",
          "2016-04-16T00:00:00",
          "2016-04-17T00:00:00",
          "2016-04-18T00:00:00",
          "2016-04-19T00:00:00",
          "2016-04-20T00:00:00",
          "2016-04-21T00:00:00",
          "2016-04-22T00:00:00",
          "2016-04-23T00:00:00",
          "2016-04-24T00:00:00",
          "2016-04-25T00:00:00",
          "2016-04-26T00:00:00",
          "2016-04-27T00:00:00",
          "2016-04-28T00:00:00",
          "2016-04-29T00:00:00",
          "2016-04-30T00:00:00",
          "2016-05-01T00:00:00",
          "2016-05-02T00:00:00",
          "2016-05-03T00:00:00",
          "2016-05-04T00:00:00",
          "2016-05-05T00:00:00",
          "2016-05-06T00:00:00",
          "2016-05-07T00:00:00",
          "2016-05-08T00:00:00",
          "2016-05-09T00:00:00",
          "2016-05-10T00:00:00",
          "2016-05-11T00:00:00",
          "2016-05-12T00:00:00",
          "2016-05-13T00:00:00",
          "2016-05-14T00:00:00",
          "2016-05-15T00:00:00",
          "2016-05-16T00:00:00",
          "2016-05-24T00:00:00",
          "2016-05-27T00:00:00",
          "2016-06-23T00:00:00",
          "2016-06-25T00:00:00",
          "2016-07-03T00:00:00",
          "2016-07-23T00:00:00",
          "2016-07-24T00:00:00",
          "2016-07-25T00:00:00",
          "2016-08-05T00:00:00",
          "2016-08-10T00:00:00",
          "2016-08-12T00:00:00",
          "2016-08-15T00:00:00",
          "2016-08-24T00:00:00"
         ],
         "y": [
          0.0,
          8.0,
          6.0,
          4.0,
          12.0,
          11.0,
          7.0,
          6.0,
          9.0,
          11.0,
          5.0,
          6.0,
          6.0,
          6.0,
          5.0,
          12.0,
          2.0,
          5.0,
          7.0,
          7.0,
          8.0,
          6.0,
          14.0,
          5.0,
          8.0,
          12.0,
          7.0,
          9.0,
          10.0,
          2.0,
          7.0,
          7.0,
          4.0,
          11.0,
          3.0,
          4.0,
          5.0,
          5.0,
          13.0,
          7.0,
          11.0,
          5.0,
          5.0,
          16.0,
          6.0,
          0.0,
          11.0,
          10.0,
          12.0,
          3.0,
          9.0,
          4.0,
          6.0,
          8.0,
          11.0,
          7.0,
          4.0,
          5.0,
          7.0,
          4.0,
          5.0,
          1.0,
          7.0,
          5.0,
          6.0,
          10.0,
          10.0,
          12.0,
          10.0,
          8.0,
          11.0,
          9.0,
          11.0,
          12.0,
          13.0,
          10.0,
          6.0,
          6.0,
          4.0,
          16.0,
          3.0,
          10.0,
          10.0,
          9.0,
          6.0,
          10.0,
          8.0,
          11.0,
          1.0,
          7.0,
          6.0,
          5.0,
          8.0,
          3.0,
          10.0,
          4.0,
          12.0,
          7.0,
          14.0,
          21.0,
          9.0,
          14.0,
          4.0,
          15.0,
          11.0,
          0.0,
          10.0,
          10.0,
          11.0,
          12.0,
          7.0,
          9.0,
          5.0,
          14.0,
          5.0,
          8.0,
          11.0,
          34.0,
          6.0,
          8.0,
          20.0,
          10.0,
          3.0,
          4.0,
          4.0,
          2.0,
          3.0,
          10.0,
          10.0,
          6.0,
          10.0,
          3.0,
          5.0,
          9.0,
          13.0,
          20.0,
          12.0,
          18.0,
          6.0,
          9.0,
          7.0,
          9.0,
          14.0,
          16.0,
          30.0,
          4.0,
          16.0,
          15.0,
          17.0,
          6.0,
          15.0,
          5.0,
          0.0,
          9.0,
          7.0,
          10.0,
          14.0,
          8.0,
          10.0,
          5.0,
          17.0,
          17.0,
          10.0,
          31.0,
          22.0,
          4.0,
          18.0,
          15.0,
          28.0,
          6.0,
          6.0,
          10.0,
          8.0,
          9.0,
          13.0,
          26.0,
          8.0,
          9.0,
          12.0,
          13.0,
          7.0,
          18.0,
          9.0,
          18.0,
          12.0,
          15.0,
          12.0,
          8.0,
          22.0,
          17.0,
          11.0,
          12.0,
          16.0,
          5.0,
          16.0,
          23.0,
          13.0,
          22.0,
          8.0,
          8.0,
          18.0,
          22.0,
          19.0,
          16.0
         ],
         "type": "scatter"
        },
        {
         "name": "Test",
         "x": [
          "2016-09-28T00:00:00",
          "2016-10-07T00:00:00",
          "2016-10-09T00:00:00",
          "2016-11-02T00:00:00",
          "2016-11-03T00:00:00",
          "2016-11-04T00:00:00",
          "2016-11-06T00:00:00",
          "2016-11-07T00:00:00",
          "2016-11-10T00:00:00",
          "2016-11-11T00:00:00",
          "2016-11-12T00:00:00",
          "2016-11-25T00:00:00",
          "2016-11-28T00:00:00",
          "2016-12-05T00:00:00",
          "2016-12-06T00:00:00",
          "2016-12-08T00:00:00",
          "2016-12-21T00:00:00",
          "2016-12-22T00:00:00",
          "2016-12-23T00:00:00",
          "2016-12-24T00:00:00",
          "2016-12-26T00:00:00",
          "2016-12-31T00:00:00",
          "2017-01-01T00:00:00",
          "2017-01-02T00:00:00",
          "2017-02-27T00:00:00",
          "2017-02-28T00:00:00",
          "2017-03-02T00:00:00",
          "2017-04-01T00:00:00",
          "2017-04-12T00:00:00",
          "2017-04-13T00:00:00",
          "2017-04-14T00:00:00",
          "2017-04-21T00:00:00",
          "2017-05-01T00:00:00",
          "2017-05-12T00:00:00",
          "2017-05-13T00:00:00",
          "2017-05-14T00:00:00",
          "2017-05-24T00:00:00",
          "2017-05-26T00:00:00",
          "2017-06-23T00:00:00",
          "2017-06-25T00:00:00",
          "2017-07-03T00:00:00",
          "2017-07-23T00:00:00",
          "2017-07-24T00:00:00",
          "2017-07-25T00:00:00",
          "2017-08-05T00:00:00",
          "2017-08-10T00:00:00",
          "2017-08-11T00:00:00",
          "2017-08-15T00:00:00"
         ],
         "y": [
          26.0,
          18.0,
          19.0,
          30.0,
          21.0,
          23.0,
          28.0,
          21.0,
          11.0,
          17.0,
          20.0,
          18.0,
          13.0,
          12.0,
          27.0,
          12.0,
          16.0,
          15.0,
          15.0,
          13.0,
          13.0,
          13.0,
          0.0,
          27.0,
          5.0,
          11.0,
          9.0,
          24.0,
          28.0,
          11.0,
          14.0,
          15.0,
          15.0,
          12.0,
          21.0,
          15.0,
          9.0,
          10.0,
          10.0,
          27.0,
          18.0,
          19.0,
          16.0,
          16.0,
          20.0,
          16.0,
          13.0,
          13.0
         ],
         "type": "scatter"
        },
        {
         "name": "Forecast",
         "x": [
          "2016-09-28T00:00:00",
          "2016-10-07T00:00:00",
          "2016-10-09T00:00:00",
          "2016-11-02T00:00:00",
          "2016-11-03T00:00:00",
          "2016-11-04T00:00:00",
          "2016-11-06T00:00:00",
          "2016-11-07T00:00:00",
          "2016-11-10T00:00:00",
          "2016-11-11T00:00:00",
          "2016-11-12T00:00:00",
          "2016-11-25T00:00:00",
          "2016-11-28T00:00:00",
          "2016-12-05T00:00:00",
          "2016-12-06T00:00:00",
          "2016-12-08T00:00:00",
          "2016-12-21T00:00:00",
          "2016-12-22T00:00:00",
          "2016-12-23T00:00:00",
          "2016-12-24T00:00:00",
          "2016-12-26T00:00:00",
          "2016-12-31T00:00:00",
          "2017-01-01T00:00:00",
          "2017-01-02T00:00:00",
          "2017-02-27T00:00:00",
          "2017-02-28T00:00:00",
          "2017-03-02T00:00:00",
          "2017-04-01T00:00:00",
          "2017-04-12T00:00:00",
          "2017-04-13T00:00:00",
          "2017-04-14T00:00:00",
          "2017-04-21T00:00:00",
          "2017-05-01T00:00:00",
          "2017-05-12T00:00:00",
          "2017-05-13T00:00:00",
          "2017-05-14T00:00:00",
          "2017-05-24T00:00:00",
          "2017-05-26T00:00:00",
          "2017-06-23T00:00:00",
          "2017-06-25T00:00:00",
          "2017-07-03T00:00:00",
          "2017-07-23T00:00:00",
          "2017-07-24T00:00:00",
          "2017-07-25T00:00:00",
          "2017-08-05T00:00:00",
          "2017-08-10T00:00:00",
          "2017-08-11T00:00:00",
          "2017-08-15T00:00:00"
         ],
         "y": [
          16.173064674451517,
          16.173064674451517,
          16.173064674451517,
          16.173064674451517,
          16.173064674451517,
          16.173064674451517,
          16.173064674451517,
          16.173064674451517,
          16.173064674451517,
          16.173064674451517,
          16.173064674451517,
          16.173064674451517,
          16.173064674451517,
          16.173064674451517,
          16.173064674451517,
          16.173064674451517,
          16.173064674451517,
          16.173064674451517,
          16.173064674451517,
          16.173064674451517,
          16.173064674451517,
          16.173064674451517,
          16.173064674451517,
          16.173064674451517,
          16.173064674451517,
          16.173064674451517,
          16.173064674451517,
          16.173064674451517,
          16.173064674451517,
          16.173064674451517,
          16.173064674451517,
          16.173064674451517,
          16.173064674451517,
          16.173064674451517,
          16.173064674451517,
          16.173064674451517,
          16.173064674451517,
          16.173064674451517,
          16.173064674451517,
          16.173064674451517,
          16.173064674451517,
          16.173064674451517,
          16.173064674451517,
          16.173064674451517,
          16.173064674451517,
          16.173064674451517,
          16.173064674451517,
          16.173064674451517
         ],
         "type": "scatter"
        }
       ],
       "layout": {
        "template": {
         "data": {
          "barpolar": [
           {
            "marker": {
             "line": {
              "color": "white",
              "width": 0.5
             },
             "pattern": {
              "fillmode": "overlay",
              "size": 10,
              "solidity": 0.2
             }
            },
            "type": "barpolar"
           }
          ],
          "bar": [
           {
            "error_x": {
             "color": "rgb(36,36,36)"
            },
            "error_y": {
             "color": "rgb(36,36,36)"
            },
            "marker": {
             "line": {
              "color": "white",
              "width": 0.5
             },
             "pattern": {
              "fillmode": "overlay",
              "size": 10,
              "solidity": 0.2
             }
            },
            "type": "bar"
           }
          ],
          "carpet": [
           {
            "aaxis": {
             "endlinecolor": "rgb(36,36,36)",
             "gridcolor": "white",
             "linecolor": "white",
             "minorgridcolor": "white",
             "startlinecolor": "rgb(36,36,36)"
            },
            "baxis": {
             "endlinecolor": "rgb(36,36,36)",
             "gridcolor": "white",
             "linecolor": "white",
             "minorgridcolor": "white",
             "startlinecolor": "rgb(36,36,36)"
            },
            "type": "carpet"
           }
          ],
          "choropleth": [
           {
            "colorbar": {
             "outlinewidth": 1,
             "tickcolor": "rgb(36,36,36)",
             "ticks": "outside"
            },
            "type": "choropleth"
           }
          ],
          "contourcarpet": [
           {
            "colorbar": {
             "outlinewidth": 1,
             "tickcolor": "rgb(36,36,36)",
             "ticks": "outside"
            },
            "type": "contourcarpet"
           }
          ],
          "contour": [
           {
            "colorbar": {
             "outlinewidth": 1,
             "tickcolor": "rgb(36,36,36)",
             "ticks": "outside"
            },
            "colorscale": [
             [
              0.0,
              "#440154"
             ],
             [
              0.1111111111111111,
              "#482878"
             ],
             [
              0.2222222222222222,
              "#3e4989"
             ],
             [
              0.3333333333333333,
              "#31688e"
             ],
             [
              0.4444444444444444,
              "#26828e"
             ],
             [
              0.5555555555555556,
              "#1f9e89"
             ],
             [
              0.6666666666666666,
              "#35b779"
             ],
             [
              0.7777777777777778,
              "#6ece58"
             ],
             [
              0.8888888888888888,
              "#b5de2b"
             ],
             [
              1.0,
              "#fde725"
             ]
            ],
            "type": "contour"
           }
          ],
          "heatmapgl": [
           {
            "colorbar": {
             "outlinewidth": 1,
             "tickcolor": "rgb(36,36,36)",
             "ticks": "outside"
            },
            "colorscale": [
             [
              0.0,
              "#440154"
             ],
             [
              0.1111111111111111,
              "#482878"
             ],
             [
              0.2222222222222222,
              "#3e4989"
             ],
             [
              0.3333333333333333,
              "#31688e"
             ],
             [
              0.4444444444444444,
              "#26828e"
             ],
             [
              0.5555555555555556,
              "#1f9e89"
             ],
             [
              0.6666666666666666,
              "#35b779"
             ],
             [
              0.7777777777777778,
              "#6ece58"
             ],
             [
              0.8888888888888888,
              "#b5de2b"
             ],
             [
              1.0,
              "#fde725"
             ]
            ],
            "type": "heatmapgl"
           }
          ],
          "heatmap": [
           {
            "colorbar": {
             "outlinewidth": 1,
             "tickcolor": "rgb(36,36,36)",
             "ticks": "outside"
            },
            "colorscale": [
             [
              0.0,
              "#440154"
             ],
             [
              0.1111111111111111,
              "#482878"
             ],
             [
              0.2222222222222222,
              "#3e4989"
             ],
             [
              0.3333333333333333,
              "#31688e"
             ],
             [
              0.4444444444444444,
              "#26828e"
             ],
             [
              0.5555555555555556,
              "#1f9e89"
             ],
             [
              0.6666666666666666,
              "#35b779"
             ],
             [
              0.7777777777777778,
              "#6ece58"
             ],
             [
              0.8888888888888888,
              "#b5de2b"
             ],
             [
              1.0,
              "#fde725"
             ]
            ],
            "type": "heatmap"
           }
          ],
          "histogram2dcontour": [
           {
            "colorbar": {
             "outlinewidth": 1,
             "tickcolor": "rgb(36,36,36)",
             "ticks": "outside"
            },
            "colorscale": [
             [
              0.0,
              "#440154"
             ],
             [
              0.1111111111111111,
              "#482878"
             ],
             [
              0.2222222222222222,
              "#3e4989"
             ],
             [
              0.3333333333333333,
              "#31688e"
             ],
             [
              0.4444444444444444,
              "#26828e"
             ],
             [
              0.5555555555555556,
              "#1f9e89"
             ],
             [
              0.6666666666666666,
              "#35b779"
             ],
             [
              0.7777777777777778,
              "#6ece58"
             ],
             [
              0.8888888888888888,
              "#b5de2b"
             ],
             [
              1.0,
              "#fde725"
             ]
            ],
            "type": "histogram2dcontour"
           }
          ],
          "histogram2d": [
           {
            "colorbar": {
             "outlinewidth": 1,
             "tickcolor": "rgb(36,36,36)",
             "ticks": "outside"
            },
            "colorscale": [
             [
              0.0,
              "#440154"
             ],
             [
              0.1111111111111111,
              "#482878"
             ],
             [
              0.2222222222222222,
              "#3e4989"
             ],
             [
              0.3333333333333333,
              "#31688e"
             ],
             [
              0.4444444444444444,
              "#26828e"
             ],
             [
              0.5555555555555556,
              "#1f9e89"
             ],
             [
              0.6666666666666666,
              "#35b779"
             ],
             [
              0.7777777777777778,
              "#6ece58"
             ],
             [
              0.8888888888888888,
              "#b5de2b"
             ],
             [
              1.0,
              "#fde725"
             ]
            ],
            "type": "histogram2d"
           }
          ],
          "histogram": [
           {
            "marker": {
             "line": {
              "color": "white",
              "width": 0.6
             }
            },
            "type": "histogram"
           }
          ],
          "mesh3d": [
           {
            "colorbar": {
             "outlinewidth": 1,
             "tickcolor": "rgb(36,36,36)",
             "ticks": "outside"
            },
            "type": "mesh3d"
           }
          ],
          "parcoords": [
           {
            "line": {
             "colorbar": {
              "outlinewidth": 1,
              "tickcolor": "rgb(36,36,36)",
              "ticks": "outside"
             }
            },
            "type": "parcoords"
           }
          ],
          "pie": [
           {
            "automargin": true,
            "type": "pie"
           }
          ],
          "scatter3d": [
           {
            "line": {
             "colorbar": {
              "outlinewidth": 1,
              "tickcolor": "rgb(36,36,36)",
              "ticks": "outside"
             }
            },
            "marker": {
             "colorbar": {
              "outlinewidth": 1,
              "tickcolor": "rgb(36,36,36)",
              "ticks": "outside"
             }
            },
            "type": "scatter3d"
           }
          ],
          "scattercarpet": [
           {
            "marker": {
             "colorbar": {
              "outlinewidth": 1,
              "tickcolor": "rgb(36,36,36)",
              "ticks": "outside"
             }
            },
            "type": "scattercarpet"
           }
          ],
          "scattergeo": [
           {
            "marker": {
             "colorbar": {
              "outlinewidth": 1,
              "tickcolor": "rgb(36,36,36)",
              "ticks": "outside"
             }
            },
            "type": "scattergeo"
           }
          ],
          "scattergl": [
           {
            "marker": {
             "colorbar": {
              "outlinewidth": 1,
              "tickcolor": "rgb(36,36,36)",
              "ticks": "outside"
             }
            },
            "type": "scattergl"
           }
          ],
          "scattermapbox": [
           {
            "marker": {
             "colorbar": {
              "outlinewidth": 1,
              "tickcolor": "rgb(36,36,36)",
              "ticks": "outside"
             }
            },
            "type": "scattermapbox"
           }
          ],
          "scatterpolargl": [
           {
            "marker": {
             "colorbar": {
              "outlinewidth": 1,
              "tickcolor": "rgb(36,36,36)",
              "ticks": "outside"
             }
            },
            "type": "scatterpolargl"
           }
          ],
          "scatterpolar": [
           {
            "marker": {
             "colorbar": {
              "outlinewidth": 1,
              "tickcolor": "rgb(36,36,36)",
              "ticks": "outside"
             }
            },
            "type": "scatterpolar"
           }
          ],
          "scatter": [
           {
            "fillpattern": {
             "fillmode": "overlay",
             "size": 10,
             "solidity": 0.2
            },
            "type": "scatter"
           }
          ],
          "scatterternary": [
           {
            "marker": {
             "colorbar": {
              "outlinewidth": 1,
              "tickcolor": "rgb(36,36,36)",
              "ticks": "outside"
             }
            },
            "type": "scatterternary"
           }
          ],
          "surface": [
           {
            "colorbar": {
             "outlinewidth": 1,
             "tickcolor": "rgb(36,36,36)",
             "ticks": "outside"
            },
            "colorscale": [
             [
              0.0,
              "#440154"
             ],
             [
              0.1111111111111111,
              "#482878"
             ],
             [
              0.2222222222222222,
              "#3e4989"
             ],
             [
              0.3333333333333333,
              "#31688e"
             ],
             [
              0.4444444444444444,
              "#26828e"
             ],
             [
              0.5555555555555556,
              "#1f9e89"
             ],
             [
              0.6666666666666666,
              "#35b779"
             ],
             [
              0.7777777777777778,
              "#6ece58"
             ],
             [
              0.8888888888888888,
              "#b5de2b"
             ],
             [
              1.0,
              "#fde725"
             ]
            ],
            "type": "surface"
           }
          ],
          "table": [
           {
            "cells": {
             "fill": {
              "color": "rgb(237,237,237)"
             },
             "line": {
              "color": "white"
             }
            },
            "header": {
             "fill": {
              "color": "rgb(217,217,217)"
             },
             "line": {
              "color": "white"
             }
            },
            "type": "table"
           }
          ]
         },
         "layout": {
          "annotationdefaults": {
           "arrowhead": 0,
           "arrowwidth": 1
          },
          "autotypenumbers": "strict",
          "coloraxis": {
           "colorbar": {
            "outlinewidth": 1,
            "tickcolor": "rgb(36,36,36)",
            "ticks": "outside"
           }
          },
          "colorscale": {
           "diverging": [
            [
             0.0,
             "rgb(103,0,31)"
            ],
            [
             0.1,
             "rgb(178,24,43)"
            ],
            [
             0.2,
             "rgb(214,96,77)"
            ],
            [
             0.3,
             "rgb(244,165,130)"
            ],
            [
             0.4,
             "rgb(253,219,199)"
            ],
            [
             0.5,
             "rgb(247,247,247)"
            ],
            [
             0.6,
             "rgb(209,229,240)"
            ],
            [
             0.7,
             "rgb(146,197,222)"
            ],
            [
             0.8,
             "rgb(67,147,195)"
            ],
            [
             0.9,
             "rgb(33,102,172)"
            ],
            [
             1.0,
             "rgb(5,48,97)"
            ]
           ],
           "sequential": [
            [
             0.0,
             "#440154"
            ],
            [
             0.1111111111111111,
             "#482878"
            ],
            [
             0.2222222222222222,
             "#3e4989"
            ],
            [
             0.3333333333333333,
             "#31688e"
            ],
            [
             0.4444444444444444,
             "#26828e"
            ],
            [
             0.5555555555555556,
             "#1f9e89"
            ],
            [
             0.6666666666666666,
             "#35b779"
            ],
            [
             0.7777777777777778,
             "#6ece58"
            ],
            [
             0.8888888888888888,
             "#b5de2b"
            ],
            [
             1.0,
             "#fde725"
            ]
           ],
           "sequentialminus": [
            [
             0.0,
             "#440154"
            ],
            [
             0.1111111111111111,
             "#482878"
            ],
            [
             0.2222222222222222,
             "#3e4989"
            ],
            [
             0.3333333333333333,
             "#31688e"
            ],
            [
             0.4444444444444444,
             "#26828e"
            ],
            [
             0.5555555555555556,
             "#1f9e89"
            ],
            [
             0.6666666666666666,
             "#35b779"
            ],
            [
             0.7777777777777778,
             "#6ece58"
            ],
            [
             0.8888888888888888,
             "#b5de2b"
            ],
            [
             1.0,
             "#fde725"
            ]
           ]
          },
          "colorway": [
           "#1F77B4",
           "#FF7F0E",
           "#2CA02C",
           "#D62728",
           "#9467BD",
           "#8C564B",
           "#E377C2",
           "#7F7F7F",
           "#BCBD22",
           "#17BECF"
          ],
          "font": {
           "color": "rgb(36,36,36)"
          },
          "geo": {
           "bgcolor": "white",
           "lakecolor": "white",
           "landcolor": "white",
           "showlakes": true,
           "showland": true,
           "subunitcolor": "white"
          },
          "hoverlabel": {
           "align": "left"
          },
          "hovermode": "closest",
          "mapbox": {
           "style": "light"
          },
          "paper_bgcolor": "white",
          "plot_bgcolor": "white",
          "polar": {
           "angularaxis": {
            "gridcolor": "rgb(232,232,232)",
            "linecolor": "rgb(36,36,36)",
            "showgrid": false,
            "showline": true,
            "ticks": "outside"
           },
           "bgcolor": "white",
           "radialaxis": {
            "gridcolor": "rgb(232,232,232)",
            "linecolor": "rgb(36,36,36)",
            "showgrid": false,
            "showline": true,
            "ticks": "outside"
           }
          },
          "scene": {
           "xaxis": {
            "backgroundcolor": "white",
            "gridcolor": "rgb(232,232,232)",
            "gridwidth": 2,
            "linecolor": "rgb(36,36,36)",
            "showbackground": true,
            "showgrid": false,
            "showline": true,
            "ticks": "outside",
            "zeroline": false,
            "zerolinecolor": "rgb(36,36,36)"
           },
           "yaxis": {
            "backgroundcolor": "white",
            "gridcolor": "rgb(232,232,232)",
            "gridwidth": 2,
            "linecolor": "rgb(36,36,36)",
            "showbackground": true,
            "showgrid": false,
            "showline": true,
            "ticks": "outside",
            "zeroline": false,
            "zerolinecolor": "rgb(36,36,36)"
           },
           "zaxis": {
            "backgroundcolor": "white",
            "gridcolor": "rgb(232,232,232)",
            "gridwidth": 2,
            "linecolor": "rgb(36,36,36)",
            "showbackground": true,
            "showgrid": false,
            "showline": true,
            "ticks": "outside",
            "zeroline": false,
            "zerolinecolor": "rgb(36,36,36)"
           }
          },
          "shapedefaults": {
           "fillcolor": "black",
           "line": {
            "width": 0
           },
           "opacity": 0.3
          },
          "ternary": {
           "aaxis": {
            "gridcolor": "rgb(232,232,232)",
            "linecolor": "rgb(36,36,36)",
            "showgrid": false,
            "showline": true,
            "ticks": "outside"
           },
           "baxis": {
            "gridcolor": "rgb(232,232,232)",
            "linecolor": "rgb(36,36,36)",
            "showgrid": false,
            "showline": true,
            "ticks": "outside"
           },
           "bgcolor": "white",
           "caxis": {
            "gridcolor": "rgb(232,232,232)",
            "linecolor": "rgb(36,36,36)",
            "showgrid": false,
            "showline": true,
            "ticks": "outside"
           }
          },
          "title": {
           "x": 0.05
          },
          "xaxis": {
           "automargin": true,
           "gridcolor": "rgb(232,232,232)",
           "linecolor": "rgb(36,36,36)",
           "showgrid": false,
           "showline": true,
           "ticks": "outside",
           "title": {
            "standoff": 15
           },
           "zeroline": false,
           "zerolinecolor": "rgb(36,36,36)"
          },
          "yaxis": {
           "automargin": true,
           "gridcolor": "rgb(232,232,232)",
           "linecolor": "rgb(36,36,36)",
           "showgrid": false,
           "showline": true,
           "ticks": "outside",
           "title": {
            "standoff": 15
           },
           "zeroline": false,
           "zerolinecolor": "rgb(36,36,36)"
          }
         }
        },
        "font": {
         "size": 10
        },
        "title": {
         "text": "Forecasting for product family BEAUTY in Store  3"
        },
        "xaxis": {
         "title": {
          "text": "date"
         }
        },
        "yaxis": {
         "title": {
          "text": "Sales"
         }
        },
        "width": 750
       },
       "config": {
        "plotlyServerURL": "https://plot.ly"
       }
      },
      "text/html": [
       "<div>                            <div id=\"50ce221a-5438-468e-98ef-ad05afbf4247\" class=\"plotly-graph-div\" style=\"height:525px; width:750px;\"></div>            <script type=\"text/javascript\">                require([\"plotly\"], function(Plotly) {                    window.PLOTLYENV=window.PLOTLYENV || {};                                    if (document.getElementById(\"50ce221a-5438-468e-98ef-ad05afbf4247\")) {                    Plotly.newPlot(                        \"50ce221a-5438-468e-98ef-ad05afbf4247\",                        [{\"name\":\"Train\",\"x\":[\"2013-01-01T00:00:00\",\"2013-01-05T00:00:00\",\"2013-01-12T00:00:00\",\"2013-02-11T00:00:00\",\"2013-02-12T00:00:00\",\"2013-03-02T00:00:00\",\"2013-04-01T00:00:00\",\"2013-04-12T00:00:00\",\"2013-04-14T00:00:00\",\"2013-04-21T00:00:00\",\"2013-04-29T00:00:00\",\"2013-05-01T00:00:00\",\"2013-05-11T00:00:00\",\"2013-05-12T00:00:00\",\"2013-05-24T00:00:00\",\"2013-06-23T00:00:00\",\"2013-06-25T00:00:00\",\"2013-07-03T00:00:00\",\"2013-07-23T00:00:00\",\"2013-07-24T00:00:00\",\"2013-07-25T00:00:00\",\"2013-08-05T00:00:00\",\"2013-08-10T00:00:00\",\"2013-08-15T00:00:00\",\"2013-08-24T00:00:00\",\"2013-09-28T00:00:00\",\"2013-10-07T00:00:00\",\"2013-10-09T00:00:00\",\"2013-10-11T00:00:00\",\"2013-11-02T00:00:00\",\"2013-11-03T00:00:00\",\"2013-11-06T00:00:00\",\"2013-11-07T00:00:00\",\"2013-11-10T00:00:00\",\"2013-11-11T00:00:00\",\"2013-11-12T00:00:00\",\"2013-12-05T00:00:00\",\"2013-12-06T00:00:00\",\"2013-12-08T00:00:00\",\"2013-12-21T00:00:00\",\"2013-12-22T00:00:00\",\"2013-12-23T00:00:00\",\"2013-12-24T00:00:00\",\"2013-12-26T00:00:00\",\"2013-12-31T00:00:00\",\"2014-01-01T00:00:00\",\"2014-03-02T00:00:00\",\"2014-03-03T00:00:00\",\"2014-03-04T00:00:00\",\"2014-04-01T00:00:00\",\"2014-04-12T00:00:00\",\"2014-04-14T00:00:00\",\"2014-04-18T00:00:00\",\"2014-04-21T00:00:00\",\"2014-05-01T00:00:00\",\"2014-05-10T00:00:00\",\"2014-05-11T00:00:00\",\"2014-05-12T00:00:00\",\"2014-05-24T00:00:00\",\"2014-06-12T00:00:00\",\"2014-06-15T00:00:00\",\"2014-06-20T00:00:00\",\"2014-06-23T00:00:00\",\"2014-06-25T00:00:00\",\"2014-06-28T00:00:00\",\"2014-06-29T00:00:00\",\"2014-06-30T00:00:00\",\"2014-07-01T00:00:00\",\"2014-07-03T00:00:00\",\"2014-07-04T00:00:00\",\"2014-07-05T00:00:00\",\"2014-07-08T00:00:00\",\"2014-07-09T00:00:00\",\"2014-07-12T00:00:00\",\"2014-07-13T00:00:00\",\"2014-07-23T00:00:00\",\"2014-07-24T00:00:00\",\"2014-07-25T00:00:00\",\"2014-08-05T00:00:00\",\"2014-08-10T00:00:00\",\"2014-08-15T00:00:00\",\"2014-08-24T00:00:00\",\"2014-09-28T00:00:00\",\"2014-10-07T00:00:00\",\"2014-10-09T00:00:00\",\"2014-10-10T00:00:00\",\"2014-11-02T00:00:00\",\"2014-11-03T00:00:00\",\"2014-11-06T00:00:00\",\"2014-11-07T00:00:00\",\"2014-11-10T00:00:00\",\"2014-11-11T00:00:00\",\"2014-11-12T00:00:00\",\"2014-11-28T00:00:00\",\"2014-12-01T00:00:00\",\"2014-12-05T00:00:00\",\"2014-12-06T00:00:00\",\"2014-12-08T00:00:00\",\"2014-12-20T00:00:00\",\"2014-12-21T00:00:00\",\"2014-12-22T00:00:00\",\"2014-12-23T00:00:00\",\"2014-12-24T00:00:00\",\"2014-12-26T00:00:00\",\"2014-12-31T00:00:00\",\"2015-01-01T00:00:00\",\"2015-01-02T00:00:00\",\"2015-01-10T00:00:00\",\"2015-02-16T00:00:00\",\"2015-02-17T00:00:00\",\"2015-03-02T00:00:00\",\"2015-04-01T00:00:00\",\"2015-04-03T00:00:00\",\"2015-04-12T00:00:00\",\"2015-04-14T00:00:00\",\"2015-04-21T00:00:00\",\"2015-05-01T00:00:00\",\"2015-05-09T00:00:00\",\"2015-05-10T00:00:00\",\"2015-05-12T00:00:00\",\"2015-05-24T00:00:00\",\"2015-06-23T00:00:00\",\"2015-06-25T00:00:00\",\"2015-07-03T00:00:00\",\"2015-07-23T00:00:00\",\"2015-07-24T00:00:00\",\"2015-07-25T00:00:00\",\"2015-08-05T00:00:00\",\"2015-08-10T00:00:00\",\"2015-08-15T00:00:00\",\"2015-08-24T00:00:00\",\"2015-09-28T00:00:00\",\"2015-10-07T00:00:00\",\"2015-10-09T00:00:00\",\"2015-11-02T00:00:00\",\"2015-11-03T00:00:00\",\"2015-11-06T00:00:00\",\"2015-11-07T00:00:00\",\"2015-11-10T00:00:00\",\"2015-11-11T00:00:00\",\"2015-11-12T00:00:00\",\"2015-11-27T00:00:00\",\"2015-11-30T00:00:00\",\"2015-12-05T00:00:00\",\"2015-12-06T00:00:00\",\"2015-12-08T00:00:00\",\"2015-12-21T00:00:00\",\"2015-12-22T00:00:00\",\"2015-12-23T00:00:00\",\"2015-12-24T00:00:00\",\"2015-12-26T00:00:00\",\"2015-12-31T00:00:00\",\"2016-01-01T00:00:00\",\"2016-02-08T00:00:00\",\"2016-02-09T00:00:00\",\"2016-03-02T00:00:00\",\"2016-03-25T00:00:00\",\"2016-04-01T00:00:00\",\"2016-04-12T00:00:00\",\"2016-04-14T00:00:00\",\"2016-04-16T00:00:00\",\"2016-04-17T00:00:00\",\"2016-04-18T00:00:00\",\"2016-04-19T00:00:00\",\"2016-04-20T00:00:00\",\"2016-04-21T00:00:00\",\"2016-04-22T00:00:00\",\"2016-04-23T00:00:00\",\"2016-04-24T00:00:00\",\"2016-04-25T00:00:00\",\"2016-04-26T00:00:00\",\"2016-04-27T00:00:00\",\"2016-04-28T00:00:00\",\"2016-04-29T00:00:00\",\"2016-04-30T00:00:00\",\"2016-05-01T00:00:00\",\"2016-05-02T00:00:00\",\"2016-05-03T00:00:00\",\"2016-05-04T00:00:00\",\"2016-05-05T00:00:00\",\"2016-05-06T00:00:00\",\"2016-05-07T00:00:00\",\"2016-05-08T00:00:00\",\"2016-05-09T00:00:00\",\"2016-05-10T00:00:00\",\"2016-05-11T00:00:00\",\"2016-05-12T00:00:00\",\"2016-05-13T00:00:00\",\"2016-05-14T00:00:00\",\"2016-05-15T00:00:00\",\"2016-05-16T00:00:00\",\"2016-05-24T00:00:00\",\"2016-05-27T00:00:00\",\"2016-06-23T00:00:00\",\"2016-06-25T00:00:00\",\"2016-07-03T00:00:00\",\"2016-07-23T00:00:00\",\"2016-07-24T00:00:00\",\"2016-07-25T00:00:00\",\"2016-08-05T00:00:00\",\"2016-08-10T00:00:00\",\"2016-08-12T00:00:00\",\"2016-08-15T00:00:00\",\"2016-08-24T00:00:00\"],\"y\":[0.0,8.0,6.0,4.0,12.0,11.0,7.0,6.0,9.0,11.0,5.0,6.0,6.0,6.0,5.0,12.0,2.0,5.0,7.0,7.0,8.0,6.0,14.0,5.0,8.0,12.0,7.0,9.0,10.0,2.0,7.0,7.0,4.0,11.0,3.0,4.0,5.0,5.0,13.0,7.0,11.0,5.0,5.0,16.0,6.0,0.0,11.0,10.0,12.0,3.0,9.0,4.0,6.0,8.0,11.0,7.0,4.0,5.0,7.0,4.0,5.0,1.0,7.0,5.0,6.0,10.0,10.0,12.0,10.0,8.0,11.0,9.0,11.0,12.0,13.0,10.0,6.0,6.0,4.0,16.0,3.0,10.0,10.0,9.0,6.0,10.0,8.0,11.0,1.0,7.0,6.0,5.0,8.0,3.0,10.0,4.0,12.0,7.0,14.0,21.0,9.0,14.0,4.0,15.0,11.0,0.0,10.0,10.0,11.0,12.0,7.0,9.0,5.0,14.0,5.0,8.0,11.0,34.0,6.0,8.0,20.0,10.0,3.0,4.0,4.0,2.0,3.0,10.0,10.0,6.0,10.0,3.0,5.0,9.0,13.0,20.0,12.0,18.0,6.0,9.0,7.0,9.0,14.0,16.0,30.0,4.0,16.0,15.0,17.0,6.0,15.0,5.0,0.0,9.0,7.0,10.0,14.0,8.0,10.0,5.0,17.0,17.0,10.0,31.0,22.0,4.0,18.0,15.0,28.0,6.0,6.0,10.0,8.0,9.0,13.0,26.0,8.0,9.0,12.0,13.0,7.0,18.0,9.0,18.0,12.0,15.0,12.0,8.0,22.0,17.0,11.0,12.0,16.0,5.0,16.0,23.0,13.0,22.0,8.0,8.0,18.0,22.0,19.0,16.0],\"type\":\"scatter\"},{\"name\":\"Test\",\"x\":[\"2016-09-28T00:00:00\",\"2016-10-07T00:00:00\",\"2016-10-09T00:00:00\",\"2016-11-02T00:00:00\",\"2016-11-03T00:00:00\",\"2016-11-04T00:00:00\",\"2016-11-06T00:00:00\",\"2016-11-07T00:00:00\",\"2016-11-10T00:00:00\",\"2016-11-11T00:00:00\",\"2016-11-12T00:00:00\",\"2016-11-25T00:00:00\",\"2016-11-28T00:00:00\",\"2016-12-05T00:00:00\",\"2016-12-06T00:00:00\",\"2016-12-08T00:00:00\",\"2016-12-21T00:00:00\",\"2016-12-22T00:00:00\",\"2016-12-23T00:00:00\",\"2016-12-24T00:00:00\",\"2016-12-26T00:00:00\",\"2016-12-31T00:00:00\",\"2017-01-01T00:00:00\",\"2017-01-02T00:00:00\",\"2017-02-27T00:00:00\",\"2017-02-28T00:00:00\",\"2017-03-02T00:00:00\",\"2017-04-01T00:00:00\",\"2017-04-12T00:00:00\",\"2017-04-13T00:00:00\",\"2017-04-14T00:00:00\",\"2017-04-21T00:00:00\",\"2017-05-01T00:00:00\",\"2017-05-12T00:00:00\",\"2017-05-13T00:00:00\",\"2017-05-14T00:00:00\",\"2017-05-24T00:00:00\",\"2017-05-26T00:00:00\",\"2017-06-23T00:00:00\",\"2017-06-25T00:00:00\",\"2017-07-03T00:00:00\",\"2017-07-23T00:00:00\",\"2017-07-24T00:00:00\",\"2017-07-25T00:00:00\",\"2017-08-05T00:00:00\",\"2017-08-10T00:00:00\",\"2017-08-11T00:00:00\",\"2017-08-15T00:00:00\"],\"y\":[26.0,18.0,19.0,30.0,21.0,23.0,28.0,21.0,11.0,17.0,20.0,18.0,13.0,12.0,27.0,12.0,16.0,15.0,15.0,13.0,13.0,13.0,0.0,27.0,5.0,11.0,9.0,24.0,28.0,11.0,14.0,15.0,15.0,12.0,21.0,15.0,9.0,10.0,10.0,27.0,18.0,19.0,16.0,16.0,20.0,16.0,13.0,13.0],\"type\":\"scatter\"},{\"name\":\"Forecast\",\"x\":[\"2016-09-28T00:00:00\",\"2016-10-07T00:00:00\",\"2016-10-09T00:00:00\",\"2016-11-02T00:00:00\",\"2016-11-03T00:00:00\",\"2016-11-04T00:00:00\",\"2016-11-06T00:00:00\",\"2016-11-07T00:00:00\",\"2016-11-10T00:00:00\",\"2016-11-11T00:00:00\",\"2016-11-12T00:00:00\",\"2016-11-25T00:00:00\",\"2016-11-28T00:00:00\",\"2016-12-05T00:00:00\",\"2016-12-06T00:00:00\",\"2016-12-08T00:00:00\",\"2016-12-21T00:00:00\",\"2016-12-22T00:00:00\",\"2016-12-23T00:00:00\",\"2016-12-24T00:00:00\",\"2016-12-26T00:00:00\",\"2016-12-31T00:00:00\",\"2017-01-01T00:00:00\",\"2017-01-02T00:00:00\",\"2017-02-27T00:00:00\",\"2017-02-28T00:00:00\",\"2017-03-02T00:00:00\",\"2017-04-01T00:00:00\",\"2017-04-12T00:00:00\",\"2017-04-13T00:00:00\",\"2017-04-14T00:00:00\",\"2017-04-21T00:00:00\",\"2017-05-01T00:00:00\",\"2017-05-12T00:00:00\",\"2017-05-13T00:00:00\",\"2017-05-14T00:00:00\",\"2017-05-24T00:00:00\",\"2017-05-26T00:00:00\",\"2017-06-23T00:00:00\",\"2017-06-25T00:00:00\",\"2017-07-03T00:00:00\",\"2017-07-23T00:00:00\",\"2017-07-24T00:00:00\",\"2017-07-25T00:00:00\",\"2017-08-05T00:00:00\",\"2017-08-10T00:00:00\",\"2017-08-11T00:00:00\",\"2017-08-15T00:00:00\"],\"y\":[16.173064674451517,16.173064674451517,16.173064674451517,16.173064674451517,16.173064674451517,16.173064674451517,16.173064674451517,16.173064674451517,16.173064674451517,16.173064674451517,16.173064674451517,16.173064674451517,16.173064674451517,16.173064674451517,16.173064674451517,16.173064674451517,16.173064674451517,16.173064674451517,16.173064674451517,16.173064674451517,16.173064674451517,16.173064674451517,16.173064674451517,16.173064674451517,16.173064674451517,16.173064674451517,16.173064674451517,16.173064674451517,16.173064674451517,16.173064674451517,16.173064674451517,16.173064674451517,16.173064674451517,16.173064674451517,16.173064674451517,16.173064674451517,16.173064674451517,16.173064674451517,16.173064674451517,16.173064674451517,16.173064674451517,16.173064674451517,16.173064674451517,16.173064674451517,16.173064674451517,16.173064674451517,16.173064674451517,16.173064674451517],\"type\":\"scatter\"}],                        {\"template\":{\"data\":{\"barpolar\":[{\"marker\":{\"line\":{\"color\":\"white\",\"width\":0.5},\"pattern\":{\"fillmode\":\"overlay\",\"size\":10,\"solidity\":0.2}},\"type\":\"barpolar\"}],\"bar\":[{\"error_x\":{\"color\":\"rgb(36,36,36)\"},\"error_y\":{\"color\":\"rgb(36,36,36)\"},\"marker\":{\"line\":{\"color\":\"white\",\"width\":0.5},\"pattern\":{\"fillmode\":\"overlay\",\"size\":10,\"solidity\":0.2}},\"type\":\"bar\"}],\"carpet\":[{\"aaxis\":{\"endlinecolor\":\"rgb(36,36,36)\",\"gridcolor\":\"white\",\"linecolor\":\"white\",\"minorgridcolor\":\"white\",\"startlinecolor\":\"rgb(36,36,36)\"},\"baxis\":{\"endlinecolor\":\"rgb(36,36,36)\",\"gridcolor\":\"white\",\"linecolor\":\"white\",\"minorgridcolor\":\"white\",\"startlinecolor\":\"rgb(36,36,36)\"},\"type\":\"carpet\"}],\"choropleth\":[{\"colorbar\":{\"outlinewidth\":1,\"tickcolor\":\"rgb(36,36,36)\",\"ticks\":\"outside\"},\"type\":\"choropleth\"}],\"contourcarpet\":[{\"colorbar\":{\"outlinewidth\":1,\"tickcolor\":\"rgb(36,36,36)\",\"ticks\":\"outside\"},\"type\":\"contourcarpet\"}],\"contour\":[{\"colorbar\":{\"outlinewidth\":1,\"tickcolor\":\"rgb(36,36,36)\",\"ticks\":\"outside\"},\"colorscale\":[[0.0,\"#440154\"],[0.1111111111111111,\"#482878\"],[0.2222222222222222,\"#3e4989\"],[0.3333333333333333,\"#31688e\"],[0.4444444444444444,\"#26828e\"],[0.5555555555555556,\"#1f9e89\"],[0.6666666666666666,\"#35b779\"],[0.7777777777777778,\"#6ece58\"],[0.8888888888888888,\"#b5de2b\"],[1.0,\"#fde725\"]],\"type\":\"contour\"}],\"heatmapgl\":[{\"colorbar\":{\"outlinewidth\":1,\"tickcolor\":\"rgb(36,36,36)\",\"ticks\":\"outside\"},\"colorscale\":[[0.0,\"#440154\"],[0.1111111111111111,\"#482878\"],[0.2222222222222222,\"#3e4989\"],[0.3333333333333333,\"#31688e\"],[0.4444444444444444,\"#26828e\"],[0.5555555555555556,\"#1f9e89\"],[0.6666666666666666,\"#35b779\"],[0.7777777777777778,\"#6ece58\"],[0.8888888888888888,\"#b5de2b\"],[1.0,\"#fde725\"]],\"type\":\"heatmapgl\"}],\"heatmap\":[{\"colorbar\":{\"outlinewidth\":1,\"tickcolor\":\"rgb(36,36,36)\",\"ticks\":\"outside\"},\"colorscale\":[[0.0,\"#440154\"],[0.1111111111111111,\"#482878\"],[0.2222222222222222,\"#3e4989\"],[0.3333333333333333,\"#31688e\"],[0.4444444444444444,\"#26828e\"],[0.5555555555555556,\"#1f9e89\"],[0.6666666666666666,\"#35b779\"],[0.7777777777777778,\"#6ece58\"],[0.8888888888888888,\"#b5de2b\"],[1.0,\"#fde725\"]],\"type\":\"heatmap\"}],\"histogram2dcontour\":[{\"colorbar\":{\"outlinewidth\":1,\"tickcolor\":\"rgb(36,36,36)\",\"ticks\":\"outside\"},\"colorscale\":[[0.0,\"#440154\"],[0.1111111111111111,\"#482878\"],[0.2222222222222222,\"#3e4989\"],[0.3333333333333333,\"#31688e\"],[0.4444444444444444,\"#26828e\"],[0.5555555555555556,\"#1f9e89\"],[0.6666666666666666,\"#35b779\"],[0.7777777777777778,\"#6ece58\"],[0.8888888888888888,\"#b5de2b\"],[1.0,\"#fde725\"]],\"type\":\"histogram2dcontour\"}],\"histogram2d\":[{\"colorbar\":{\"outlinewidth\":1,\"tickcolor\":\"rgb(36,36,36)\",\"ticks\":\"outside\"},\"colorscale\":[[0.0,\"#440154\"],[0.1111111111111111,\"#482878\"],[0.2222222222222222,\"#3e4989\"],[0.3333333333333333,\"#31688e\"],[0.4444444444444444,\"#26828e\"],[0.5555555555555556,\"#1f9e89\"],[0.6666666666666666,\"#35b779\"],[0.7777777777777778,\"#6ece58\"],[0.8888888888888888,\"#b5de2b\"],[1.0,\"#fde725\"]],\"type\":\"histogram2d\"}],\"histogram\":[{\"marker\":{\"line\":{\"color\":\"white\",\"width\":0.6}},\"type\":\"histogram\"}],\"mesh3d\":[{\"colorbar\":{\"outlinewidth\":1,\"tickcolor\":\"rgb(36,36,36)\",\"ticks\":\"outside\"},\"type\":\"mesh3d\"}],\"parcoords\":[{\"line\":{\"colorbar\":{\"outlinewidth\":1,\"tickcolor\":\"rgb(36,36,36)\",\"ticks\":\"outside\"}},\"type\":\"parcoords\"}],\"pie\":[{\"automargin\":true,\"type\":\"pie\"}],\"scatter3d\":[{\"line\":{\"colorbar\":{\"outlinewidth\":1,\"tickcolor\":\"rgb(36,36,36)\",\"ticks\":\"outside\"}},\"marker\":{\"colorbar\":{\"outlinewidth\":1,\"tickcolor\":\"rgb(36,36,36)\",\"ticks\":\"outside\"}},\"type\":\"scatter3d\"}],\"scattercarpet\":[{\"marker\":{\"colorbar\":{\"outlinewidth\":1,\"tickcolor\":\"rgb(36,36,36)\",\"ticks\":\"outside\"}},\"type\":\"scattercarpet\"}],\"scattergeo\":[{\"marker\":{\"colorbar\":{\"outlinewidth\":1,\"tickcolor\":\"rgb(36,36,36)\",\"ticks\":\"outside\"}},\"type\":\"scattergeo\"}],\"scattergl\":[{\"marker\":{\"colorbar\":{\"outlinewidth\":1,\"tickcolor\":\"rgb(36,36,36)\",\"ticks\":\"outside\"}},\"type\":\"scattergl\"}],\"scattermapbox\":[{\"marker\":{\"colorbar\":{\"outlinewidth\":1,\"tickcolor\":\"rgb(36,36,36)\",\"ticks\":\"outside\"}},\"type\":\"scattermapbox\"}],\"scatterpolargl\":[{\"marker\":{\"colorbar\":{\"outlinewidth\":1,\"tickcolor\":\"rgb(36,36,36)\",\"ticks\":\"outside\"}},\"type\":\"scatterpolargl\"}],\"scatterpolar\":[{\"marker\":{\"colorbar\":{\"outlinewidth\":1,\"tickcolor\":\"rgb(36,36,36)\",\"ticks\":\"outside\"}},\"type\":\"scatterpolar\"}],\"scatter\":[{\"fillpattern\":{\"fillmode\":\"overlay\",\"size\":10,\"solidity\":0.2},\"type\":\"scatter\"}],\"scatterternary\":[{\"marker\":{\"colorbar\":{\"outlinewidth\":1,\"tickcolor\":\"rgb(36,36,36)\",\"ticks\":\"outside\"}},\"type\":\"scatterternary\"}],\"surface\":[{\"colorbar\":{\"outlinewidth\":1,\"tickcolor\":\"rgb(36,36,36)\",\"ticks\":\"outside\"},\"colorscale\":[[0.0,\"#440154\"],[0.1111111111111111,\"#482878\"],[0.2222222222222222,\"#3e4989\"],[0.3333333333333333,\"#31688e\"],[0.4444444444444444,\"#26828e\"],[0.5555555555555556,\"#1f9e89\"],[0.6666666666666666,\"#35b779\"],[0.7777777777777778,\"#6ece58\"],[0.8888888888888888,\"#b5de2b\"],[1.0,\"#fde725\"]],\"type\":\"surface\"}],\"table\":[{\"cells\":{\"fill\":{\"color\":\"rgb(237,237,237)\"},\"line\":{\"color\":\"white\"}},\"header\":{\"fill\":{\"color\":\"rgb(217,217,217)\"},\"line\":{\"color\":\"white\"}},\"type\":\"table\"}]},\"layout\":{\"annotationdefaults\":{\"arrowhead\":0,\"arrowwidth\":1},\"autotypenumbers\":\"strict\",\"coloraxis\":{\"colorbar\":{\"outlinewidth\":1,\"tickcolor\":\"rgb(36,36,36)\",\"ticks\":\"outside\"}},\"colorscale\":{\"diverging\":[[0.0,\"rgb(103,0,31)\"],[0.1,\"rgb(178,24,43)\"],[0.2,\"rgb(214,96,77)\"],[0.3,\"rgb(244,165,130)\"],[0.4,\"rgb(253,219,199)\"],[0.5,\"rgb(247,247,247)\"],[0.6,\"rgb(209,229,240)\"],[0.7,\"rgb(146,197,222)\"],[0.8,\"rgb(67,147,195)\"],[0.9,\"rgb(33,102,172)\"],[1.0,\"rgb(5,48,97)\"]],\"sequential\":[[0.0,\"#440154\"],[0.1111111111111111,\"#482878\"],[0.2222222222222222,\"#3e4989\"],[0.3333333333333333,\"#31688e\"],[0.4444444444444444,\"#26828e\"],[0.5555555555555556,\"#1f9e89\"],[0.6666666666666666,\"#35b779\"],[0.7777777777777778,\"#6ece58\"],[0.8888888888888888,\"#b5de2b\"],[1.0,\"#fde725\"]],\"sequentialminus\":[[0.0,\"#440154\"],[0.1111111111111111,\"#482878\"],[0.2222222222222222,\"#3e4989\"],[0.3333333333333333,\"#31688e\"],[0.4444444444444444,\"#26828e\"],[0.5555555555555556,\"#1f9e89\"],[0.6666666666666666,\"#35b779\"],[0.7777777777777778,\"#6ece58\"],[0.8888888888888888,\"#b5de2b\"],[1.0,\"#fde725\"]]},\"colorway\":[\"#1F77B4\",\"#FF7F0E\",\"#2CA02C\",\"#D62728\",\"#9467BD\",\"#8C564B\",\"#E377C2\",\"#7F7F7F\",\"#BCBD22\",\"#17BECF\"],\"font\":{\"color\":\"rgb(36,36,36)\"},\"geo\":{\"bgcolor\":\"white\",\"lakecolor\":\"white\",\"landcolor\":\"white\",\"showlakes\":true,\"showland\":true,\"subunitcolor\":\"white\"},\"hoverlabel\":{\"align\":\"left\"},\"hovermode\":\"closest\",\"mapbox\":{\"style\":\"light\"},\"paper_bgcolor\":\"white\",\"plot_bgcolor\":\"white\",\"polar\":{\"angularaxis\":{\"gridcolor\":\"rgb(232,232,232)\",\"linecolor\":\"rgb(36,36,36)\",\"showgrid\":false,\"showline\":true,\"ticks\":\"outside\"},\"bgcolor\":\"white\",\"radialaxis\":{\"gridcolor\":\"rgb(232,232,232)\",\"linecolor\":\"rgb(36,36,36)\",\"showgrid\":false,\"showline\":true,\"ticks\":\"outside\"}},\"scene\":{\"xaxis\":{\"backgroundcolor\":\"white\",\"gridcolor\":\"rgb(232,232,232)\",\"gridwidth\":2,\"linecolor\":\"rgb(36,36,36)\",\"showbackground\":true,\"showgrid\":false,\"showline\":true,\"ticks\":\"outside\",\"zeroline\":false,\"zerolinecolor\":\"rgb(36,36,36)\"},\"yaxis\":{\"backgroundcolor\":\"white\",\"gridcolor\":\"rgb(232,232,232)\",\"gridwidth\":2,\"linecolor\":\"rgb(36,36,36)\",\"showbackground\":true,\"showgrid\":false,\"showline\":true,\"ticks\":\"outside\",\"zeroline\":false,\"zerolinecolor\":\"rgb(36,36,36)\"},\"zaxis\":{\"backgroundcolor\":\"white\",\"gridcolor\":\"rgb(232,232,232)\",\"gridwidth\":2,\"linecolor\":\"rgb(36,36,36)\",\"showbackground\":true,\"showgrid\":false,\"showline\":true,\"ticks\":\"outside\",\"zeroline\":false,\"zerolinecolor\":\"rgb(36,36,36)\"}},\"shapedefaults\":{\"fillcolor\":\"black\",\"line\":{\"width\":0},\"opacity\":0.3},\"ternary\":{\"aaxis\":{\"gridcolor\":\"rgb(232,232,232)\",\"linecolor\":\"rgb(36,36,36)\",\"showgrid\":false,\"showline\":true,\"ticks\":\"outside\"},\"baxis\":{\"gridcolor\":\"rgb(232,232,232)\",\"linecolor\":\"rgb(36,36,36)\",\"showgrid\":false,\"showline\":true,\"ticks\":\"outside\"},\"bgcolor\":\"white\",\"caxis\":{\"gridcolor\":\"rgb(232,232,232)\",\"linecolor\":\"rgb(36,36,36)\",\"showgrid\":false,\"showline\":true,\"ticks\":\"outside\"}},\"title\":{\"x\":0.05},\"xaxis\":{\"automargin\":true,\"gridcolor\":\"rgb(232,232,232)\",\"linecolor\":\"rgb(36,36,36)\",\"showgrid\":false,\"showline\":true,\"ticks\":\"outside\",\"title\":{\"standoff\":15},\"zeroline\":false,\"zerolinecolor\":\"rgb(36,36,36)\"},\"yaxis\":{\"automargin\":true,\"gridcolor\":\"rgb(232,232,232)\",\"linecolor\":\"rgb(36,36,36)\",\"showgrid\":false,\"showline\":true,\"ticks\":\"outside\",\"title\":{\"standoff\":15},\"zeroline\":false,\"zerolinecolor\":\"rgb(36,36,36)\"}}},\"font\":{\"size\":10},\"title\":{\"text\":\"Forecasting for product family BEAUTY in Store  3\"},\"xaxis\":{\"title\":{\"text\":\"date\"}},\"yaxis\":{\"title\":{\"text\":\"Sales\"}},\"width\":750},                        {\"responsive\": true}                    ).then(function(){\n",
       "                            \n",
       "var gd = document.getElementById('50ce221a-5438-468e-98ef-ad05afbf4247');\n",
       "var x = new MutationObserver(function (mutations, observer) {{\n",
       "        var display = window.getComputedStyle(gd).display;\n",
       "        if (!display || display === 'none') {{\n",
       "            console.log([gd, 'removed!']);\n",
       "            Plotly.purge(gd);\n",
       "            observer.disconnect();\n",
       "        }}\n",
       "}});\n",
       "\n",
       "// Listen for the removal of the full notebook cells\n",
       "var notebookContainer = gd.closest('#notebook-container');\n",
       "if (notebookContainer) {{\n",
       "    x.observe(notebookContainer, {childList: true});\n",
       "}}\n",
       "\n",
       "// Listen for the clearing of the current output cell\n",
       "var outputEl = gd.closest('.output');\n",
       "if (outputEl) {{\n",
       "    x.observe(outputEl, {childList: true});\n",
       "}}\n",
       "\n",
       "                        })                };                });            </script>        </div>"
      ]
     },
     "metadata": {},
     "output_type": "display_data"
    }
   ],
   "execution_count": 54
  },
  {
   "metadata": {
    "ExecuteTime": {
     "end_time": "2025-02-02T17:10:32.603714Z",
     "start_time": "2025-02-02T17:10:32.515993Z"
    }
   },
   "cell_type": "code",
   "source": [
    "print(\"Overall performance:\")\n",
    "eval_model(f_data['sales'], f_data['sales_forecast'])"
   ],
   "id": "ff5a817bc0597696",
   "outputs": [
    {
     "name": "stdout",
     "output_type": "stream",
     "text": [
      "Overall performance:\n",
      "mean squared logarithm error: 0.9316731385078765\n",
      "R Sccore model score: 0.8966927839716867\n",
      "mean absolute error: 359.73363899680345\n",
      "mean squared error: 1900395.5565071343\n",
      "mase: 0.9437389984634187\n"
     ]
    }
   ],
   "execution_count": 48
  },
  {
   "metadata": {},
   "cell_type": "markdown",
   "source": "### Arima model",
   "id": "e4996e3fe01ceaab"
  },
  {
   "metadata": {
    "ExecuteTime": {
     "end_time": "2025-02-02T17:36:20.754738Z",
     "start_time": "2025-02-02T17:36:20.418897Z"
    }
   },
   "cell_type": "code",
   "source": [
    "# Import packages\n",
    "import plotly.express as px\n",
    "import pandas as pd\n",
    "\n",
    "# Read in the data\n",
    "def plot_sales_volumes(df: pd.DataFrame,\n",
    "                           y: str, c: int, fam: str ) -> None:\n",
    "    \"\"\"General function to plot the sales data based on cluster and family.\"\"\"\n",
    "    df['month'] = df['date'].dt.to_period('M')\n",
    "\n",
    "    # Grouper par mois sans perdre les données originales\n",
    "    df_filtered = df[(df['store_nbr'] == c)&(df['family'] == fam)]\n",
    "    df_filtered = df_filtered.groupby(['month'])['sales'].sum().reset_index()\n",
    "    df_filtered['month'] = df_filtered['month'].astype(str)\n",
    "    fig = px.line(df_filtered, x='month', y=y)\n",
    "    fig.update_layout(template=\"simple_white\", font=dict(size=15), title_text=f'Sales for family product {fam} in store {c}', width=850, title_x=0.5)\n",
    "\n",
    "    return fig.show()\n",
    "\n",
    "\n",
    "# Plot the airline passenger data\n",
    "plot_sales_volumes(df=data, y='sales', c=2, fam='BEAUTY')"
   ],
   "id": "9fb3868967d68ad4",
   "outputs": [
    {
     "data": {
      "application/vnd.plotly.v1+json": {
       "data": [
        {
         "hovertemplate": "month=%{x}<br>sales=%{y}<extra></extra>",
         "legendgroup": "",
         "line": {
          "color": "#636efa",
          "dash": "solid"
         },
         "marker": {
          "symbol": "circle"
         },
         "mode": "lines",
         "name": "",
         "orientation": "v",
         "showlegend": false,
         "x": [
          "2013-01",
          "2013-02",
          "2013-03",
          "2013-04",
          "2013-05",
          "2013-06",
          "2013-07",
          "2013-08",
          "2013-09",
          "2013-10",
          "2013-11",
          "2013-12",
          "2014-01",
          "2014-02",
          "2014-03",
          "2014-04",
          "2014-05",
          "2014-06",
          "2014-07",
          "2014-08",
          "2014-09",
          "2014-10",
          "2014-11",
          "2014-12",
          "2015-01",
          "2015-02",
          "2015-03",
          "2015-04",
          "2015-05",
          "2015-06",
          "2015-07",
          "2015-08",
          "2015-09",
          "2015-10",
          "2015-11",
          "2015-12",
          "2016-01",
          "2016-02",
          "2016-03",
          "2016-04",
          "2016-05",
          "2016-06",
          "2016-07",
          "2016-08",
          "2016-09",
          "2016-10",
          "2016-11",
          "2016-12",
          "2017-01",
          "2017-02",
          "2017-03",
          "2017-04",
          "2017-05",
          "2017-06",
          "2017-07",
          "2017-08"
         ],
         "xaxis": "x",
         "y": [
          119.0,
          127.0,
          101.0,
          116.0,
          124.0,
          134.0,
          118.0,
          94.0,
          80.0,
          70.0,
          68.0,
          92.0,
          120.0,
          94.0,
          100.0,
          98.0,
          78.0,
          97.0,
          94.0,
          121.0,
          130.0,
          121.0,
          139.0,
          158.0,
          93.0,
          86.0,
          101.0,
          90.0,
          112.0,
          121.0,
          100.0,
          117.0,
          146.0,
          170.0,
          195.0,
          188.0,
          173.0,
          181.0,
          147.0,
          202.0,
          155.0,
          181.0,
          199.0,
          210.0,
          203.0,
          222.0,
          260.0,
          255.0,
          213.0,
          153.0,
          148.0,
          133.0,
          297.0,
          164.0,
          201.0,
          127.0
         ],
         "yaxis": "y",
         "type": "scatter"
        }
       ],
       "layout": {
        "template": {
         "data": {
          "barpolar": [
           {
            "marker": {
             "line": {
              "color": "white",
              "width": 0.5
             },
             "pattern": {
              "fillmode": "overlay",
              "size": 10,
              "solidity": 0.2
             }
            },
            "type": "barpolar"
           }
          ],
          "bar": [
           {
            "error_x": {
             "color": "rgb(36,36,36)"
            },
            "error_y": {
             "color": "rgb(36,36,36)"
            },
            "marker": {
             "line": {
              "color": "white",
              "width": 0.5
             },
             "pattern": {
              "fillmode": "overlay",
              "size": 10,
              "solidity": 0.2
             }
            },
            "type": "bar"
           }
          ],
          "carpet": [
           {
            "aaxis": {
             "endlinecolor": "rgb(36,36,36)",
             "gridcolor": "white",
             "linecolor": "white",
             "minorgridcolor": "white",
             "startlinecolor": "rgb(36,36,36)"
            },
            "baxis": {
             "endlinecolor": "rgb(36,36,36)",
             "gridcolor": "white",
             "linecolor": "white",
             "minorgridcolor": "white",
             "startlinecolor": "rgb(36,36,36)"
            },
            "type": "carpet"
           }
          ],
          "choropleth": [
           {
            "colorbar": {
             "outlinewidth": 1,
             "tickcolor": "rgb(36,36,36)",
             "ticks": "outside"
            },
            "type": "choropleth"
           }
          ],
          "contourcarpet": [
           {
            "colorbar": {
             "outlinewidth": 1,
             "tickcolor": "rgb(36,36,36)",
             "ticks": "outside"
            },
            "type": "contourcarpet"
           }
          ],
          "contour": [
           {
            "colorbar": {
             "outlinewidth": 1,
             "tickcolor": "rgb(36,36,36)",
             "ticks": "outside"
            },
            "colorscale": [
             [
              0.0,
              "#440154"
             ],
             [
              0.1111111111111111,
              "#482878"
             ],
             [
              0.2222222222222222,
              "#3e4989"
             ],
             [
              0.3333333333333333,
              "#31688e"
             ],
             [
              0.4444444444444444,
              "#26828e"
             ],
             [
              0.5555555555555556,
              "#1f9e89"
             ],
             [
              0.6666666666666666,
              "#35b779"
             ],
             [
              0.7777777777777778,
              "#6ece58"
             ],
             [
              0.8888888888888888,
              "#b5de2b"
             ],
             [
              1.0,
              "#fde725"
             ]
            ],
            "type": "contour"
           }
          ],
          "heatmapgl": [
           {
            "colorbar": {
             "outlinewidth": 1,
             "tickcolor": "rgb(36,36,36)",
             "ticks": "outside"
            },
            "colorscale": [
             [
              0.0,
              "#440154"
             ],
             [
              0.1111111111111111,
              "#482878"
             ],
             [
              0.2222222222222222,
              "#3e4989"
             ],
             [
              0.3333333333333333,
              "#31688e"
             ],
             [
              0.4444444444444444,
              "#26828e"
             ],
             [
              0.5555555555555556,
              "#1f9e89"
             ],
             [
              0.6666666666666666,
              "#35b779"
             ],
             [
              0.7777777777777778,
              "#6ece58"
             ],
             [
              0.8888888888888888,
              "#b5de2b"
             ],
             [
              1.0,
              "#fde725"
             ]
            ],
            "type": "heatmapgl"
           }
          ],
          "heatmap": [
           {
            "colorbar": {
             "outlinewidth": 1,
             "tickcolor": "rgb(36,36,36)",
             "ticks": "outside"
            },
            "colorscale": [
             [
              0.0,
              "#440154"
             ],
             [
              0.1111111111111111,
              "#482878"
             ],
             [
              0.2222222222222222,
              "#3e4989"
             ],
             [
              0.3333333333333333,
              "#31688e"
             ],
             [
              0.4444444444444444,
              "#26828e"
             ],
             [
              0.5555555555555556,
              "#1f9e89"
             ],
             [
              0.6666666666666666,
              "#35b779"
             ],
             [
              0.7777777777777778,
              "#6ece58"
             ],
             [
              0.8888888888888888,
              "#b5de2b"
             ],
             [
              1.0,
              "#fde725"
             ]
            ],
            "type": "heatmap"
           }
          ],
          "histogram2dcontour": [
           {
            "colorbar": {
             "outlinewidth": 1,
             "tickcolor": "rgb(36,36,36)",
             "ticks": "outside"
            },
            "colorscale": [
             [
              0.0,
              "#440154"
             ],
             [
              0.1111111111111111,
              "#482878"
             ],
             [
              0.2222222222222222,
              "#3e4989"
             ],
             [
              0.3333333333333333,
              "#31688e"
             ],
             [
              0.4444444444444444,
              "#26828e"
             ],
             [
              0.5555555555555556,
              "#1f9e89"
             ],
             [
              0.6666666666666666,
              "#35b779"
             ],
             [
              0.7777777777777778,
              "#6ece58"
             ],
             [
              0.8888888888888888,
              "#b5de2b"
             ],
             [
              1.0,
              "#fde725"
             ]
            ],
            "type": "histogram2dcontour"
           }
          ],
          "histogram2d": [
           {
            "colorbar": {
             "outlinewidth": 1,
             "tickcolor": "rgb(36,36,36)",
             "ticks": "outside"
            },
            "colorscale": [
             [
              0.0,
              "#440154"
             ],
             [
              0.1111111111111111,
              "#482878"
             ],
             [
              0.2222222222222222,
              "#3e4989"
             ],
             [
              0.3333333333333333,
              "#31688e"
             ],
             [
              0.4444444444444444,
              "#26828e"
             ],
             [
              0.5555555555555556,
              "#1f9e89"
             ],
             [
              0.6666666666666666,
              "#35b779"
             ],
             [
              0.7777777777777778,
              "#6ece58"
             ],
             [
              0.8888888888888888,
              "#b5de2b"
             ],
             [
              1.0,
              "#fde725"
             ]
            ],
            "type": "histogram2d"
           }
          ],
          "histogram": [
           {
            "marker": {
             "line": {
              "color": "white",
              "width": 0.6
             }
            },
            "type": "histogram"
           }
          ],
          "mesh3d": [
           {
            "colorbar": {
             "outlinewidth": 1,
             "tickcolor": "rgb(36,36,36)",
             "ticks": "outside"
            },
            "type": "mesh3d"
           }
          ],
          "parcoords": [
           {
            "line": {
             "colorbar": {
              "outlinewidth": 1,
              "tickcolor": "rgb(36,36,36)",
              "ticks": "outside"
             }
            },
            "type": "parcoords"
           }
          ],
          "pie": [
           {
            "automargin": true,
            "type": "pie"
           }
          ],
          "scatter3d": [
           {
            "line": {
             "colorbar": {
              "outlinewidth": 1,
              "tickcolor": "rgb(36,36,36)",
              "ticks": "outside"
             }
            },
            "marker": {
             "colorbar": {
              "outlinewidth": 1,
              "tickcolor": "rgb(36,36,36)",
              "ticks": "outside"
             }
            },
            "type": "scatter3d"
           }
          ],
          "scattercarpet": [
           {
            "marker": {
             "colorbar": {
              "outlinewidth": 1,
              "tickcolor": "rgb(36,36,36)",
              "ticks": "outside"
             }
            },
            "type": "scattercarpet"
           }
          ],
          "scattergeo": [
           {
            "marker": {
             "colorbar": {
              "outlinewidth": 1,
              "tickcolor": "rgb(36,36,36)",
              "ticks": "outside"
             }
            },
            "type": "scattergeo"
           }
          ],
          "scattergl": [
           {
            "marker": {
             "colorbar": {
              "outlinewidth": 1,
              "tickcolor": "rgb(36,36,36)",
              "ticks": "outside"
             }
            },
            "type": "scattergl"
           }
          ],
          "scattermapbox": [
           {
            "marker": {
             "colorbar": {
              "outlinewidth": 1,
              "tickcolor": "rgb(36,36,36)",
              "ticks": "outside"
             }
            },
            "type": "scattermapbox"
           }
          ],
          "scatterpolargl": [
           {
            "marker": {
             "colorbar": {
              "outlinewidth": 1,
              "tickcolor": "rgb(36,36,36)",
              "ticks": "outside"
             }
            },
            "type": "scatterpolargl"
           }
          ],
          "scatterpolar": [
           {
            "marker": {
             "colorbar": {
              "outlinewidth": 1,
              "tickcolor": "rgb(36,36,36)",
              "ticks": "outside"
             }
            },
            "type": "scatterpolar"
           }
          ],
          "scatter": [
           {
            "fillpattern": {
             "fillmode": "overlay",
             "size": 10,
             "solidity": 0.2
            },
            "type": "scatter"
           }
          ],
          "scatterternary": [
           {
            "marker": {
             "colorbar": {
              "outlinewidth": 1,
              "tickcolor": "rgb(36,36,36)",
              "ticks": "outside"
             }
            },
            "type": "scatterternary"
           }
          ],
          "surface": [
           {
            "colorbar": {
             "outlinewidth": 1,
             "tickcolor": "rgb(36,36,36)",
             "ticks": "outside"
            },
            "colorscale": [
             [
              0.0,
              "#440154"
             ],
             [
              0.1111111111111111,
              "#482878"
             ],
             [
              0.2222222222222222,
              "#3e4989"
             ],
             [
              0.3333333333333333,
              "#31688e"
             ],
             [
              0.4444444444444444,
              "#26828e"
             ],
             [
              0.5555555555555556,
              "#1f9e89"
             ],
             [
              0.6666666666666666,
              "#35b779"
             ],
             [
              0.7777777777777778,
              "#6ece58"
             ],
             [
              0.8888888888888888,
              "#b5de2b"
             ],
             [
              1.0,
              "#fde725"
             ]
            ],
            "type": "surface"
           }
          ],
          "table": [
           {
            "cells": {
             "fill": {
              "color": "rgb(237,237,237)"
             },
             "line": {
              "color": "white"
             }
            },
            "header": {
             "fill": {
              "color": "rgb(217,217,217)"
             },
             "line": {
              "color": "white"
             }
            },
            "type": "table"
           }
          ]
         },
         "layout": {
          "annotationdefaults": {
           "arrowhead": 0,
           "arrowwidth": 1
          },
          "autotypenumbers": "strict",
          "coloraxis": {
           "colorbar": {
            "outlinewidth": 1,
            "tickcolor": "rgb(36,36,36)",
            "ticks": "outside"
           }
          },
          "colorscale": {
           "diverging": [
            [
             0.0,
             "rgb(103,0,31)"
            ],
            [
             0.1,
             "rgb(178,24,43)"
            ],
            [
             0.2,
             "rgb(214,96,77)"
            ],
            [
             0.3,
             "rgb(244,165,130)"
            ],
            [
             0.4,
             "rgb(253,219,199)"
            ],
            [
             0.5,
             "rgb(247,247,247)"
            ],
            [
             0.6,
             "rgb(209,229,240)"
            ],
            [
             0.7,
             "rgb(146,197,222)"
            ],
            [
             0.8,
             "rgb(67,147,195)"
            ],
            [
             0.9,
             "rgb(33,102,172)"
            ],
            [
             1.0,
             "rgb(5,48,97)"
            ]
           ],
           "sequential": [
            [
             0.0,
             "#440154"
            ],
            [
             0.1111111111111111,
             "#482878"
            ],
            [
             0.2222222222222222,
             "#3e4989"
            ],
            [
             0.3333333333333333,
             "#31688e"
            ],
            [
             0.4444444444444444,
             "#26828e"
            ],
            [
             0.5555555555555556,
             "#1f9e89"
            ],
            [
             0.6666666666666666,
             "#35b779"
            ],
            [
             0.7777777777777778,
             "#6ece58"
            ],
            [
             0.8888888888888888,
             "#b5de2b"
            ],
            [
             1.0,
             "#fde725"
            ]
           ],
           "sequentialminus": [
            [
             0.0,
             "#440154"
            ],
            [
             0.1111111111111111,
             "#482878"
            ],
            [
             0.2222222222222222,
             "#3e4989"
            ],
            [
             0.3333333333333333,
             "#31688e"
            ],
            [
             0.4444444444444444,
             "#26828e"
            ],
            [
             0.5555555555555556,
             "#1f9e89"
            ],
            [
             0.6666666666666666,
             "#35b779"
            ],
            [
             0.7777777777777778,
             "#6ece58"
            ],
            [
             0.8888888888888888,
             "#b5de2b"
            ],
            [
             1.0,
             "#fde725"
            ]
           ]
          },
          "colorway": [
           "#1F77B4",
           "#FF7F0E",
           "#2CA02C",
           "#D62728",
           "#9467BD",
           "#8C564B",
           "#E377C2",
           "#7F7F7F",
           "#BCBD22",
           "#17BECF"
          ],
          "font": {
           "color": "rgb(36,36,36)"
          },
          "geo": {
           "bgcolor": "white",
           "lakecolor": "white",
           "landcolor": "white",
           "showlakes": true,
           "showland": true,
           "subunitcolor": "white"
          },
          "hoverlabel": {
           "align": "left"
          },
          "hovermode": "closest",
          "mapbox": {
           "style": "light"
          },
          "paper_bgcolor": "white",
          "plot_bgcolor": "white",
          "polar": {
           "angularaxis": {
            "gridcolor": "rgb(232,232,232)",
            "linecolor": "rgb(36,36,36)",
            "showgrid": false,
            "showline": true,
            "ticks": "outside"
           },
           "bgcolor": "white",
           "radialaxis": {
            "gridcolor": "rgb(232,232,232)",
            "linecolor": "rgb(36,36,36)",
            "showgrid": false,
            "showline": true,
            "ticks": "outside"
           }
          },
          "scene": {
           "xaxis": {
            "backgroundcolor": "white",
            "gridcolor": "rgb(232,232,232)",
            "gridwidth": 2,
            "linecolor": "rgb(36,36,36)",
            "showbackground": true,
            "showgrid": false,
            "showline": true,
            "ticks": "outside",
            "zeroline": false,
            "zerolinecolor": "rgb(36,36,36)"
           },
           "yaxis": {
            "backgroundcolor": "white",
            "gridcolor": "rgb(232,232,232)",
            "gridwidth": 2,
            "linecolor": "rgb(36,36,36)",
            "showbackground": true,
            "showgrid": false,
            "showline": true,
            "ticks": "outside",
            "zeroline": false,
            "zerolinecolor": "rgb(36,36,36)"
           },
           "zaxis": {
            "backgroundcolor": "white",
            "gridcolor": "rgb(232,232,232)",
            "gridwidth": 2,
            "linecolor": "rgb(36,36,36)",
            "showbackground": true,
            "showgrid": false,
            "showline": true,
            "ticks": "outside",
            "zeroline": false,
            "zerolinecolor": "rgb(36,36,36)"
           }
          },
          "shapedefaults": {
           "fillcolor": "black",
           "line": {
            "width": 0
           },
           "opacity": 0.3
          },
          "ternary": {
           "aaxis": {
            "gridcolor": "rgb(232,232,232)",
            "linecolor": "rgb(36,36,36)",
            "showgrid": false,
            "showline": true,
            "ticks": "outside"
           },
           "baxis": {
            "gridcolor": "rgb(232,232,232)",
            "linecolor": "rgb(36,36,36)",
            "showgrid": false,
            "showline": true,
            "ticks": "outside"
           },
           "bgcolor": "white",
           "caxis": {
            "gridcolor": "rgb(232,232,232)",
            "linecolor": "rgb(36,36,36)",
            "showgrid": false,
            "showline": true,
            "ticks": "outside"
           }
          },
          "title": {
           "x": 0.05
          },
          "xaxis": {
           "automargin": true,
           "gridcolor": "rgb(232,232,232)",
           "linecolor": "rgb(36,36,36)",
           "showgrid": false,
           "showline": true,
           "ticks": "outside",
           "title": {
            "standoff": 15
           },
           "zeroline": false,
           "zerolinecolor": "rgb(36,36,36)"
          },
          "yaxis": {
           "automargin": true,
           "gridcolor": "rgb(232,232,232)",
           "linecolor": "rgb(36,36,36)",
           "showgrid": false,
           "showline": true,
           "ticks": "outside",
           "title": {
            "standoff": 15
           },
           "zeroline": false,
           "zerolinecolor": "rgb(36,36,36)"
          }
         }
        },
        "xaxis": {
         "anchor": "y",
         "domain": [
          0.0,
          1.0
         ],
         "title": {
          "text": "month"
         }
        },
        "yaxis": {
         "anchor": "x",
         "domain": [
          0.0,
          1.0
         ],
         "title": {
          "text": "sales"
         }
        },
        "legend": {
         "tracegroupgap": 0
        },
        "margin": {
         "t": 60
        },
        "font": {
         "size": 15
        },
        "title": {
         "text": "Sales for family product BEAUTY in store 2",
         "x": 0.5
        },
        "width": 850
       },
       "config": {
        "plotlyServerURL": "https://plot.ly"
       }
      },
      "text/html": [
       "<div>                            <div id=\"2603a6ef-c42c-4556-807a-d87633b5d8e1\" class=\"plotly-graph-div\" style=\"height:525px; width:850px;\"></div>            <script type=\"text/javascript\">                require([\"plotly\"], function(Plotly) {                    window.PLOTLYENV=window.PLOTLYENV || {};                                    if (document.getElementById(\"2603a6ef-c42c-4556-807a-d87633b5d8e1\")) {                    Plotly.newPlot(                        \"2603a6ef-c42c-4556-807a-d87633b5d8e1\",                        [{\"hovertemplate\":\"month=%{x}\\u003cbr\\u003esales=%{y}\\u003cextra\\u003e\\u003c\\u002fextra\\u003e\",\"legendgroup\":\"\",\"line\":{\"color\":\"#636efa\",\"dash\":\"solid\"},\"marker\":{\"symbol\":\"circle\"},\"mode\":\"lines\",\"name\":\"\",\"orientation\":\"v\",\"showlegend\":false,\"x\":[\"2013-01\",\"2013-02\",\"2013-03\",\"2013-04\",\"2013-05\",\"2013-06\",\"2013-07\",\"2013-08\",\"2013-09\",\"2013-10\",\"2013-11\",\"2013-12\",\"2014-01\",\"2014-02\",\"2014-03\",\"2014-04\",\"2014-05\",\"2014-06\",\"2014-07\",\"2014-08\",\"2014-09\",\"2014-10\",\"2014-11\",\"2014-12\",\"2015-01\",\"2015-02\",\"2015-03\",\"2015-04\",\"2015-05\",\"2015-06\",\"2015-07\",\"2015-08\",\"2015-09\",\"2015-10\",\"2015-11\",\"2015-12\",\"2016-01\",\"2016-02\",\"2016-03\",\"2016-04\",\"2016-05\",\"2016-06\",\"2016-07\",\"2016-08\",\"2016-09\",\"2016-10\",\"2016-11\",\"2016-12\",\"2017-01\",\"2017-02\",\"2017-03\",\"2017-04\",\"2017-05\",\"2017-06\",\"2017-07\",\"2017-08\"],\"xaxis\":\"x\",\"y\":[119.0,127.0,101.0,116.0,124.0,134.0,118.0,94.0,80.0,70.0,68.0,92.0,120.0,94.0,100.0,98.0,78.0,97.0,94.0,121.0,130.0,121.0,139.0,158.0,93.0,86.0,101.0,90.0,112.0,121.0,100.0,117.0,146.0,170.0,195.0,188.0,173.0,181.0,147.0,202.0,155.0,181.0,199.0,210.0,203.0,222.0,260.0,255.0,213.0,153.0,148.0,133.0,297.0,164.0,201.0,127.0],\"yaxis\":\"y\",\"type\":\"scatter\"}],                        {\"template\":{\"data\":{\"barpolar\":[{\"marker\":{\"line\":{\"color\":\"white\",\"width\":0.5},\"pattern\":{\"fillmode\":\"overlay\",\"size\":10,\"solidity\":0.2}},\"type\":\"barpolar\"}],\"bar\":[{\"error_x\":{\"color\":\"rgb(36,36,36)\"},\"error_y\":{\"color\":\"rgb(36,36,36)\"},\"marker\":{\"line\":{\"color\":\"white\",\"width\":0.5},\"pattern\":{\"fillmode\":\"overlay\",\"size\":10,\"solidity\":0.2}},\"type\":\"bar\"}],\"carpet\":[{\"aaxis\":{\"endlinecolor\":\"rgb(36,36,36)\",\"gridcolor\":\"white\",\"linecolor\":\"white\",\"minorgridcolor\":\"white\",\"startlinecolor\":\"rgb(36,36,36)\"},\"baxis\":{\"endlinecolor\":\"rgb(36,36,36)\",\"gridcolor\":\"white\",\"linecolor\":\"white\",\"minorgridcolor\":\"white\",\"startlinecolor\":\"rgb(36,36,36)\"},\"type\":\"carpet\"}],\"choropleth\":[{\"colorbar\":{\"outlinewidth\":1,\"tickcolor\":\"rgb(36,36,36)\",\"ticks\":\"outside\"},\"type\":\"choropleth\"}],\"contourcarpet\":[{\"colorbar\":{\"outlinewidth\":1,\"tickcolor\":\"rgb(36,36,36)\",\"ticks\":\"outside\"},\"type\":\"contourcarpet\"}],\"contour\":[{\"colorbar\":{\"outlinewidth\":1,\"tickcolor\":\"rgb(36,36,36)\",\"ticks\":\"outside\"},\"colorscale\":[[0.0,\"#440154\"],[0.1111111111111111,\"#482878\"],[0.2222222222222222,\"#3e4989\"],[0.3333333333333333,\"#31688e\"],[0.4444444444444444,\"#26828e\"],[0.5555555555555556,\"#1f9e89\"],[0.6666666666666666,\"#35b779\"],[0.7777777777777778,\"#6ece58\"],[0.8888888888888888,\"#b5de2b\"],[1.0,\"#fde725\"]],\"type\":\"contour\"}],\"heatmapgl\":[{\"colorbar\":{\"outlinewidth\":1,\"tickcolor\":\"rgb(36,36,36)\",\"ticks\":\"outside\"},\"colorscale\":[[0.0,\"#440154\"],[0.1111111111111111,\"#482878\"],[0.2222222222222222,\"#3e4989\"],[0.3333333333333333,\"#31688e\"],[0.4444444444444444,\"#26828e\"],[0.5555555555555556,\"#1f9e89\"],[0.6666666666666666,\"#35b779\"],[0.7777777777777778,\"#6ece58\"],[0.8888888888888888,\"#b5de2b\"],[1.0,\"#fde725\"]],\"type\":\"heatmapgl\"}],\"heatmap\":[{\"colorbar\":{\"outlinewidth\":1,\"tickcolor\":\"rgb(36,36,36)\",\"ticks\":\"outside\"},\"colorscale\":[[0.0,\"#440154\"],[0.1111111111111111,\"#482878\"],[0.2222222222222222,\"#3e4989\"],[0.3333333333333333,\"#31688e\"],[0.4444444444444444,\"#26828e\"],[0.5555555555555556,\"#1f9e89\"],[0.6666666666666666,\"#35b779\"],[0.7777777777777778,\"#6ece58\"],[0.8888888888888888,\"#b5de2b\"],[1.0,\"#fde725\"]],\"type\":\"heatmap\"}],\"histogram2dcontour\":[{\"colorbar\":{\"outlinewidth\":1,\"tickcolor\":\"rgb(36,36,36)\",\"ticks\":\"outside\"},\"colorscale\":[[0.0,\"#440154\"],[0.1111111111111111,\"#482878\"],[0.2222222222222222,\"#3e4989\"],[0.3333333333333333,\"#31688e\"],[0.4444444444444444,\"#26828e\"],[0.5555555555555556,\"#1f9e89\"],[0.6666666666666666,\"#35b779\"],[0.7777777777777778,\"#6ece58\"],[0.8888888888888888,\"#b5de2b\"],[1.0,\"#fde725\"]],\"type\":\"histogram2dcontour\"}],\"histogram2d\":[{\"colorbar\":{\"outlinewidth\":1,\"tickcolor\":\"rgb(36,36,36)\",\"ticks\":\"outside\"},\"colorscale\":[[0.0,\"#440154\"],[0.1111111111111111,\"#482878\"],[0.2222222222222222,\"#3e4989\"],[0.3333333333333333,\"#31688e\"],[0.4444444444444444,\"#26828e\"],[0.5555555555555556,\"#1f9e89\"],[0.6666666666666666,\"#35b779\"],[0.7777777777777778,\"#6ece58\"],[0.8888888888888888,\"#b5de2b\"],[1.0,\"#fde725\"]],\"type\":\"histogram2d\"}],\"histogram\":[{\"marker\":{\"line\":{\"color\":\"white\",\"width\":0.6}},\"type\":\"histogram\"}],\"mesh3d\":[{\"colorbar\":{\"outlinewidth\":1,\"tickcolor\":\"rgb(36,36,36)\",\"ticks\":\"outside\"},\"type\":\"mesh3d\"}],\"parcoords\":[{\"line\":{\"colorbar\":{\"outlinewidth\":1,\"tickcolor\":\"rgb(36,36,36)\",\"ticks\":\"outside\"}},\"type\":\"parcoords\"}],\"pie\":[{\"automargin\":true,\"type\":\"pie\"}],\"scatter3d\":[{\"line\":{\"colorbar\":{\"outlinewidth\":1,\"tickcolor\":\"rgb(36,36,36)\",\"ticks\":\"outside\"}},\"marker\":{\"colorbar\":{\"outlinewidth\":1,\"tickcolor\":\"rgb(36,36,36)\",\"ticks\":\"outside\"}},\"type\":\"scatter3d\"}],\"scattercarpet\":[{\"marker\":{\"colorbar\":{\"outlinewidth\":1,\"tickcolor\":\"rgb(36,36,36)\",\"ticks\":\"outside\"}},\"type\":\"scattercarpet\"}],\"scattergeo\":[{\"marker\":{\"colorbar\":{\"outlinewidth\":1,\"tickcolor\":\"rgb(36,36,36)\",\"ticks\":\"outside\"}},\"type\":\"scattergeo\"}],\"scattergl\":[{\"marker\":{\"colorbar\":{\"outlinewidth\":1,\"tickcolor\":\"rgb(36,36,36)\",\"ticks\":\"outside\"}},\"type\":\"scattergl\"}],\"scattermapbox\":[{\"marker\":{\"colorbar\":{\"outlinewidth\":1,\"tickcolor\":\"rgb(36,36,36)\",\"ticks\":\"outside\"}},\"type\":\"scattermapbox\"}],\"scatterpolargl\":[{\"marker\":{\"colorbar\":{\"outlinewidth\":1,\"tickcolor\":\"rgb(36,36,36)\",\"ticks\":\"outside\"}},\"type\":\"scatterpolargl\"}],\"scatterpolar\":[{\"marker\":{\"colorbar\":{\"outlinewidth\":1,\"tickcolor\":\"rgb(36,36,36)\",\"ticks\":\"outside\"}},\"type\":\"scatterpolar\"}],\"scatter\":[{\"fillpattern\":{\"fillmode\":\"overlay\",\"size\":10,\"solidity\":0.2},\"type\":\"scatter\"}],\"scatterternary\":[{\"marker\":{\"colorbar\":{\"outlinewidth\":1,\"tickcolor\":\"rgb(36,36,36)\",\"ticks\":\"outside\"}},\"type\":\"scatterternary\"}],\"surface\":[{\"colorbar\":{\"outlinewidth\":1,\"tickcolor\":\"rgb(36,36,36)\",\"ticks\":\"outside\"},\"colorscale\":[[0.0,\"#440154\"],[0.1111111111111111,\"#482878\"],[0.2222222222222222,\"#3e4989\"],[0.3333333333333333,\"#31688e\"],[0.4444444444444444,\"#26828e\"],[0.5555555555555556,\"#1f9e89\"],[0.6666666666666666,\"#35b779\"],[0.7777777777777778,\"#6ece58\"],[0.8888888888888888,\"#b5de2b\"],[1.0,\"#fde725\"]],\"type\":\"surface\"}],\"table\":[{\"cells\":{\"fill\":{\"color\":\"rgb(237,237,237)\"},\"line\":{\"color\":\"white\"}},\"header\":{\"fill\":{\"color\":\"rgb(217,217,217)\"},\"line\":{\"color\":\"white\"}},\"type\":\"table\"}]},\"layout\":{\"annotationdefaults\":{\"arrowhead\":0,\"arrowwidth\":1},\"autotypenumbers\":\"strict\",\"coloraxis\":{\"colorbar\":{\"outlinewidth\":1,\"tickcolor\":\"rgb(36,36,36)\",\"ticks\":\"outside\"}},\"colorscale\":{\"diverging\":[[0.0,\"rgb(103,0,31)\"],[0.1,\"rgb(178,24,43)\"],[0.2,\"rgb(214,96,77)\"],[0.3,\"rgb(244,165,130)\"],[0.4,\"rgb(253,219,199)\"],[0.5,\"rgb(247,247,247)\"],[0.6,\"rgb(209,229,240)\"],[0.7,\"rgb(146,197,222)\"],[0.8,\"rgb(67,147,195)\"],[0.9,\"rgb(33,102,172)\"],[1.0,\"rgb(5,48,97)\"]],\"sequential\":[[0.0,\"#440154\"],[0.1111111111111111,\"#482878\"],[0.2222222222222222,\"#3e4989\"],[0.3333333333333333,\"#31688e\"],[0.4444444444444444,\"#26828e\"],[0.5555555555555556,\"#1f9e89\"],[0.6666666666666666,\"#35b779\"],[0.7777777777777778,\"#6ece58\"],[0.8888888888888888,\"#b5de2b\"],[1.0,\"#fde725\"]],\"sequentialminus\":[[0.0,\"#440154\"],[0.1111111111111111,\"#482878\"],[0.2222222222222222,\"#3e4989\"],[0.3333333333333333,\"#31688e\"],[0.4444444444444444,\"#26828e\"],[0.5555555555555556,\"#1f9e89\"],[0.6666666666666666,\"#35b779\"],[0.7777777777777778,\"#6ece58\"],[0.8888888888888888,\"#b5de2b\"],[1.0,\"#fde725\"]]},\"colorway\":[\"#1F77B4\",\"#FF7F0E\",\"#2CA02C\",\"#D62728\",\"#9467BD\",\"#8C564B\",\"#E377C2\",\"#7F7F7F\",\"#BCBD22\",\"#17BECF\"],\"font\":{\"color\":\"rgb(36,36,36)\"},\"geo\":{\"bgcolor\":\"white\",\"lakecolor\":\"white\",\"landcolor\":\"white\",\"showlakes\":true,\"showland\":true,\"subunitcolor\":\"white\"},\"hoverlabel\":{\"align\":\"left\"},\"hovermode\":\"closest\",\"mapbox\":{\"style\":\"light\"},\"paper_bgcolor\":\"white\",\"plot_bgcolor\":\"white\",\"polar\":{\"angularaxis\":{\"gridcolor\":\"rgb(232,232,232)\",\"linecolor\":\"rgb(36,36,36)\",\"showgrid\":false,\"showline\":true,\"ticks\":\"outside\"},\"bgcolor\":\"white\",\"radialaxis\":{\"gridcolor\":\"rgb(232,232,232)\",\"linecolor\":\"rgb(36,36,36)\",\"showgrid\":false,\"showline\":true,\"ticks\":\"outside\"}},\"scene\":{\"xaxis\":{\"backgroundcolor\":\"white\",\"gridcolor\":\"rgb(232,232,232)\",\"gridwidth\":2,\"linecolor\":\"rgb(36,36,36)\",\"showbackground\":true,\"showgrid\":false,\"showline\":true,\"ticks\":\"outside\",\"zeroline\":false,\"zerolinecolor\":\"rgb(36,36,36)\"},\"yaxis\":{\"backgroundcolor\":\"white\",\"gridcolor\":\"rgb(232,232,232)\",\"gridwidth\":2,\"linecolor\":\"rgb(36,36,36)\",\"showbackground\":true,\"showgrid\":false,\"showline\":true,\"ticks\":\"outside\",\"zeroline\":false,\"zerolinecolor\":\"rgb(36,36,36)\"},\"zaxis\":{\"backgroundcolor\":\"white\",\"gridcolor\":\"rgb(232,232,232)\",\"gridwidth\":2,\"linecolor\":\"rgb(36,36,36)\",\"showbackground\":true,\"showgrid\":false,\"showline\":true,\"ticks\":\"outside\",\"zeroline\":false,\"zerolinecolor\":\"rgb(36,36,36)\"}},\"shapedefaults\":{\"fillcolor\":\"black\",\"line\":{\"width\":0},\"opacity\":0.3},\"ternary\":{\"aaxis\":{\"gridcolor\":\"rgb(232,232,232)\",\"linecolor\":\"rgb(36,36,36)\",\"showgrid\":false,\"showline\":true,\"ticks\":\"outside\"},\"baxis\":{\"gridcolor\":\"rgb(232,232,232)\",\"linecolor\":\"rgb(36,36,36)\",\"showgrid\":false,\"showline\":true,\"ticks\":\"outside\"},\"bgcolor\":\"white\",\"caxis\":{\"gridcolor\":\"rgb(232,232,232)\",\"linecolor\":\"rgb(36,36,36)\",\"showgrid\":false,\"showline\":true,\"ticks\":\"outside\"}},\"title\":{\"x\":0.05},\"xaxis\":{\"automargin\":true,\"gridcolor\":\"rgb(232,232,232)\",\"linecolor\":\"rgb(36,36,36)\",\"showgrid\":false,\"showline\":true,\"ticks\":\"outside\",\"title\":{\"standoff\":15},\"zeroline\":false,\"zerolinecolor\":\"rgb(36,36,36)\"},\"yaxis\":{\"automargin\":true,\"gridcolor\":\"rgb(232,232,232)\",\"linecolor\":\"rgb(36,36,36)\",\"showgrid\":false,\"showline\":true,\"ticks\":\"outside\",\"title\":{\"standoff\":15},\"zeroline\":false,\"zerolinecolor\":\"rgb(36,36,36)\"}}},\"xaxis\":{\"anchor\":\"y\",\"domain\":[0.0,1.0],\"title\":{\"text\":\"month\"}},\"yaxis\":{\"anchor\":\"x\",\"domain\":[0.0,1.0],\"title\":{\"text\":\"sales\"}},\"legend\":{\"tracegroupgap\":0},\"margin\":{\"t\":60},\"font\":{\"size\":15},\"title\":{\"text\":\"Sales for family product BEAUTY in store 2\",\"x\":0.5},\"width\":850},                        {\"responsive\": true}                    ).then(function(){\n",
       "                            \n",
       "var gd = document.getElementById('2603a6ef-c42c-4556-807a-d87633b5d8e1');\n",
       "var x = new MutationObserver(function (mutations, observer) {{\n",
       "        var display = window.getComputedStyle(gd).display;\n",
       "        if (!display || display === 'none') {{\n",
       "            console.log([gd, 'removed!']);\n",
       "            Plotly.purge(gd);\n",
       "            observer.disconnect();\n",
       "        }}\n",
       "}});\n",
       "\n",
       "// Listen for the removal of the full notebook cells\n",
       "var notebookContainer = gd.closest('#notebook-container');\n",
       "if (notebookContainer) {{\n",
       "    x.observe(notebookContainer, {childList: true});\n",
       "}}\n",
       "\n",
       "// Listen for the clearing of the current output cell\n",
       "var outputEl = gd.closest('.output');\n",
       "if (outputEl) {{\n",
       "    x.observe(outputEl, {childList: true});\n",
       "}}\n",
       "\n",
       "                        })                };                });            </script>        </div>"
      ]
     },
     "metadata": {},
     "output_type": "display_data"
    }
   ],
   "execution_count": 67
  },
  {
   "metadata": {
    "ExecuteTime": {
     "end_time": "2025-01-30T19:44:06.900967Z",
     "start_time": "2025-01-30T19:44:06.897481Z"
    }
   },
   "cell_type": "code",
   "source": [
    "def filter_data(df: pd.DataFrame,  c: int, fam: str) -> pd.DataFrame:\n",
    "    return df[(df['cluster'] == c) & (df['family'] == fam)]\n"
   ],
   "id": "d0a381743bae1957",
   "outputs": [],
   "execution_count": 31
  },
  {
   "metadata": {
    "ExecuteTime": {
     "end_time": "2025-02-02T17:28:00.010643Z",
     "start_time": "2025-02-02T17:27:59.990313Z"
    }
   },
   "cell_type": "code",
   "source": [
    "import pandas as pd\n",
    "\n",
    "# Exemple de DataFrame\n",
    "df = pd.DataFrame({\n",
    "    'date_column': pd.to_datetime(['2023-01-15', '2023-01-20', '2023-02-10', '2023-02-28', '2023-03-05']),\n",
    "    'sales': [100, 200, 150, 300, 250]\n",
    "})\n",
    "\n",
    "# Ajouter une colonne \"month\"\n",
    "df['month'] = df['date_column'].dt.to_period('M')\n",
    "\n",
    "# Grouper par mois sans perdre les données originales\n",
    "df = df.groupby(['month'])['sales'].sum().reset_index()\n",
    "\n",
    "print(df)\n"
   ],
   "id": "8abb357c7c82acb5",
   "outputs": [
    {
     "name": "stdout",
     "output_type": "stream",
     "text": [
      "     month  sales\n",
      "0  2023-01    300\n",
      "1  2023-02    450\n",
      "2  2023-03    250\n"
     ]
    }
   ],
   "execution_count": 58
  },
  {
   "metadata": {
    "ExecuteTime": {
     "end_time": "2025-01-30T19:07:41.594576Z",
     "start_time": "2025-01-30T19:07:37.011878Z"
    }
   },
   "cell_type": "code",
   "source": [
    "# Import packages\n",
    "from scipy.stats import boxcox\n",
    "df_filtered = data.query('sales > 0')\n",
    "# Make the target variance stationary\n",
    "df_filtered['sales_Boxcox'], lam = boxcox(df_filtered['sales'])\n",
    "# Plot the box-cox passenger data\n",
    "plot_sales_volumes(df=df_filtered, y='sales_Boxcox', c=5, fam='BEAUTY')"
   ],
   "id": "32f33cbd7ac23445",
   "outputs": [
    {
     "data": {
      "application/vnd.plotly.v1+json": {
       "data": [
        {
         "hovertemplate": "date=%{x}<br>sales_Boxcox=%{y}<extra></extra>",
         "legendgroup": "",
         "line": {
          "color": "#636efa",
          "dash": "solid"
         },
         "marker": {
          "symbol": "circle"
         },
         "mode": "lines",
         "name": "",
         "showlegend": false,
         "x": [
          "2013-01-02T00:00:00",
          "2013-01-03T00:00:00",
          "2013-01-04T00:00:00",
          "2013-01-05T00:00:00",
          "2013-01-06T00:00:00",
          "2013-01-07T00:00:00",
          "2013-01-08T00:00:00",
          "2013-01-09T00:00:00",
          "2013-01-10T00:00:00",
          "2013-01-11T00:00:00",
          "2013-01-12T00:00:00",
          "2013-01-13T00:00:00",
          "2013-01-14T00:00:00",
          "2013-01-15T00:00:00",
          "2013-01-16T00:00:00",
          "2013-01-17T00:00:00",
          "2013-01-18T00:00:00",
          "2013-01-19T00:00:00",
          "2013-01-20T00:00:00",
          "2013-01-21T00:00:00",
          "2013-01-22T00:00:00",
          "2013-01-23T00:00:00",
          "2013-01-24T00:00:00",
          "2013-01-25T00:00:00",
          "2013-01-26T00:00:00",
          "2013-01-27T00:00:00",
          "2013-01-28T00:00:00",
          "2013-01-29T00:00:00",
          "2013-01-30T00:00:00",
          "2013-01-31T00:00:00",
          "2013-02-01T00:00:00",
          "2013-02-02T00:00:00",
          "2013-02-03T00:00:00",
          "2013-02-04T00:00:00",
          "2013-02-05T00:00:00",
          "2013-02-06T00:00:00",
          "2013-02-07T00:00:00",
          "2013-02-08T00:00:00",
          "2013-02-09T00:00:00",
          "2013-02-10T00:00:00",
          "2013-02-11T00:00:00",
          "2013-02-12T00:00:00",
          "2013-02-13T00:00:00",
          "2013-02-14T00:00:00",
          "2013-02-15T00:00:00",
          "2013-02-16T00:00:00",
          "2013-02-17T00:00:00",
          "2013-02-18T00:00:00",
          "2013-02-19T00:00:00",
          "2013-02-20T00:00:00",
          "2013-02-21T00:00:00",
          "2013-02-22T00:00:00",
          "2013-02-23T00:00:00",
          "2013-02-24T00:00:00",
          "2013-02-25T00:00:00",
          "2013-02-26T00:00:00",
          "2013-02-27T00:00:00",
          "2013-02-28T00:00:00",
          "2013-03-01T00:00:00",
          "2013-03-02T00:00:00",
          "2013-03-03T00:00:00",
          "2013-03-04T00:00:00",
          "2013-03-05T00:00:00",
          "2013-03-06T00:00:00",
          "2013-03-07T00:00:00",
          "2013-03-08T00:00:00",
          "2013-03-09T00:00:00",
          "2013-03-10T00:00:00",
          "2013-03-11T00:00:00",
          "2013-03-12T00:00:00",
          "2013-03-13T00:00:00",
          "2013-03-14T00:00:00",
          "2013-03-15T00:00:00",
          "2013-03-16T00:00:00",
          "2013-03-17T00:00:00",
          "2013-03-18T00:00:00",
          "2013-03-19T00:00:00",
          "2013-03-20T00:00:00",
          "2013-03-21T00:00:00",
          "2013-03-23T00:00:00",
          "2013-03-24T00:00:00",
          "2013-03-25T00:00:00",
          "2013-03-26T00:00:00",
          "2013-03-27T00:00:00",
          "2013-03-28T00:00:00",
          "2013-03-29T00:00:00",
          "2013-03-30T00:00:00",
          "2013-03-31T00:00:00",
          "2013-04-01T00:00:00",
          "2013-04-02T00:00:00",
          "2013-04-03T00:00:00",
          "2013-04-04T00:00:00",
          "2013-04-05T00:00:00",
          "2013-04-06T00:00:00",
          "2013-04-07T00:00:00",
          "2013-04-08T00:00:00",
          "2013-04-09T00:00:00",
          "2013-04-10T00:00:00",
          "2013-04-11T00:00:00",
          "2013-04-12T00:00:00",
          "2013-04-13T00:00:00",
          "2013-04-14T00:00:00",
          "2013-04-15T00:00:00",
          "2013-04-16T00:00:00",
          "2013-04-17T00:00:00",
          "2013-04-18T00:00:00",
          "2013-04-19T00:00:00",
          "2013-04-20T00:00:00",
          "2013-04-21T00:00:00",
          "2013-04-22T00:00:00",
          "2013-04-23T00:00:00",
          "2013-04-24T00:00:00",
          "2013-04-25T00:00:00",
          "2013-04-27T00:00:00",
          "2013-04-28T00:00:00",
          "2013-04-29T00:00:00",
          "2013-04-30T00:00:00",
          "2013-05-01T00:00:00",
          "2013-05-03T00:00:00",
          "2013-05-04T00:00:00",
          "2013-05-05T00:00:00",
          "2013-05-06T00:00:00",
          "2013-05-07T00:00:00",
          "2013-05-08T00:00:00",
          "2013-05-09T00:00:00",
          "2013-05-10T00:00:00",
          "2013-05-11T00:00:00",
          "2013-05-12T00:00:00",
          "2013-05-13T00:00:00",
          "2013-05-14T00:00:00",
          "2013-05-15T00:00:00",
          "2013-05-16T00:00:00",
          "2013-05-17T00:00:00",
          "2013-05-18T00:00:00",
          "2013-05-19T00:00:00",
          "2013-05-20T00:00:00",
          "2013-05-21T00:00:00",
          "2013-05-22T00:00:00",
          "2013-05-23T00:00:00",
          "2013-05-24T00:00:00",
          "2013-05-25T00:00:00",
          "2013-05-26T00:00:00",
          "2013-05-27T00:00:00",
          "2013-05-28T00:00:00",
          "2013-05-29T00:00:00",
          "2013-05-30T00:00:00",
          "2013-05-31T00:00:00",
          "2013-06-01T00:00:00",
          "2013-06-02T00:00:00",
          "2013-06-03T00:00:00",
          "2013-06-04T00:00:00",
          "2013-06-05T00:00:00",
          "2013-06-06T00:00:00",
          "2013-06-07T00:00:00",
          "2013-06-08T00:00:00",
          "2013-06-09T00:00:00",
          "2013-06-10T00:00:00",
          "2013-06-12T00:00:00",
          "2013-06-13T00:00:00",
          "2013-06-14T00:00:00",
          "2013-06-15T00:00:00",
          "2013-06-16T00:00:00",
          "2013-06-17T00:00:00",
          "2013-06-18T00:00:00",
          "2013-06-19T00:00:00",
          "2013-06-20T00:00:00",
          "2013-06-21T00:00:00",
          "2013-06-22T00:00:00",
          "2013-06-23T00:00:00",
          "2013-06-24T00:00:00",
          "2013-06-25T00:00:00",
          "2013-06-26T00:00:00",
          "2013-06-27T00:00:00",
          "2013-06-28T00:00:00",
          "2013-06-29T00:00:00",
          "2013-06-30T00:00:00",
          "2013-07-01T00:00:00",
          "2013-07-02T00:00:00",
          "2013-07-03T00:00:00",
          "2013-07-04T00:00:00",
          "2013-07-05T00:00:00",
          "2013-07-06T00:00:00",
          "2013-07-07T00:00:00",
          "2013-07-08T00:00:00",
          "2013-07-09T00:00:00",
          "2013-07-10T00:00:00",
          "2013-07-11T00:00:00",
          "2013-07-12T00:00:00",
          "2013-07-13T00:00:00",
          "2013-07-14T00:00:00",
          "2013-07-15T00:00:00",
          "2013-07-16T00:00:00",
          "2013-07-17T00:00:00",
          "2013-07-18T00:00:00",
          "2013-07-19T00:00:00",
          "2013-07-20T00:00:00",
          "2013-07-21T00:00:00",
          "2013-07-22T00:00:00",
          "2013-07-23T00:00:00",
          "2013-07-24T00:00:00",
          "2013-07-25T00:00:00",
          "2013-07-26T00:00:00",
          "2013-07-27T00:00:00",
          "2013-07-28T00:00:00",
          "2013-07-29T00:00:00",
          "2013-07-30T00:00:00",
          "2013-07-31T00:00:00",
          "2013-08-01T00:00:00",
          "2013-08-02T00:00:00",
          "2013-08-03T00:00:00",
          "2013-08-04T00:00:00",
          "2013-08-05T00:00:00",
          "2013-08-06T00:00:00",
          "2013-08-07T00:00:00",
          "2013-08-08T00:00:00",
          "2013-08-09T00:00:00",
          "2013-08-10T00:00:00",
          "2013-08-11T00:00:00",
          "2013-08-12T00:00:00",
          "2013-08-13T00:00:00",
          "2013-08-14T00:00:00",
          "2013-08-15T00:00:00",
          "2013-08-16T00:00:00",
          "2013-08-17T00:00:00",
          "2013-08-18T00:00:00",
          "2013-08-19T00:00:00",
          "2013-08-20T00:00:00",
          "2013-08-21T00:00:00",
          "2013-08-22T00:00:00",
          "2013-08-23T00:00:00",
          "2013-08-24T00:00:00",
          "2013-08-25T00:00:00",
          "2013-08-26T00:00:00",
          "2013-08-27T00:00:00",
          "2013-08-28T00:00:00",
          "2013-08-29T00:00:00",
          "2013-08-30T00:00:00",
          "2013-08-31T00:00:00",
          "2013-09-01T00:00:00",
          "2013-09-02T00:00:00",
          "2013-09-03T00:00:00",
          "2013-09-04T00:00:00",
          "2013-09-05T00:00:00",
          "2013-09-06T00:00:00",
          "2013-09-07T00:00:00",
          "2013-09-08T00:00:00",
          "2013-09-09T00:00:00",
          "2013-09-10T00:00:00",
          "2013-09-11T00:00:00",
          "2013-09-12T00:00:00",
          "2013-09-13T00:00:00",
          "2013-09-14T00:00:00",
          "2013-09-15T00:00:00",
          "2013-09-16T00:00:00",
          "2013-09-17T00:00:00",
          "2013-09-18T00:00:00",
          "2013-09-19T00:00:00",
          "2013-09-20T00:00:00",
          "2013-09-21T00:00:00",
          "2013-09-22T00:00:00",
          "2013-09-23T00:00:00",
          "2013-09-24T00:00:00",
          "2013-09-25T00:00:00",
          "2013-09-26T00:00:00",
          "2013-09-27T00:00:00",
          "2013-09-28T00:00:00",
          "2013-09-29T00:00:00",
          "2013-09-30T00:00:00",
          "2013-10-01T00:00:00",
          "2013-10-02T00:00:00",
          "2013-10-03T00:00:00",
          "2013-10-04T00:00:00",
          "2013-10-05T00:00:00",
          "2013-10-06T00:00:00",
          "2013-10-07T00:00:00",
          "2013-10-08T00:00:00",
          "2013-10-09T00:00:00",
          "2013-10-10T00:00:00",
          "2013-10-11T00:00:00",
          "2013-10-12T00:00:00",
          "2013-10-13T00:00:00",
          "2013-10-14T00:00:00",
          "2013-10-15T00:00:00",
          "2013-10-16T00:00:00",
          "2013-10-17T00:00:00",
          "2013-10-18T00:00:00",
          "2013-10-19T00:00:00",
          "2013-10-20T00:00:00",
          "2013-10-21T00:00:00",
          "2013-10-22T00:00:00",
          "2013-10-23T00:00:00",
          "2013-10-24T00:00:00",
          "2013-10-25T00:00:00",
          "2013-10-26T00:00:00",
          "2013-10-27T00:00:00",
          "2013-10-28T00:00:00",
          "2013-10-29T00:00:00",
          "2013-10-30T00:00:00",
          "2013-10-31T00:00:00",
          "2013-11-01T00:00:00",
          "2013-11-02T00:00:00",
          "2013-11-03T00:00:00",
          "2013-11-04T00:00:00",
          "2013-11-05T00:00:00",
          "2013-11-06T00:00:00",
          "2013-11-07T00:00:00",
          "2013-11-08T00:00:00",
          "2013-11-09T00:00:00",
          "2013-11-10T00:00:00",
          "2013-11-11T00:00:00",
          "2013-11-12T00:00:00",
          "2013-11-13T00:00:00",
          "2013-11-15T00:00:00",
          "2013-11-16T00:00:00",
          "2013-11-17T00:00:00",
          "2013-11-18T00:00:00",
          "2013-11-19T00:00:00",
          "2013-11-20T00:00:00",
          "2013-11-21T00:00:00",
          "2013-11-22T00:00:00",
          "2013-11-23T00:00:00",
          "2013-11-24T00:00:00",
          "2013-11-25T00:00:00",
          "2013-11-26T00:00:00",
          "2013-11-27T00:00:00",
          "2013-11-28T00:00:00",
          "2013-11-29T00:00:00",
          "2013-11-30T00:00:00",
          "2013-12-01T00:00:00",
          "2013-12-02T00:00:00",
          "2013-12-03T00:00:00",
          "2013-12-04T00:00:00",
          "2013-12-05T00:00:00",
          "2013-12-06T00:00:00",
          "2013-12-07T00:00:00",
          "2013-12-08T00:00:00",
          "2013-12-09T00:00:00",
          "2013-12-10T00:00:00",
          "2013-12-11T00:00:00",
          "2013-12-12T00:00:00",
          "2013-12-13T00:00:00",
          "2013-12-14T00:00:00",
          "2013-12-15T00:00:00",
          "2013-12-16T00:00:00",
          "2013-12-17T00:00:00",
          "2013-12-19T00:00:00",
          "2013-12-20T00:00:00",
          "2013-12-21T00:00:00",
          "2013-12-22T00:00:00",
          "2013-12-23T00:00:00",
          "2013-12-24T00:00:00",
          "2013-12-26T00:00:00",
          "2013-12-27T00:00:00",
          "2013-12-28T00:00:00",
          "2013-12-29T00:00:00",
          "2013-12-30T00:00:00",
          "2013-12-31T00:00:00",
          "2014-01-02T00:00:00",
          "2014-01-03T00:00:00",
          "2014-01-04T00:00:00",
          "2014-01-05T00:00:00",
          "2014-01-06T00:00:00",
          "2014-01-07T00:00:00",
          "2014-01-08T00:00:00",
          "2014-01-09T00:00:00",
          "2014-01-10T00:00:00",
          "2014-01-11T00:00:00",
          "2014-01-12T00:00:00",
          "2014-01-13T00:00:00",
          "2014-01-14T00:00:00",
          "2014-01-15T00:00:00",
          "2014-01-16T00:00:00",
          "2014-01-17T00:00:00",
          "2014-01-18T00:00:00",
          "2014-01-19T00:00:00",
          "2014-01-20T00:00:00",
          "2014-01-21T00:00:00",
          "2014-01-22T00:00:00",
          "2014-01-23T00:00:00",
          "2014-01-24T00:00:00",
          "2014-01-25T00:00:00",
          "2014-01-26T00:00:00",
          "2014-01-27T00:00:00",
          "2014-01-28T00:00:00",
          "2014-01-29T00:00:00",
          "2014-01-30T00:00:00",
          "2014-01-31T00:00:00",
          "2014-02-01T00:00:00",
          "2014-02-02T00:00:00",
          "2014-02-03T00:00:00",
          "2014-02-04T00:00:00",
          "2014-02-05T00:00:00",
          "2014-02-06T00:00:00",
          "2014-02-07T00:00:00",
          "2014-02-08T00:00:00",
          "2014-02-09T00:00:00",
          "2014-02-10T00:00:00",
          "2014-02-11T00:00:00",
          "2014-02-12T00:00:00",
          "2014-02-13T00:00:00",
          "2014-02-14T00:00:00",
          "2014-02-15T00:00:00",
          "2014-02-16T00:00:00",
          "2014-02-17T00:00:00",
          "2014-02-18T00:00:00",
          "2014-02-19T00:00:00",
          "2014-02-20T00:00:00",
          "2014-02-21T00:00:00",
          "2014-02-22T00:00:00",
          "2014-02-23T00:00:00",
          "2014-02-24T00:00:00",
          "2014-02-25T00:00:00",
          "2014-02-26T00:00:00",
          "2014-02-27T00:00:00",
          "2014-02-28T00:00:00",
          "2014-03-01T00:00:00",
          "2014-03-02T00:00:00",
          "2014-03-03T00:00:00",
          "2014-03-04T00:00:00",
          "2014-03-05T00:00:00",
          "2014-03-06T00:00:00",
          "2014-03-07T00:00:00",
          "2014-03-08T00:00:00",
          "2014-03-09T00:00:00",
          "2014-03-10T00:00:00",
          "2014-03-11T00:00:00",
          "2014-03-12T00:00:00",
          "2014-03-13T00:00:00",
          "2014-03-14T00:00:00",
          "2014-03-15T00:00:00",
          "2014-03-16T00:00:00",
          "2014-03-17T00:00:00",
          "2014-03-18T00:00:00",
          "2014-03-19T00:00:00",
          "2014-03-21T00:00:00",
          "2014-03-22T00:00:00",
          "2014-03-23T00:00:00",
          "2014-03-24T00:00:00",
          "2014-03-25T00:00:00",
          "2014-03-26T00:00:00",
          "2014-03-27T00:00:00",
          "2014-03-28T00:00:00",
          "2014-03-29T00:00:00",
          "2014-03-30T00:00:00",
          "2014-03-31T00:00:00",
          "2014-04-02T00:00:00",
          "2014-04-03T00:00:00",
          "2014-04-04T00:00:00",
          "2014-04-05T00:00:00",
          "2014-04-06T00:00:00",
          "2014-04-07T00:00:00",
          "2014-04-08T00:00:00",
          "2014-04-09T00:00:00",
          "2014-04-10T00:00:00",
          "2014-04-11T00:00:00",
          "2014-04-12T00:00:00",
          "2014-04-13T00:00:00",
          "2014-04-14T00:00:00",
          "2014-04-15T00:00:00",
          "2014-04-16T00:00:00",
          "2014-04-17T00:00:00",
          "2014-04-18T00:00:00",
          "2014-04-19T00:00:00",
          "2014-04-20T00:00:00",
          "2014-04-21T00:00:00",
          "2014-04-22T00:00:00",
          "2014-04-23T00:00:00",
          "2014-04-24T00:00:00",
          "2014-04-25T00:00:00",
          "2014-04-26T00:00:00",
          "2014-04-27T00:00:00",
          "2014-04-28T00:00:00",
          "2014-04-29T00:00:00",
          "2014-04-30T00:00:00",
          "2014-05-01T00:00:00",
          "2014-05-02T00:00:00",
          "2014-05-03T00:00:00",
          "2014-05-04T00:00:00",
          "2014-05-05T00:00:00",
          "2014-05-06T00:00:00",
          "2014-05-07T00:00:00",
          "2014-05-08T00:00:00",
          "2014-05-09T00:00:00",
          "2014-05-10T00:00:00",
          "2014-05-11T00:00:00",
          "2014-05-12T00:00:00",
          "2014-05-13T00:00:00",
          "2014-05-14T00:00:00",
          "2014-05-15T00:00:00",
          "2014-05-16T00:00:00",
          "2014-05-17T00:00:00",
          "2014-05-18T00:00:00",
          "2014-05-19T00:00:00",
          "2014-05-20T00:00:00",
          "2014-05-21T00:00:00",
          "2014-05-22T00:00:00",
          "2014-05-23T00:00:00",
          "2014-05-24T00:00:00",
          "2014-05-25T00:00:00",
          "2014-05-26T00:00:00",
          "2014-05-28T00:00:00",
          "2014-05-29T00:00:00",
          "2014-05-30T00:00:00",
          "2014-05-31T00:00:00",
          "2014-06-01T00:00:00",
          "2014-06-02T00:00:00",
          "2014-06-03T00:00:00",
          "2014-06-04T00:00:00",
          "2014-06-05T00:00:00",
          "2014-06-06T00:00:00",
          "2014-06-07T00:00:00",
          "2014-06-08T00:00:00",
          "2014-06-09T00:00:00",
          "2014-06-10T00:00:00",
          "2014-06-11T00:00:00",
          "2014-06-12T00:00:00",
          "2014-06-13T00:00:00",
          "2014-06-14T00:00:00",
          "2014-06-15T00:00:00",
          "2014-06-16T00:00:00",
          "2014-06-17T00:00:00",
          "2014-06-18T00:00:00",
          "2014-06-19T00:00:00",
          "2014-06-20T00:00:00",
          "2014-06-21T00:00:00",
          "2014-06-22T00:00:00",
          "2014-06-23T00:00:00",
          "2014-06-24T00:00:00",
          "2014-06-25T00:00:00",
          "2014-06-26T00:00:00",
          "2014-06-27T00:00:00",
          "2014-06-28T00:00:00",
          "2014-06-29T00:00:00",
          "2014-06-30T00:00:00",
          "2014-07-01T00:00:00",
          "2014-07-02T00:00:00",
          "2014-07-03T00:00:00",
          "2014-07-04T00:00:00",
          "2014-07-05T00:00:00",
          "2014-07-06T00:00:00",
          "2014-07-07T00:00:00",
          "2014-07-08T00:00:00",
          "2014-07-09T00:00:00",
          "2014-07-10T00:00:00",
          "2014-07-11T00:00:00",
          "2014-07-12T00:00:00",
          "2014-07-13T00:00:00",
          "2014-07-14T00:00:00",
          "2014-07-15T00:00:00",
          "2014-07-16T00:00:00",
          "2014-07-17T00:00:00",
          "2014-07-18T00:00:00",
          "2014-07-19T00:00:00",
          "2014-07-20T00:00:00",
          "2014-07-21T00:00:00",
          "2014-07-22T00:00:00",
          "2014-07-23T00:00:00",
          "2014-07-24T00:00:00",
          "2014-07-25T00:00:00",
          "2014-07-26T00:00:00",
          "2014-07-27T00:00:00",
          "2014-07-28T00:00:00",
          "2014-07-29T00:00:00",
          "2014-07-30T00:00:00",
          "2014-07-31T00:00:00",
          "2014-08-01T00:00:00",
          "2014-08-02T00:00:00",
          "2014-08-03T00:00:00",
          "2014-08-04T00:00:00",
          "2014-08-05T00:00:00",
          "2014-08-06T00:00:00",
          "2014-08-07T00:00:00",
          "2014-08-08T00:00:00",
          "2014-08-09T00:00:00",
          "2014-08-10T00:00:00",
          "2014-08-11T00:00:00",
          "2014-08-12T00:00:00",
          "2014-08-13T00:00:00",
          "2014-08-14T00:00:00",
          "2014-08-15T00:00:00",
          "2014-08-16T00:00:00",
          "2014-08-17T00:00:00",
          "2014-08-18T00:00:00",
          "2014-08-19T00:00:00",
          "2014-08-20T00:00:00",
          "2014-08-21T00:00:00",
          "2014-08-22T00:00:00",
          "2014-08-23T00:00:00",
          "2014-08-24T00:00:00",
          "2014-08-25T00:00:00",
          "2014-08-26T00:00:00",
          "2014-08-27T00:00:00",
          "2014-08-28T00:00:00",
          "2014-08-29T00:00:00",
          "2014-08-30T00:00:00",
          "2014-08-31T00:00:00",
          "2014-09-01T00:00:00",
          "2014-09-02T00:00:00",
          "2014-09-03T00:00:00",
          "2014-09-04T00:00:00",
          "2014-09-05T00:00:00",
          "2014-09-06T00:00:00",
          "2014-09-07T00:00:00",
          "2014-09-08T00:00:00",
          "2014-09-09T00:00:00",
          "2014-09-10T00:00:00",
          "2014-09-11T00:00:00",
          "2014-09-12T00:00:00",
          "2014-09-13T00:00:00",
          "2014-09-14T00:00:00",
          "2014-09-15T00:00:00",
          "2014-09-16T00:00:00",
          "2014-09-17T00:00:00",
          "2014-09-18T00:00:00",
          "2014-09-19T00:00:00",
          "2014-09-20T00:00:00",
          "2014-09-21T00:00:00",
          "2014-09-22T00:00:00",
          "2014-09-23T00:00:00",
          "2014-09-24T00:00:00",
          "2014-09-25T00:00:00",
          "2014-09-26T00:00:00",
          "2014-09-27T00:00:00",
          "2014-09-28T00:00:00",
          "2014-09-29T00:00:00",
          "2014-09-30T00:00:00",
          "2014-10-01T00:00:00",
          "2014-10-02T00:00:00",
          "2014-10-03T00:00:00",
          "2014-10-04T00:00:00",
          "2014-10-05T00:00:00",
          "2014-10-06T00:00:00",
          "2014-10-07T00:00:00",
          "2014-10-08T00:00:00",
          "2014-10-09T00:00:00",
          "2014-10-10T00:00:00",
          "2014-10-11T00:00:00",
          "2014-10-12T00:00:00",
          "2014-10-13T00:00:00",
          "2014-10-14T00:00:00",
          "2014-10-15T00:00:00",
          "2014-10-16T00:00:00",
          "2014-10-17T00:00:00",
          "2014-10-18T00:00:00",
          "2014-10-19T00:00:00",
          "2014-10-20T00:00:00",
          "2014-10-21T00:00:00",
          "2014-10-22T00:00:00",
          "2014-10-23T00:00:00",
          "2014-10-24T00:00:00",
          "2014-10-25T00:00:00",
          "2014-10-26T00:00:00",
          "2014-10-27T00:00:00",
          "2014-10-28T00:00:00",
          "2014-10-29T00:00:00",
          "2014-10-30T00:00:00",
          "2014-10-31T00:00:00",
          "2014-11-01T00:00:00",
          "2014-11-02T00:00:00",
          "2014-11-03T00:00:00",
          "2014-11-04T00:00:00",
          "2014-11-05T00:00:00",
          "2014-11-06T00:00:00",
          "2014-11-07T00:00:00",
          "2014-11-08T00:00:00",
          "2014-11-09T00:00:00",
          "2014-11-10T00:00:00",
          "2014-11-11T00:00:00",
          "2014-11-12T00:00:00",
          "2014-11-13T00:00:00",
          "2014-11-14T00:00:00",
          "2014-11-15T00:00:00",
          "2014-11-16T00:00:00",
          "2014-11-17T00:00:00",
          "2014-11-18T00:00:00",
          "2014-11-19T00:00:00",
          "2014-11-20T00:00:00",
          "2014-11-21T00:00:00",
          "2014-11-22T00:00:00",
          "2014-11-23T00:00:00",
          "2014-11-24T00:00:00",
          "2014-11-25T00:00:00",
          "2014-11-26T00:00:00",
          "2014-11-27T00:00:00",
          "2014-11-28T00:00:00",
          "2014-11-29T00:00:00",
          "2014-11-30T00:00:00",
          "2014-12-01T00:00:00",
          "2014-12-02T00:00:00",
          "2014-12-03T00:00:00",
          "2014-12-04T00:00:00",
          "2014-12-05T00:00:00",
          "2014-12-06T00:00:00",
          "2014-12-07T00:00:00",
          "2014-12-08T00:00:00",
          "2014-12-09T00:00:00",
          "2014-12-10T00:00:00",
          "2014-12-11T00:00:00",
          "2014-12-12T00:00:00",
          "2014-12-13T00:00:00",
          "2014-12-14T00:00:00",
          "2014-12-15T00:00:00",
          "2014-12-16T00:00:00",
          "2014-12-17T00:00:00",
          "2014-12-18T00:00:00",
          "2014-12-19T00:00:00",
          "2014-12-20T00:00:00",
          "2014-12-21T00:00:00",
          "2014-12-22T00:00:00",
          "2014-12-23T00:00:00",
          "2014-12-24T00:00:00",
          "2014-12-26T00:00:00",
          "2014-12-27T00:00:00",
          "2014-12-28T00:00:00",
          "2014-12-29T00:00:00",
          "2014-12-30T00:00:00",
          "2014-12-31T00:00:00",
          "2015-01-02T00:00:00",
          "2015-01-03T00:00:00",
          "2015-01-04T00:00:00",
          "2015-01-05T00:00:00",
          "2015-01-06T00:00:00",
          "2015-01-07T00:00:00",
          "2015-01-08T00:00:00",
          "2015-01-09T00:00:00",
          "2015-01-10T00:00:00",
          "2015-01-11T00:00:00",
          "2015-01-12T00:00:00",
          "2015-01-13T00:00:00",
          "2015-01-14T00:00:00",
          "2015-01-15T00:00:00",
          "2015-01-16T00:00:00",
          "2015-01-17T00:00:00",
          "2015-01-18T00:00:00",
          "2015-01-19T00:00:00",
          "2015-01-20T00:00:00",
          "2015-01-21T00:00:00",
          "2015-01-22T00:00:00",
          "2015-01-23T00:00:00",
          "2015-01-24T00:00:00",
          "2015-01-25T00:00:00",
          "2015-01-26T00:00:00",
          "2015-01-27T00:00:00",
          "2015-01-28T00:00:00",
          "2015-01-29T00:00:00",
          "2015-01-30T00:00:00",
          "2015-01-31T00:00:00",
          "2015-02-01T00:00:00",
          "2015-02-02T00:00:00",
          "2015-02-03T00:00:00",
          "2015-02-04T00:00:00",
          "2015-02-05T00:00:00",
          "2015-02-06T00:00:00",
          "2015-02-07T00:00:00",
          "2015-02-08T00:00:00",
          "2015-02-09T00:00:00",
          "2015-02-10T00:00:00",
          "2015-02-11T00:00:00",
          "2015-02-12T00:00:00",
          "2015-02-13T00:00:00",
          "2015-02-14T00:00:00",
          "2015-02-15T00:00:00",
          "2015-02-16T00:00:00",
          "2015-02-17T00:00:00",
          "2015-02-18T00:00:00",
          "2015-02-19T00:00:00",
          "2015-02-20T00:00:00",
          "2015-02-21T00:00:00",
          "2015-02-22T00:00:00",
          "2015-02-23T00:00:00",
          "2015-02-24T00:00:00",
          "2015-02-25T00:00:00",
          "2015-02-26T00:00:00",
          "2015-02-27T00:00:00",
          "2015-02-28T00:00:00",
          "2015-03-01T00:00:00",
          "2015-03-02T00:00:00",
          "2015-03-03T00:00:00",
          "2015-03-04T00:00:00",
          "2015-03-05T00:00:00",
          "2015-03-06T00:00:00",
          "2015-03-07T00:00:00",
          "2015-03-08T00:00:00",
          "2015-03-09T00:00:00",
          "2015-03-10T00:00:00",
          "2015-03-11T00:00:00",
          "2015-03-12T00:00:00",
          "2015-03-13T00:00:00",
          "2015-03-14T00:00:00",
          "2015-03-15T00:00:00",
          "2015-03-16T00:00:00",
          "2015-03-17T00:00:00",
          "2015-03-18T00:00:00",
          "2015-03-19T00:00:00",
          "2015-03-20T00:00:00",
          "2015-03-21T00:00:00",
          "2015-03-22T00:00:00",
          "2015-03-23T00:00:00",
          "2015-03-24T00:00:00",
          "2015-03-25T00:00:00",
          "2015-03-26T00:00:00",
          "2015-03-27T00:00:00",
          "2015-03-28T00:00:00",
          "2015-03-29T00:00:00",
          "2015-03-30T00:00:00",
          "2015-03-31T00:00:00",
          "2015-04-01T00:00:00",
          "2015-04-02T00:00:00",
          "2015-04-03T00:00:00",
          "2015-04-04T00:00:00",
          "2015-04-05T00:00:00",
          "2015-04-06T00:00:00",
          "2015-04-07T00:00:00",
          "2015-04-08T00:00:00",
          "2015-04-09T00:00:00",
          "2015-04-10T00:00:00",
          "2015-04-11T00:00:00",
          "2015-04-12T00:00:00",
          "2015-04-13T00:00:00",
          "2015-04-14T00:00:00",
          "2015-04-15T00:00:00",
          "2015-04-16T00:00:00",
          "2015-04-17T00:00:00",
          "2015-04-18T00:00:00",
          "2015-04-19T00:00:00",
          "2015-04-20T00:00:00",
          "2015-04-21T00:00:00",
          "2015-04-22T00:00:00",
          "2015-04-23T00:00:00",
          "2015-04-24T00:00:00",
          "2015-04-25T00:00:00",
          "2015-04-26T00:00:00",
          "2015-04-27T00:00:00",
          "2015-04-28T00:00:00",
          "2015-04-29T00:00:00",
          "2015-04-30T00:00:00",
          "2015-05-01T00:00:00",
          "2015-05-02T00:00:00",
          "2015-05-03T00:00:00",
          "2015-05-04T00:00:00",
          "2015-05-05T00:00:00",
          "2015-05-06T00:00:00",
          "2015-05-07T00:00:00",
          "2015-05-08T00:00:00",
          "2015-05-09T00:00:00",
          "2015-05-10T00:00:00",
          "2015-05-11T00:00:00",
          "2015-05-12T00:00:00",
          "2015-05-13T00:00:00",
          "2015-05-14T00:00:00",
          "2015-05-15T00:00:00",
          "2015-05-16T00:00:00",
          "2015-05-17T00:00:00",
          "2015-05-18T00:00:00",
          "2015-05-19T00:00:00",
          "2015-05-20T00:00:00",
          "2015-05-21T00:00:00",
          "2015-05-22T00:00:00",
          "2015-05-23T00:00:00",
          "2015-05-24T00:00:00",
          "2015-05-25T00:00:00",
          "2015-05-26T00:00:00",
          "2015-05-27T00:00:00",
          "2015-05-28T00:00:00",
          "2015-05-29T00:00:00",
          "2015-05-30T00:00:00",
          "2015-05-31T00:00:00",
          "2015-06-01T00:00:00",
          "2015-06-02T00:00:00",
          "2015-06-03T00:00:00",
          "2015-06-04T00:00:00",
          "2015-06-05T00:00:00",
          "2015-06-06T00:00:00",
          "2015-06-07T00:00:00",
          "2015-06-08T00:00:00",
          "2015-06-09T00:00:00",
          "2015-06-10T00:00:00",
          "2015-06-11T00:00:00",
          "2015-06-12T00:00:00",
          "2015-06-13T00:00:00",
          "2015-06-14T00:00:00",
          "2015-06-15T00:00:00",
          "2015-06-16T00:00:00",
          "2015-06-17T00:00:00",
          "2015-06-18T00:00:00",
          "2015-06-19T00:00:00",
          "2015-06-20T00:00:00",
          "2015-06-21T00:00:00",
          "2015-06-22T00:00:00",
          "2015-06-23T00:00:00",
          "2015-06-24T00:00:00",
          "2015-06-25T00:00:00",
          "2015-06-26T00:00:00",
          "2015-06-27T00:00:00",
          "2015-06-28T00:00:00",
          "2015-06-29T00:00:00",
          "2015-06-30T00:00:00",
          "2015-07-01T00:00:00",
          "2015-07-02T00:00:00",
          "2015-07-03T00:00:00",
          "2015-07-04T00:00:00",
          "2015-07-05T00:00:00",
          "2015-07-06T00:00:00",
          "2015-07-07T00:00:00",
          "2015-07-08T00:00:00",
          "2015-07-09T00:00:00",
          "2015-07-10T00:00:00",
          "2015-07-11T00:00:00",
          "2015-07-12T00:00:00",
          "2015-07-13T00:00:00",
          "2015-07-14T00:00:00",
          "2015-07-15T00:00:00",
          "2015-07-16T00:00:00",
          "2015-07-17T00:00:00",
          "2015-07-18T00:00:00",
          "2015-07-19T00:00:00",
          "2015-07-20T00:00:00",
          "2015-07-21T00:00:00",
          "2015-07-22T00:00:00",
          "2015-07-23T00:00:00",
          "2015-07-24T00:00:00",
          "2015-07-25T00:00:00",
          "2015-07-26T00:00:00",
          "2015-07-27T00:00:00",
          "2015-07-28T00:00:00",
          "2015-07-29T00:00:00",
          "2015-07-30T00:00:00",
          "2015-07-31T00:00:00",
          "2015-08-01T00:00:00",
          "2015-08-02T00:00:00",
          "2015-08-03T00:00:00",
          "2015-08-04T00:00:00",
          "2015-08-05T00:00:00",
          "2015-08-06T00:00:00",
          "2015-08-07T00:00:00",
          "2015-08-08T00:00:00",
          "2015-08-09T00:00:00",
          "2015-08-10T00:00:00",
          "2015-08-11T00:00:00",
          "2015-08-12T00:00:00",
          "2015-08-13T00:00:00",
          "2015-08-14T00:00:00",
          "2015-08-15T00:00:00",
          "2015-08-16T00:00:00",
          "2015-08-17T00:00:00",
          "2015-08-18T00:00:00",
          "2015-08-19T00:00:00",
          "2015-08-20T00:00:00",
          "2015-08-21T00:00:00",
          "2015-08-22T00:00:00",
          "2015-08-23T00:00:00",
          "2015-08-24T00:00:00",
          "2015-08-25T00:00:00",
          "2015-08-26T00:00:00",
          "2015-08-27T00:00:00",
          "2015-08-28T00:00:00",
          "2015-08-29T00:00:00",
          "2015-08-30T00:00:00",
          "2015-08-31T00:00:00",
          "2015-09-01T00:00:00",
          "2015-09-02T00:00:00",
          "2015-09-03T00:00:00",
          "2015-09-04T00:00:00",
          "2015-09-05T00:00:00",
          "2015-09-06T00:00:00",
          "2015-09-07T00:00:00",
          "2015-09-08T00:00:00",
          "2015-09-09T00:00:00",
          "2015-09-10T00:00:00",
          "2015-09-11T00:00:00",
          "2015-09-12T00:00:00",
          "2015-09-13T00:00:00",
          "2015-09-14T00:00:00",
          "2015-09-15T00:00:00",
          "2015-09-16T00:00:00",
          "2015-09-17T00:00:00",
          "2015-09-18T00:00:00",
          "2015-09-19T00:00:00",
          "2015-09-20T00:00:00",
          "2015-09-21T00:00:00",
          "2015-09-22T00:00:00",
          "2015-09-23T00:00:00",
          "2015-09-24T00:00:00",
          "2015-09-25T00:00:00",
          "2015-09-26T00:00:00",
          "2015-09-27T00:00:00",
          "2015-09-28T00:00:00",
          "2015-09-29T00:00:00",
          "2015-09-30T00:00:00",
          "2015-10-01T00:00:00",
          "2015-10-02T00:00:00",
          "2015-10-03T00:00:00",
          "2015-10-04T00:00:00",
          "2015-10-05T00:00:00",
          "2015-10-06T00:00:00",
          "2015-10-07T00:00:00",
          "2015-10-08T00:00:00",
          "2015-10-09T00:00:00",
          "2015-10-10T00:00:00",
          "2015-10-11T00:00:00",
          "2015-10-12T00:00:00",
          "2015-10-13T00:00:00",
          "2015-10-14T00:00:00",
          "2015-10-15T00:00:00",
          "2015-10-16T00:00:00",
          "2015-10-17T00:00:00",
          "2015-10-18T00:00:00",
          "2015-10-19T00:00:00",
          "2015-10-20T00:00:00",
          "2015-10-21T00:00:00",
          "2015-10-22T00:00:00",
          "2015-10-23T00:00:00",
          "2015-10-24T00:00:00",
          "2015-10-25T00:00:00",
          "2015-10-26T00:00:00",
          "2015-10-27T00:00:00",
          "2015-10-28T00:00:00",
          "2015-10-29T00:00:00",
          "2015-10-30T00:00:00",
          "2015-10-31T00:00:00",
          "2015-11-01T00:00:00",
          "2015-11-02T00:00:00",
          "2015-11-03T00:00:00",
          "2015-11-04T00:00:00",
          "2015-11-05T00:00:00",
          "2015-11-06T00:00:00",
          "2015-11-07T00:00:00",
          "2015-11-08T00:00:00",
          "2015-11-09T00:00:00",
          "2015-11-10T00:00:00",
          "2015-11-11T00:00:00",
          "2015-11-12T00:00:00",
          "2015-11-13T00:00:00",
          "2015-11-14T00:00:00",
          "2015-11-15T00:00:00",
          "2015-11-16T00:00:00",
          "2015-11-17T00:00:00",
          "2015-11-18T00:00:00",
          "2015-11-19T00:00:00",
          "2015-11-20T00:00:00",
          "2015-11-21T00:00:00",
          "2015-11-22T00:00:00",
          "2015-11-23T00:00:00",
          "2015-11-24T00:00:00",
          "2015-11-25T00:00:00",
          "2015-11-26T00:00:00",
          "2015-11-27T00:00:00",
          "2015-11-28T00:00:00",
          "2015-11-29T00:00:00",
          "2015-11-30T00:00:00",
          "2015-12-01T00:00:00",
          "2015-12-02T00:00:00",
          "2015-12-03T00:00:00",
          "2015-12-04T00:00:00",
          "2015-12-05T00:00:00",
          "2015-12-06T00:00:00",
          "2015-12-07T00:00:00",
          "2015-12-08T00:00:00",
          "2015-12-09T00:00:00",
          "2015-12-10T00:00:00",
          "2015-12-11T00:00:00",
          "2015-12-12T00:00:00",
          "2015-12-13T00:00:00",
          "2015-12-14T00:00:00",
          "2015-12-15T00:00:00",
          "2015-12-16T00:00:00",
          "2015-12-17T00:00:00",
          "2015-12-18T00:00:00",
          "2015-12-19T00:00:00",
          "2015-12-20T00:00:00",
          "2015-12-21T00:00:00",
          "2015-12-22T00:00:00",
          "2015-12-23T00:00:00",
          "2015-12-24T00:00:00",
          "2015-12-26T00:00:00",
          "2015-12-27T00:00:00",
          "2015-12-28T00:00:00",
          "2015-12-29T00:00:00",
          "2015-12-30T00:00:00",
          "2015-12-31T00:00:00",
          "2016-01-02T00:00:00",
          "2016-01-03T00:00:00",
          "2016-01-04T00:00:00",
          "2016-01-05T00:00:00",
          "2016-01-06T00:00:00",
          "2016-01-07T00:00:00",
          "2016-01-08T00:00:00",
          "2016-01-09T00:00:00",
          "2016-01-10T00:00:00",
          "2016-01-11T00:00:00",
          "2016-01-12T00:00:00",
          "2016-01-13T00:00:00",
          "2016-01-14T00:00:00",
          "2016-01-15T00:00:00",
          "2016-01-16T00:00:00",
          "2016-01-17T00:00:00",
          "2016-01-18T00:00:00",
          "2016-01-19T00:00:00",
          "2016-01-20T00:00:00",
          "2016-01-21T00:00:00",
          "2016-01-22T00:00:00",
          "2016-01-23T00:00:00",
          "2016-01-24T00:00:00",
          "2016-01-25T00:00:00",
          "2016-01-26T00:00:00",
          "2016-01-27T00:00:00",
          "2016-01-28T00:00:00",
          "2016-01-29T00:00:00",
          "2016-01-30T00:00:00",
          "2016-01-31T00:00:00",
          "2016-02-01T00:00:00",
          "2016-02-02T00:00:00",
          "2016-02-03T00:00:00",
          "2016-02-04T00:00:00",
          "2016-02-05T00:00:00",
          "2016-02-06T00:00:00",
          "2016-02-07T00:00:00",
          "2016-02-08T00:00:00",
          "2016-02-09T00:00:00",
          "2016-02-10T00:00:00",
          "2016-02-11T00:00:00",
          "2016-02-12T00:00:00",
          "2016-02-13T00:00:00",
          "2016-02-14T00:00:00",
          "2016-02-15T00:00:00",
          "2016-02-16T00:00:00",
          "2016-02-17T00:00:00",
          "2016-02-18T00:00:00",
          "2016-02-19T00:00:00",
          "2016-02-20T00:00:00",
          "2016-02-21T00:00:00",
          "2016-02-22T00:00:00",
          "2016-02-23T00:00:00",
          "2016-02-24T00:00:00",
          "2016-02-25T00:00:00",
          "2016-02-26T00:00:00",
          "2016-02-27T00:00:00",
          "2016-02-28T00:00:00",
          "2016-02-29T00:00:00",
          "2016-03-01T00:00:00",
          "2016-03-02T00:00:00",
          "2016-03-03T00:00:00",
          "2016-03-04T00:00:00",
          "2016-03-05T00:00:00",
          "2016-03-06T00:00:00",
          "2016-03-07T00:00:00",
          "2016-03-08T00:00:00",
          "2016-03-09T00:00:00",
          "2016-03-10T00:00:00",
          "2016-03-11T00:00:00",
          "2016-03-12T00:00:00",
          "2016-03-13T00:00:00",
          "2016-03-14T00:00:00",
          "2016-03-15T00:00:00",
          "2016-03-16T00:00:00",
          "2016-03-17T00:00:00",
          "2016-03-18T00:00:00",
          "2016-03-19T00:00:00",
          "2016-03-20T00:00:00",
          "2016-03-21T00:00:00",
          "2016-03-22T00:00:00",
          "2016-03-23T00:00:00",
          "2016-03-24T00:00:00",
          "2016-03-25T00:00:00",
          "2016-03-26T00:00:00",
          "2016-03-27T00:00:00",
          "2016-03-28T00:00:00",
          "2016-03-29T00:00:00",
          "2016-03-30T00:00:00",
          "2016-03-31T00:00:00",
          "2016-04-01T00:00:00",
          "2016-04-02T00:00:00",
          "2016-04-03T00:00:00",
          "2016-04-04T00:00:00",
          "2016-04-05T00:00:00",
          "2016-04-06T00:00:00",
          "2016-04-07T00:00:00",
          "2016-04-08T00:00:00",
          "2016-04-09T00:00:00",
          "2016-04-10T00:00:00",
          "2016-04-11T00:00:00",
          "2016-04-12T00:00:00",
          "2016-04-13T00:00:00",
          "2016-04-14T00:00:00",
          "2016-04-15T00:00:00",
          "2016-04-16T00:00:00",
          "2016-04-17T00:00:00",
          "2016-04-18T00:00:00",
          "2016-04-19T00:00:00",
          "2016-04-20T00:00:00",
          "2016-04-21T00:00:00",
          "2016-04-22T00:00:00",
          "2016-04-23T00:00:00",
          "2016-04-24T00:00:00",
          "2016-04-25T00:00:00",
          "2016-04-26T00:00:00",
          "2016-04-27T00:00:00",
          "2016-04-28T00:00:00",
          "2016-04-29T00:00:00",
          "2016-04-30T00:00:00",
          "2016-05-01T00:00:00",
          "2016-05-02T00:00:00",
          "2016-05-03T00:00:00",
          "2016-05-04T00:00:00",
          "2016-05-05T00:00:00",
          "2016-05-06T00:00:00",
          "2016-05-07T00:00:00",
          "2016-05-08T00:00:00",
          "2016-05-09T00:00:00",
          "2016-05-10T00:00:00",
          "2016-05-11T00:00:00",
          "2016-05-12T00:00:00",
          "2016-05-13T00:00:00",
          "2016-05-14T00:00:00",
          "2016-05-15T00:00:00",
          "2016-05-16T00:00:00",
          "2016-05-17T00:00:00",
          "2016-05-18T00:00:00",
          "2016-05-19T00:00:00",
          "2016-05-20T00:00:00",
          "2016-05-21T00:00:00",
          "2016-05-22T00:00:00",
          "2016-05-23T00:00:00",
          "2016-05-24T00:00:00",
          "2016-05-25T00:00:00",
          "2016-05-26T00:00:00",
          "2016-05-27T00:00:00",
          "2016-05-28T00:00:00",
          "2016-05-29T00:00:00",
          "2016-05-30T00:00:00",
          "2016-05-31T00:00:00",
          "2016-06-01T00:00:00",
          "2016-06-02T00:00:00",
          "2016-06-03T00:00:00",
          "2016-06-04T00:00:00",
          "2016-06-05T00:00:00",
          "2016-06-06T00:00:00",
          "2016-06-07T00:00:00",
          "2016-06-08T00:00:00",
          "2016-06-09T00:00:00",
          "2016-06-10T00:00:00",
          "2016-06-11T00:00:00",
          "2016-06-12T00:00:00",
          "2016-06-13T00:00:00",
          "2016-06-14T00:00:00",
          "2016-06-15T00:00:00",
          "2016-06-16T00:00:00",
          "2016-06-17T00:00:00",
          "2016-06-18T00:00:00",
          "2016-06-19T00:00:00",
          "2016-06-20T00:00:00",
          "2016-06-21T00:00:00",
          "2016-06-22T00:00:00",
          "2016-06-23T00:00:00",
          "2016-06-24T00:00:00",
          "2016-06-25T00:00:00",
          "2016-06-26T00:00:00",
          "2016-06-27T00:00:00",
          "2016-06-28T00:00:00",
          "2016-06-29T00:00:00",
          "2016-06-30T00:00:00",
          "2016-07-01T00:00:00",
          "2016-07-02T00:00:00",
          "2016-07-03T00:00:00",
          "2016-07-04T00:00:00",
          "2016-07-05T00:00:00",
          "2016-07-06T00:00:00",
          "2016-07-07T00:00:00",
          "2016-07-08T00:00:00",
          "2016-07-09T00:00:00",
          "2016-07-10T00:00:00",
          "2016-07-11T00:00:00",
          "2016-07-12T00:00:00",
          "2016-07-13T00:00:00",
          "2016-07-14T00:00:00",
          "2016-07-15T00:00:00",
          "2016-07-16T00:00:00",
          "2016-07-17T00:00:00",
          "2016-07-18T00:00:00",
          "2016-07-19T00:00:00",
          "2016-07-20T00:00:00",
          "2016-07-21T00:00:00",
          "2016-07-22T00:00:00",
          "2016-07-23T00:00:00",
          "2016-07-24T00:00:00",
          "2016-07-25T00:00:00",
          "2016-07-26T00:00:00",
          "2016-07-27T00:00:00",
          "2016-07-28T00:00:00",
          "2016-07-29T00:00:00",
          "2016-07-30T00:00:00",
          "2016-07-31T00:00:00",
          "2016-08-01T00:00:00",
          "2016-08-02T00:00:00",
          "2016-08-03T00:00:00",
          "2016-08-04T00:00:00",
          "2016-08-05T00:00:00",
          "2016-08-06T00:00:00",
          "2016-08-07T00:00:00",
          "2016-08-08T00:00:00",
          "2016-08-09T00:00:00",
          "2016-08-10T00:00:00",
          "2016-08-11T00:00:00",
          "2016-08-12T00:00:00",
          "2016-08-13T00:00:00",
          "2016-08-14T00:00:00",
          "2016-08-15T00:00:00",
          "2016-08-16T00:00:00",
          "2016-08-17T00:00:00",
          "2016-08-18T00:00:00",
          "2016-08-19T00:00:00",
          "2016-08-20T00:00:00",
          "2016-08-21T00:00:00",
          "2016-08-22T00:00:00",
          "2016-08-23T00:00:00",
          "2016-08-24T00:00:00",
          "2016-08-25T00:00:00",
          "2016-08-26T00:00:00",
          "2016-08-27T00:00:00",
          "2016-08-28T00:00:00",
          "2016-08-29T00:00:00",
          "2016-08-30T00:00:00",
          "2016-08-31T00:00:00",
          "2016-09-01T00:00:00",
          "2016-09-02T00:00:00",
          "2016-09-03T00:00:00",
          "2016-09-04T00:00:00",
          "2016-09-05T00:00:00",
          "2016-09-06T00:00:00",
          "2016-09-07T00:00:00",
          "2016-09-08T00:00:00",
          "2016-09-09T00:00:00",
          "2016-09-10T00:00:00",
          "2016-09-11T00:00:00",
          "2016-09-12T00:00:00",
          "2016-09-13T00:00:00",
          "2016-09-14T00:00:00",
          "2016-09-15T00:00:00",
          "2016-09-16T00:00:00",
          "2016-09-17T00:00:00",
          "2016-09-18T00:00:00",
          "2016-09-19T00:00:00",
          "2016-09-20T00:00:00",
          "2016-09-21T00:00:00",
          "2016-09-22T00:00:00",
          "2016-09-23T00:00:00",
          "2016-09-24T00:00:00",
          "2016-09-25T00:00:00",
          "2016-09-26T00:00:00",
          "2016-09-27T00:00:00",
          "2016-09-28T00:00:00",
          "2016-09-29T00:00:00",
          "2016-09-30T00:00:00",
          "2016-10-01T00:00:00",
          "2016-10-02T00:00:00",
          "2016-10-03T00:00:00",
          "2016-10-04T00:00:00",
          "2016-10-05T00:00:00",
          "2016-10-06T00:00:00",
          "2016-10-07T00:00:00",
          "2016-10-08T00:00:00",
          "2016-10-09T00:00:00",
          "2016-10-10T00:00:00",
          "2016-10-11T00:00:00",
          "2016-10-12T00:00:00",
          "2016-10-13T00:00:00",
          "2016-10-14T00:00:00",
          "2016-10-15T00:00:00",
          "2016-10-16T00:00:00",
          "2016-10-17T00:00:00",
          "2016-10-18T00:00:00",
          "2016-10-19T00:00:00",
          "2016-10-20T00:00:00",
          "2016-10-21T00:00:00",
          "2016-10-22T00:00:00",
          "2016-10-23T00:00:00",
          "2016-10-24T00:00:00",
          "2016-10-25T00:00:00",
          "2016-10-26T00:00:00",
          "2016-10-27T00:00:00",
          "2016-10-28T00:00:00",
          "2016-10-29T00:00:00",
          "2016-10-30T00:00:00",
          "2016-10-31T00:00:00",
          "2016-11-01T00:00:00",
          "2016-11-02T00:00:00",
          "2016-11-03T00:00:00",
          "2016-11-04T00:00:00",
          "2016-11-05T00:00:00",
          "2016-11-06T00:00:00",
          "2016-11-07T00:00:00",
          "2016-11-08T00:00:00",
          "2016-11-09T00:00:00",
          "2016-11-10T00:00:00",
          "2016-11-11T00:00:00",
          "2016-11-12T00:00:00",
          "2016-11-13T00:00:00",
          "2016-11-14T00:00:00",
          "2016-11-15T00:00:00",
          "2016-11-16T00:00:00",
          "2016-11-17T00:00:00",
          "2016-11-18T00:00:00",
          "2016-11-19T00:00:00",
          "2016-11-20T00:00:00",
          "2016-11-21T00:00:00",
          "2016-11-22T00:00:00",
          "2016-11-23T00:00:00",
          "2016-11-24T00:00:00",
          "2016-11-25T00:00:00",
          "2016-11-26T00:00:00",
          "2016-11-27T00:00:00",
          "2016-11-28T00:00:00",
          "2016-11-29T00:00:00",
          "2016-11-30T00:00:00",
          "2016-12-01T00:00:00",
          "2016-12-02T00:00:00",
          "2016-12-03T00:00:00",
          "2016-12-04T00:00:00",
          "2016-12-05T00:00:00",
          "2016-12-06T00:00:00",
          "2016-12-07T00:00:00",
          "2016-12-08T00:00:00",
          "2016-12-09T00:00:00",
          "2016-12-10T00:00:00",
          "2016-12-11T00:00:00",
          "2016-12-12T00:00:00",
          "2016-12-13T00:00:00",
          "2016-12-14T00:00:00",
          "2016-12-15T00:00:00",
          "2016-12-16T00:00:00",
          "2016-12-17T00:00:00",
          "2016-12-18T00:00:00",
          "2016-12-19T00:00:00",
          "2016-12-20T00:00:00",
          "2016-12-21T00:00:00",
          "2016-12-22T00:00:00",
          "2016-12-23T00:00:00",
          "2016-12-24T00:00:00",
          "2016-12-26T00:00:00",
          "2016-12-27T00:00:00",
          "2016-12-28T00:00:00",
          "2016-12-29T00:00:00",
          "2016-12-30T00:00:00",
          "2016-12-31T00:00:00",
          "2017-01-02T00:00:00",
          "2017-01-03T00:00:00",
          "2017-01-04T00:00:00",
          "2017-01-05T00:00:00",
          "2017-01-06T00:00:00",
          "2017-01-07T00:00:00",
          "2017-01-08T00:00:00",
          "2017-01-09T00:00:00",
          "2017-01-10T00:00:00",
          "2017-01-11T00:00:00",
          "2017-01-12T00:00:00",
          "2017-01-13T00:00:00",
          "2017-01-14T00:00:00",
          "2017-01-15T00:00:00",
          "2017-01-16T00:00:00",
          "2017-01-17T00:00:00",
          "2017-01-18T00:00:00",
          "2017-01-19T00:00:00",
          "2017-01-20T00:00:00",
          "2017-01-21T00:00:00",
          "2017-01-22T00:00:00",
          "2017-01-23T00:00:00",
          "2017-01-24T00:00:00",
          "2017-01-25T00:00:00",
          "2017-01-26T00:00:00",
          "2017-01-27T00:00:00",
          "2017-01-28T00:00:00",
          "2017-01-29T00:00:00",
          "2017-01-30T00:00:00",
          "2017-01-31T00:00:00",
          "2017-02-01T00:00:00",
          "2017-02-02T00:00:00",
          "2017-02-03T00:00:00",
          "2017-02-04T00:00:00",
          "2017-02-05T00:00:00",
          "2017-02-06T00:00:00",
          "2017-02-07T00:00:00",
          "2017-02-08T00:00:00",
          "2017-02-09T00:00:00",
          "2017-02-10T00:00:00",
          "2017-02-11T00:00:00",
          "2017-02-12T00:00:00",
          "2017-02-13T00:00:00",
          "2017-02-14T00:00:00",
          "2017-02-15T00:00:00",
          "2017-02-16T00:00:00",
          "2017-02-17T00:00:00",
          "2017-02-18T00:00:00",
          "2017-02-19T00:00:00",
          "2017-02-20T00:00:00",
          "2017-02-21T00:00:00",
          "2017-02-22T00:00:00",
          "2017-02-23T00:00:00",
          "2017-02-24T00:00:00",
          "2017-02-25T00:00:00",
          "2017-02-26T00:00:00",
          "2017-02-27T00:00:00",
          "2017-02-28T00:00:00",
          "2017-03-01T00:00:00",
          "2017-03-02T00:00:00",
          "2017-03-03T00:00:00",
          "2017-03-04T00:00:00",
          "2017-03-05T00:00:00",
          "2017-03-06T00:00:00",
          "2017-03-07T00:00:00",
          "2017-03-08T00:00:00",
          "2017-03-09T00:00:00",
          "2017-03-10T00:00:00",
          "2017-03-11T00:00:00",
          "2017-03-12T00:00:00",
          "2017-03-13T00:00:00",
          "2017-03-14T00:00:00",
          "2017-03-15T00:00:00",
          "2017-03-16T00:00:00",
          "2017-03-17T00:00:00",
          "2017-03-18T00:00:00",
          "2017-03-19T00:00:00",
          "2017-03-20T00:00:00",
          "2017-03-21T00:00:00",
          "2017-03-22T00:00:00",
          "2017-03-23T00:00:00",
          "2017-03-24T00:00:00",
          "2017-03-25T00:00:00",
          "2017-03-26T00:00:00",
          "2017-03-27T00:00:00",
          "2017-03-28T00:00:00",
          "2017-03-29T00:00:00",
          "2017-03-30T00:00:00",
          "2017-03-31T00:00:00",
          "2017-04-01T00:00:00",
          "2017-04-02T00:00:00",
          "2017-04-03T00:00:00",
          "2017-04-04T00:00:00",
          "2017-04-05T00:00:00",
          "2017-04-06T00:00:00",
          "2017-04-07T00:00:00",
          "2017-04-08T00:00:00",
          "2017-04-09T00:00:00",
          "2017-04-10T00:00:00",
          "2017-04-11T00:00:00",
          "2017-04-12T00:00:00",
          "2017-04-13T00:00:00",
          "2017-04-14T00:00:00",
          "2017-04-15T00:00:00",
          "2017-04-16T00:00:00",
          "2017-04-17T00:00:00",
          "2017-04-18T00:00:00",
          "2017-04-19T00:00:00",
          "2017-04-20T00:00:00",
          "2017-04-21T00:00:00",
          "2017-04-22T00:00:00",
          "2017-04-23T00:00:00",
          "2017-04-24T00:00:00",
          "2017-04-25T00:00:00",
          "2017-04-26T00:00:00",
          "2017-04-27T00:00:00",
          "2017-04-28T00:00:00",
          "2017-04-29T00:00:00",
          "2017-04-30T00:00:00",
          "2017-05-01T00:00:00",
          "2017-05-02T00:00:00",
          "2017-05-03T00:00:00",
          "2017-05-04T00:00:00",
          "2017-05-05T00:00:00",
          "2017-05-06T00:00:00",
          "2017-05-07T00:00:00",
          "2017-05-08T00:00:00",
          "2017-05-09T00:00:00",
          "2017-05-10T00:00:00",
          "2017-05-11T00:00:00",
          "2017-05-12T00:00:00",
          "2017-05-13T00:00:00",
          "2017-05-14T00:00:00",
          "2017-05-15T00:00:00",
          "2017-05-16T00:00:00",
          "2017-05-17T00:00:00",
          "2017-05-18T00:00:00",
          "2017-05-19T00:00:00",
          "2017-05-20T00:00:00",
          "2017-05-21T00:00:00",
          "2017-05-22T00:00:00",
          "2017-05-23T00:00:00",
          "2017-05-24T00:00:00",
          "2017-05-25T00:00:00",
          "2017-05-26T00:00:00",
          "2017-05-27T00:00:00",
          "2017-05-28T00:00:00",
          "2017-05-29T00:00:00",
          "2017-05-30T00:00:00",
          "2017-05-31T00:00:00",
          "2017-06-01T00:00:00",
          "2017-06-02T00:00:00",
          "2017-06-03T00:00:00",
          "2017-06-04T00:00:00",
          "2017-06-05T00:00:00",
          "2017-06-06T00:00:00",
          "2017-06-07T00:00:00",
          "2017-06-08T00:00:00",
          "2017-06-09T00:00:00",
          "2017-06-10T00:00:00",
          "2017-06-11T00:00:00",
          "2017-06-12T00:00:00",
          "2017-06-13T00:00:00",
          "2017-06-14T00:00:00",
          "2017-06-15T00:00:00",
          "2017-06-16T00:00:00",
          "2017-06-17T00:00:00",
          "2017-06-18T00:00:00",
          "2017-06-19T00:00:00",
          "2017-06-20T00:00:00",
          "2017-06-21T00:00:00",
          "2017-06-22T00:00:00",
          "2017-06-23T00:00:00",
          "2017-06-24T00:00:00",
          "2017-06-25T00:00:00",
          "2017-06-26T00:00:00",
          "2017-06-27T00:00:00",
          "2017-06-28T00:00:00",
          "2017-06-29T00:00:00",
          "2017-06-30T00:00:00",
          "2017-07-01T00:00:00",
          "2017-07-02T00:00:00",
          "2017-07-03T00:00:00",
          "2017-07-04T00:00:00",
          "2017-07-05T00:00:00",
          "2017-07-06T00:00:00",
          "2017-07-07T00:00:00",
          "2017-07-08T00:00:00",
          "2017-07-09T00:00:00",
          "2017-07-10T00:00:00",
          "2017-07-11T00:00:00",
          "2017-07-12T00:00:00",
          "2017-07-13T00:00:00",
          "2017-07-14T00:00:00",
          "2017-07-15T00:00:00",
          "2017-07-16T00:00:00",
          "2017-07-17T00:00:00",
          "2017-07-18T00:00:00",
          "2017-07-19T00:00:00",
          "2017-07-20T00:00:00",
          "2017-07-21T00:00:00",
          "2017-07-22T00:00:00",
          "2017-07-23T00:00:00",
          "2017-07-24T00:00:00",
          "2017-07-25T00:00:00",
          "2017-07-26T00:00:00",
          "2017-07-27T00:00:00",
          "2017-07-28T00:00:00",
          "2017-07-29T00:00:00",
          "2017-07-30T00:00:00",
          "2017-07-31T00:00:00",
          "2017-08-01T00:00:00",
          "2017-08-02T00:00:00",
          "2017-08-03T00:00:00",
          "2017-08-04T00:00:00",
          "2017-08-05T00:00:00",
          "2017-08-06T00:00:00",
          "2017-08-07T00:00:00",
          "2017-08-08T00:00:00",
          "2017-08-09T00:00:00",
          "2017-08-10T00:00:00",
          "2017-08-11T00:00:00",
          "2017-08-12T00:00:00",
          "2017-08-13T00:00:00",
          "2017-08-14T00:00:00",
          "2017-08-15T00:00:00"
         ],
         "xaxis": "x",
         "y": [
          1.9766978990055752,
          2.6186204986039425,
          1.8178408685690661,
          2.6186204986039425,
          2.958645595432948,
          1.4018731532896693,
          1.8178408685690661,
          1.108381046788897,
          2.114625003808475,
          1.8178408685690661,
          2.114625003808475,
          3.1692102890050884,
          1.108381046788897,
          1.108381046788897,
          2.114625003808475,
          1.6304608427595546,
          1.108381046788897,
          1.6304608427595546,
          2.8353716164467797,
          2.345776705142276,
          1.108381046788897,
          1.4018731532896693,
          0.0,
          2.114625003808475,
          2.6958974172492067,
          1.8178408685690661,
          1.8178408685690661,
          1.6304608427595546,
          1.4018731532896693,
          0.6970273843190963,
          1.8178408685690661,
          2.767923390385234,
          2.767923390385234,
          1.8178408685690661,
          1.108381046788897,
          1.108381046788897,
          0.0,
          1.6304608427595546,
          2.444760626325906,
          1.108381046788897,
          1.6304608427595546,
          1.8178408685690661,
          1.6304608427595546,
          1.6304608427595546,
          2.114625003808475,
          1.9766978990055752,
          1.8178408685690661,
          0.6970273843190963,
          1.4018731532896693,
          1.4018731532896693,
          1.6304608427595546,
          1.6304608427595546,
          1.8178408685690661,
          2.767923390385234,
          1.9766978990055752,
          1.4018731532896693,
          1.4018731532896693,
          1.9766978990055752,
          1.8178408685690661,
          2.6958974172492067,
          2.444760626325906,
          0.6970273843190963,
          0.0,
          1.4018731532896693,
          1.108381046788897,
          2.345776705142276,
          1.8178408685690661,
          2.444760626325906,
          1.4018731532896693,
          0.0,
          1.4018731532896693,
          1.108381046788897,
          1.6304608427595546,
          2.345776705142276,
          2.444760626325906,
          0.6970273843190963,
          2.114625003808475,
          1.6304608427595546,
          1.6304608427595546,
          1.4018731532896693,
          1.9766978990055752,
          1.8178408685690661,
          0.0,
          2.2365315866525926,
          1.6304608427595546,
          1.108381046788897,
          2.345776705142276,
          1.9766978990055752,
          1.9766978990055752,
          1.9766978990055752,
          1.108381046788897,
          1.108381046788897,
          1.6304608427595546,
          2.2365315866525926,
          2.767923390385234,
          2.767923390385234,
          1.6304608427595546,
          1.108381046788897,
          2.2365315866525926,
          1.6304608427595546,
          1.8178408685690661,
          2.114625003808475,
          1.9766978990055752,
          0.6970273843190963,
          0.6970273843190963,
          0.6970273843190963,
          1.108381046788897,
          2.6186204986039425,
          2.345776705142276,
          1.108381046788897,
          0.6970273843190963,
          0.6970273843190963,
          0.6970273843190963,
          2.444760626325906,
          2.6958974172492067,
          2.2365315866525926,
          1.108381046788897,
          1.4018731532896693,
          1.8178408685690661,
          2.6186204986039425,
          2.6958974172492067,
          1.9766978990055752,
          2.2365315866525926,
          0.6970273843190963,
          1.108381046788897,
          1.6304608427595546,
          1.9766978990055752,
          2.2365315866525926,
          1.4018731532896693,
          0.6970273843190963,
          1.9766978990055752,
          1.108381046788897,
          0.6970273843190963,
          2.345776705142276,
          1.8178408685690661,
          1.8178408685690661,
          1.4018731532896693,
          1.8178408685690661,
          0.6970273843190963,
          0.6970273843190963,
          1.9766978990055752,
          2.114625003808475,
          1.8178408685690661,
          1.4018731532896693,
          2.2365315866525926,
          1.108381046788897,
          1.6304608427595546,
          2.114625003808475,
          2.444760626325906,
          2.2365315866525926,
          1.6304608427595546,
          1.9766978990055752,
          1.4018731532896693,
          1.108381046788897,
          1.4018731532896693,
          2.114625003808475,
          1.8178408685690661,
          1.6304608427595546,
          1.4018731532896693,
          1.8178408685690661,
          2.114625003808475,
          2.444760626325906,
          1.9766978990055752,
          1.108381046788897,
          2.345776705142276,
          1.9766978990055752,
          1.9766978990055752,
          2.114625003808475,
          2.6958974172492067,
          1.8178408685690661,
          2.114625003808475,
          1.9766978990055752,
          0.6970273843190963,
          1.6304608427595546,
          2.5352585265924463,
          2.958645595432948,
          1.9766978990055752,
          1.9766978990055752,
          2.6958974172492067,
          1.8178408685690661,
          1.6304608427595546,
          2.114625003808475,
          3.069116089534643,
          2.6186204986039425,
          2.114625003808475,
          2.444760626325906,
          1.8178408685690661,
          1.108381046788897,
          1.8178408685690661,
          2.958645595432948,
          1.6304608427595546,
          1.9766978990055752,
          2.114625003808475,
          2.114625003808475,
          2.114625003808475,
          2.6958974172492067,
          2.444760626325906,
          1.6304608427595546,
          2.345776705142276,
          2.5352585265924463,
          1.8178408685690661,
          1.6304608427595546,
          1.8178408685690661,
          2.345776705142276,
          1.4018731532896693,
          2.345776705142276,
          1.9766978990055752,
          1.9766978990055752,
          1.9766978990055752,
          2.2365315866525926,
          2.8987933241286363,
          2.345776705142276,
          1.4018731532896693,
          1.9766978990055752,
          2.114625003808475,
          2.444760626325906,
          1.9766978990055752,
          2.444760626325906,
          2.6958974172492067,
          2.6186204986039425,
          2.345776705142276,
          1.8178408685690661,
          2.114625003808475,
          2.2365315866525926,
          2.6958974172492067,
          2.444760626325906,
          1.108381046788897,
          1.9766978990055752,
          2.444760626325906,
          1.6304608427595546,
          1.6304608427595546,
          2.5352585265924463,
          2.114625003808475,
          1.6304608427595546,
          2.444760626325906,
          0.6970273843190963,
          1.4018731532896693,
          2.5352585265924463,
          2.8353716164467797,
          1.9766978990055752,
          1.8178408685690661,
          1.4018731532896693,
          0.0,
          1.108381046788897,
          1.9766978990055752,
          2.444760626325906,
          1.6304608427595546,
          1.108381046788897,
          1.4018731532896693,
          1.8178408685690661,
          0.6970273843190963,
          2.114625003808475,
          2.6186204986039425,
          1.4018731532896693,
          0.0,
          2.114625003808475,
          1.4018731532896693,
          1.4018731532896693,
          2.444760626325906,
          1.9766978990055752,
          1.4018731532896693,
          0.0,
          1.8178408685690661,
          1.108381046788897,
          0.6970273843190963,
          1.8178408685690661,
          1.8178408685690661,
          2.2365315866525926,
          1.9766978990055752,
          1.9766978990055752,
          1.108381046788897,
          1.8178408685690661,
          2.6958974172492067,
          2.5352585265924463,
          1.6304608427595546,
          0.6970273843190963,
          1.8178408685690661,
          2.114625003808475,
          1.9766978990055752,
          2.6958974172492067,
          2.6958974172492067,
          0.0,
          2.2365315866525926,
          1.6304608427595546,
          1.6304608427595546,
          2.114625003808475,
          2.444760626325906,
          2.8353716164467797,
          1.9766978990055752,
          1.8178408685690661,
          2.345776705142276,
          1.9766978990055752,
          1.8178408685690661,
          2.767923390385234,
          0.6970273843190963,
          1.6304608427595546,
          1.108381046788897,
          1.6304608427595546,
          2.345776705142276,
          1.4018731532896693,
          2.345776705142276,
          2.6958974172492067,
          1.9766978990055752,
          1.4018731532896693,
          1.6304608427595546,
          1.8178408685690661,
          1.4018731532896693,
          2.444760626325906,
          2.5352585265924463,
          1.9766978990055752,
          2.2365315866525926,
          1.6304608427595546,
          1.108381046788897,
          2.444760626325906,
          2.5352585265924463,
          1.6304608427595546,
          1.8178408685690661,
          1.9766978990055752,
          1.8178408685690661,
          1.6304608427595546,
          2.767923390385234,
          2.444760626325906,
          2.114625003808475,
          1.108381046788897,
          1.4018731532896693,
          1.108381046788897,
          0.0,
          2.958645595432948,
          3.1203360584441087,
          2.114625003808475,
          1.8178408685690661,
          0.6970273843190963,
          0.6970273843190963,
          2.6186204986039425,
          2.444760626325906,
          2.6958974172492067,
          1.8178408685690661,
          1.4018731532896693,
          2.114625003808475,
          1.8178408685690661,
          0.6970273843190963,
          2.6186204986039425,
          2.8353716164467797,
          1.8178408685690661,
          0.6970273843190963,
          1.6304608427595546,
          1.108381046788897,
          2.5352585265924463,
          2.6958974172492067,
          2.345776705142276,
          1.8178408685690661,
          1.9766978990055752,
          2.2365315866525926,
          2.6958974172492067,
          1.9766978990055752,
          2.6186204986039425,
          0.6970273843190963,
          2.6958974172492067,
          2.767923390385234,
          3.069116089534643,
          2.8353716164467797,
          2.5352585265924463,
          1.6304608427595546,
          1.8178408685690661,
          2.2365315866525926,
          1.108381046788897,
          3.260723281949984,
          2.5352585265924463,
          1.4018731532896693,
          1.9766978990055752,
          1.6304608427595546,
          2.6186204986039425,
          1.4018731532896693,
          2.8987933241286363,
          2.6186204986039425,
          1.4018731532896693,
          1.6304608427595546,
          1.6304608427595546,
          1.6304608427595546,
          1.4018731532896693,
          2.958645595432948,
          2.8987933241286363,
          2.114625003808475,
          1.8178408685690661,
          2.2365315866525926,
          2.345776705142276,
          1.4018731532896693,
          2.8987933241286363,
          2.2365315866525926,
          1.108381046788897,
          1.6304608427595546,
          0.0,
          2.444760626325906,
          1.4018731532896693,
          2.767923390385234,
          2.114625003808475,
          1.4018731532896693,
          1.4018731532896693,
          1.4018731532896693,
          1.6304608427595546,
          0.6970273843190963,
          2.5352585265924463,
          2.6958974172492067,
          2.2365315866525926,
          1.8178408685690661,
          1.8178408685690661,
          0.6970273843190963,
          1.4018731532896693,
          1.8178408685690661,
          2.444760626325906,
          2.114625003808475,
          1.6304608427595546,
          1.108381046788897,
          1.4018731532896693,
          1.6304608427595546,
          2.345776705142276,
          2.444760626325906,
          2.2365315866525926,
          2.6186204986039425,
          2.6958974172492067,
          2.2365315866525926,
          0.6970273843190963,
          2.6958974172492067,
          2.8353716164467797,
          1.8178408685690661,
          1.4018731532896693,
          1.6304608427595546,
          2.2365315866525926,
          0.6970273843190963,
          2.444760626325906,
          3.4601988525672582,
          2.2365315866525926,
          1.8178408685690661,
          2.114625003808475,
          1.108381046788897,
          2.345776705142276,
          2.958645595432948,
          2.345776705142276,
          2.2365315866525926,
          2.114625003808475,
          2.114625003808475,
          1.8178408685690661,
          2.767923390385234,
          2.5352585265924463,
          2.345776705142276,
          1.108381046788897,
          1.108381046788897,
          1.8178408685690661,
          2.2365315866525926,
          3.069116089534643,
          1.6304608427595546,
          1.108381046788897,
          1.4018731532896693,
          0.6970273843190963,
          1.108381046788897,
          1.9766978990055752,
          2.5352585265924463,
          1.9766978990055752,
          1.108381046788897,
          2.5352585265924463,
          1.4018731532896693,
          2.5352585265924463,
          1.8178408685690661,
          1.9766978990055752,
          1.9766978990055752,
          2.5352585265924463,
          1.8178408685690661,
          1.4018731532896693,
          1.6304608427595546,
          1.6304608427595546,
          2.767923390385234,
          1.108381046788897,
          1.6304608427595546,
          1.8178408685690661,
          1.8178408685690661,
          0.0,
          2.345776705142276,
          1.9766978990055752,
          1.6304608427595546,
          2.2365315866525926,
          0.6970273843190963,
          1.6304608427595546,
          1.8178408685690661,
          1.6304608427595546,
          1.9766978990055752,
          1.6304608427595546,
          1.108381046788897,
          1.108381046788897,
          1.108381046788897,
          1.4018731532896693,
          1.8178408685690661,
          1.9766978990055752,
          0.6970273843190963,
          0.6970273843190963,
          1.6304608427595546,
          1.4018731532896693,
          1.6304608427595546,
          0.6970273843190963,
          0.6970273843190963,
          1.108381046788897,
          0.0,
          1.108381046788897,
          0.0,
          1.4018731532896693,
          1.4018731532896693,
          1.8178408685690661,
          1.108381046788897,
          1.108381046788897,
          0.6970273843190963,
          0.6970273843190963,
          1.8178408685690661,
          1.4018731532896693,
          0.6970273843190963,
          0.6970273843190963,
          1.4018731532896693,
          0.0,
          0.0,
          2.444760626325906,
          1.108381046788897,
          1.108381046788897,
          0.6970273843190963,
          1.4018731532896693,
          1.8178408685690661,
          0.6970273843190963,
          1.108381046788897,
          1.8178408685690661,
          1.4018731532896693,
          1.108381046788897,
          0.6970273843190963,
          1.8178408685690661,
          1.108381046788897,
          1.8178408685690661,
          1.8178408685690661,
          1.6304608427595546,
          1.8178408685690661,
          1.8178408685690661,
          1.4018731532896693,
          1.9766978990055752,
          2.345776705142276,
          2.5352585265924463,
          2.114625003808475,
          1.9766978990055752,
          1.9766978990055752,
          2.345776705142276,
          1.4018731532896693,
          2.444760626325906,
          2.2365315866525926,
          2.8353716164467797,
          1.9766978990055752,
          2.444760626325906,
          2.767923390385234,
          2.5352585265924463,
          2.958645595432948,
          3.0153116769191337,
          2.345776705142276,
          2.2365315866525926,
          2.6186204986039425,
          2.2365315866525926,
          2.2365315866525926,
          3.1203360584441087,
          2.444760626325906,
          2.767923390385234,
          2.114625003808475,
          2.6186204986039425,
          1.9766978990055752,
          1.9766978990055752,
          3.069116089534643,
          2.8987933241286363,
          1.6304608427595546,
          2.6186204986039425,
          2.114625003808475,
          1.6304608427595546,
          1.6304608427595546,
          2.958645595432948,
          3.069116089534643,
          0.6970273843190963,
          1.4018731532896693,
          2.2365315866525926,
          1.8178408685690661,
          1.8178408685690661,
          2.6958974172492067,
          2.6958974172492067,
          1.6304608427595546,
          1.9766978990055752,
          1.6304608427595546,
          1.6304608427595546,
          1.108381046788897,
          2.6958974172492067,
          2.2365315866525926,
          1.108381046788897,
          2.444760626325906,
          1.108381046788897,
          1.4018731532896693,
          1.4018731532896693,
          2.345776705142276,
          2.8987933241286363,
          2.767923390385234,
          2.5352585265924463,
          2.767923390385234,
          2.345776705142276,
          2.5352585265924463,
          3.1692102890050884,
          3.069116089534643,
          2.6186204986039425,
          2.345776705142276,
          2.8353716164467797,
          2.114625003808475,
          2.444760626325906,
          2.5352585265924463,
          3.3848042355597237,
          2.444760626325906,
          1.9766978990055752,
          2.345776705142276,
          1.9766978990055752,
          0.6970273843190963,
          3.1203360584441087,
          2.8353716164467797,
          2.114625003808475,
          2.767923390385234,
          2.114625003808475,
          2.114625003808475,
          1.4018731532896693,
          2.8987933241286363,
          2.6186204986039425,
          1.8178408685690661,
          2.345776705142276,
          2.6958974172492067,
          2.767923390385234,
          2.345776705142276,
          3.423164019514621,
          3.5642026664839963,
          3.2159457959011526,
          2.5352585265924463,
          1.4018731532896693,
          1.6304608427595546,
          2.6958974172492067,
          2.5352585265924463,
          3.2159457959011526,
          1.8178408685690661,
          2.2365315866525926,
          2.345776705142276,
          1.4018731532896693,
          2.8987933241286363,
          2.958645595432948,
          2.8987933241286363,
          2.5352585265924463,
          1.8178408685690661,
          1.9766978990055752,
          2.444760626325906,
          1.9766978990055752,
          2.6186204986039425,
          3.0153116769191337,
          1.8178408685690661,
          2.5352585265924463,
          2.345776705142276,
          2.444760626325906,
          2.114625003808475,
          3.0153116769191337,
          2.8987933241286363,
          3.1203360584441087,
          2.5352585265924463,
          2.8353716164467797,
          1.6304608427595546,
          2.114625003808475,
          2.6186204986039425,
          3.1203360584441087,
          1.9766978990055752,
          2.114625003808475,
          2.114625003808475,
          2.114625003808475,
          1.4018731532896693,
          3.0153116769191337,
          3.069116089534643,
          2.5352585265924463,
          2.444760626325906,
          2.114625003808475,
          1.9766978990055752,
          2.345776705142276,
          2.345776705142276,
          2.6186204986039425,
          2.444760626325906,
          1.6304608427595546,
          1.8178408685690661,
          1.8178408685690661,
          2.345776705142276,
          2.8353716164467797,
          3.4601988525672582,
          2.345776705142276,
          2.5352585265924463,
          2.345776705142276,
          2.114625003808475,
          1.8178408685690661,
          2.345776705142276,
          2.8987933241286363,
          2.345776705142276,
          2.5352585265924463,
          2.114625003808475,
          2.444760626325906,
          2.345776705142276,
          2.8987933241286363,
          2.6958974172492067,
          1.9766978990055752,
          2.2365315866525926,
          2.345776705142276,
          2.444760626325906,
          2.6186204986039425,
          3.069116089534643,
          2.6958974172492067,
          2.6958974172492067,
          1.8178408685690661,
          2.444760626325906,
          3.0153116769191337,
          2.8987933241286363,
          3.3450203046885445,
          2.6186204986039425,
          2.6958974172492067,
          1.9766978990055752,
          2.5352585265924463,
          2.5352585265924463,
          3.0153116769191337,
          2.444760626325906,
          2.114625003808475,
          2.2365315866525926,
          3.0153116769191337,
          1.8178408685690661,
          1.4018731532896693,
          3.1203360584441087,
          2.2365315866525926,
          2.2365315866525926,
          2.6186204986039425,
          2.444760626325906,
          1.6304608427595546,
          2.114625003808475,
          2.8353716164467797,
          2.5352585265924463,
          1.8178408685690661,
          1.6304608427595546,
          1.108381046788897,
          1.4018731532896693,
          2.2365315866525926,
          2.5352585265924463,
          1.6304608427595546,
          1.108381046788897,
          1.4018731532896693,
          0.6970273843190963,
          2.345776705142276,
          2.8987933241286363,
          3.1203360584441087,
          2.2365315866525926,
          2.444760626325906,
          2.444760626325906,
          2.114625003808475,
          2.2365315866525926,
          2.8353716164467797,
          2.8353716164467797,
          2.345776705142276,
          1.4018731532896693,
          1.9766978990055752,
          2.444760626325906,
          2.958645595432948,
          1.6304608427595546,
          2.345776705142276,
          2.444760626325906,
          3.0153116769191337,
          1.9766978990055752,
          1.108381046788897,
          1.9766978990055752,
          2.345776705142276,
          2.958645595432948,
          1.108381046788897,
          1.108381046788897,
          1.9766978990055752,
          1.108381046788897,
          1.8178408685690661,
          2.345776705142276,
          3.1692102890050884,
          1.9766978990055752,
          1.4018731532896693,
          2.114625003808475,
          1.4018731532896693,
          2.114625003808475,
          2.767923390385234,
          3.0153116769191337,
          2.114625003808475,
          2.114625003808475,
          2.6958974172492067,
          1.108381046788897,
          1.6304608427595546,
          2.6958974172492067,
          2.5352585265924463,
          1.4018731532896693,
          0.6970273843190963,
          1.6304608427595546,
          1.9766978990055752,
          0.6970273843190963,
          2.114625003808475,
          2.6186204986039425,
          1.9766978990055752,
          1.9766978990055752,
          2.2365315866525926,
          1.108381046788897,
          1.4018731532896693,
          2.2365315866525926,
          1.9766978990055752,
          1.6304608427595546,
          1.8178408685690661,
          1.8178408685690661,
          2.114625003808475,
          2.5352585265924463,
          1.9766978990055752,
          2.2365315866525926,
          2.114625003808475,
          0.6970273843190963,
          2.444760626325906,
          0.6970273843190963,
          2.114625003808475,
          2.6186204986039425,
          2.345776705142276,
          1.4018731532896693,
          1.8178408685690661,
          1.6304608427595546,
          1.8178408685690661,
          1.9766978990055752,
          1.9766978990055752,
          2.8353716164467797,
          1.108381046788897,
          2.114625003808475,
          1.4018731532896693,
          0.0,
          0.6970273843190963,
          2.6958974172492067,
          2.444760626325906,
          2.2365315866525926,
          2.114625003808475,
          1.6304608427595546,
          2.5352585265924463,
          2.8987933241286363,
          3.2159457959011526,
          3.7461610703365853,
          2.6958974172492067,
          1.6304608427595546,
          1.6304608427595546,
          2.2365315866525926,
          2.2365315866525926,
          3.1203360584441087,
          1.8178408685690661,
          1.6304608427595546,
          1.108381046788897,
          1.4018731532896693,
          1.108381046788897,
          1.8178408685690661,
          2.8353716164467797,
          2.5352585265924463,
          2.2365315866525926,
          1.8178408685690661,
          1.6304608427595546,
          1.8178408685690661,
          1.6304608427595546,
          2.8353716164467797,
          1.8178408685690661,
          2.345776705142276,
          1.8178408685690661,
          1.6304608427595546,
          1.8178408685690661,
          2.444760626325906,
          2.444760626325906,
          2.767923390385234,
          2.6958974172492067,
          1.8178408685690661,
          2.114625003808475,
          2.114625003808475,
          1.8178408685690661,
          2.8987933241286363,
          3.069116089534643,
          2.444760626325906,
          1.4018731532896693,
          2.114625003808475,
          0.6970273843190963,
          1.6304608427595546,
          2.444760626325906,
          2.345776705142276,
          2.444760626325906,
          1.6304608427595546,
          1.8178408685690661,
          1.4018731532896693,
          1.9766978990055752,
          2.8987933241286363,
          1.8178408685690661,
          2.444760626325906,
          2.345776705142276,
          1.6304608427595546,
          1.4018731532896693,
          1.8178408685690661,
          2.345776705142276,
          2.958645595432948,
          1.108381046788897,
          1.9766978990055752,
          2.2365315866525926,
          2.2365315866525926,
          1.4018731532896693,
          2.8987933241286363,
          2.2365315866525926,
          1.8178408685690661,
          1.4018731532896693,
          2.2365315866525926,
          1.8178408685690661,
          2.444760626325906,
          2.5352585265924463,
          2.114625003808475,
          2.767923390385234,
          2.2365315866525926,
          2.2365315866525926,
          1.8178408685690661,
          1.6304608427595546,
          2.345776705142276,
          2.6958974172492067,
          1.9766978990055752,
          1.108381046788897,
          2.2365315866525926,
          2.5352585265924463,
          2.2365315866525926,
          2.5352585265924463,
          2.345776705142276,
          1.108381046788897,
          1.108381046788897,
          0.6970273843190963,
          1.108381046788897,
          2.6186204986039425,
          2.958645595432948,
          2.958645595432948,
          1.6304608427595546,
          2.767923390385234,
          2.345776705142276,
          2.767923390385234,
          2.444760626325906,
          2.5352585265924463,
          3.069116089534643,
          3.1203360584441087,
          2.6186204986039425,
          2.114625003808475,
          2.6186204986039425,
          2.6186204986039425,
          2.6958974172492067,
          3.3450203046885445,
          2.8353716164467797,
          2.8353716164467797,
          1.4018731532896693,
          2.444760626325906,
          2.2365315866525926,
          3.2159457959011526,
          3.3848042355597237,
          2.6186204986039425,
          2.114625003808475,
          1.8178408685690661,
          1.8178408685690661,
          2.444760626325906,
          2.8353716164467797,
          3.3848042355597237,
          2.345776705142276,
          2.5352585265924463,
          1.9766978990055752,
          1.9766978990055752,
          2.345776705142276,
          3.1692102890050884,
          2.6958974172492067,
          2.5352585265924463,
          2.6186204986039425,
          2.767923390385234,
          1.6304608427595546,
          2.2365315866525926,
          2.8353716164467797,
          2.6186204986039425,
          1.8178408685690661,
          1.9766978990055752,
          2.345776705142276,
          2.114625003808475,
          1.108381046788897,
          2.767923390385234,
          3.2159457959011526,
          2.345776705142276,
          1.9766978990055752,
          2.114625003808475,
          1.9766978990055752,
          2.2365315866525926,
          2.8987933241286363,
          3.1203360584441087,
          2.345776705142276,
          1.4018731532896693,
          2.444760626325906,
          2.444760626325906,
          3.0153116769191337,
          3.5967473251707545,
          3.30370142133327,
          2.444760626325906,
          2.6186204986039425,
          2.5352585265924463,
          2.2365315866525926,
          2.8987933241286363,
          2.5352585265924463,
          3.2159457959011526,
          1.6304608427595546,
          2.345776705142276,
          2.345776705142276,
          2.2365315866525926,
          1.9766978990055752,
          3.0153116769191337,
          3.49599789026779,
          2.6186204986039425,
          2.345776705142276,
          2.444760626325906,
          1.108381046788897,
          2.6186204986039425,
          3.2159457959011526,
          2.958645595432948,
          2.444760626325906,
          3.3848042355597237,
          2.6186204986039425,
          2.114625003808475,
          2.345776705142276,
          2.8353716164467797,
          3.260723281949984,
          3.1203360584441087,
          3.3848042355597237,
          2.5352585265924463,
          2.5352585265924463,
          2.6958974172492067,
          3.3848042355597237,
          3.717891214693022,
          2.767923390385234,
          2.345776705142276,
          2.114625003808475,
          2.5352585265924463,
          1.8178408685690661,
          3.49599789026779,
          3.628335759854659,
          2.6958974172492067,
          2.6186204986039425,
          2.5352585265924463,
          2.2365315866525926,
          2.767923390385234,
          3.260723281949984,
          3.3848042355597237,
          2.8987933241286363,
          2.114625003808475,
          2.444760626325906,
          2.767923390385234,
          1.8178408685690661,
          3.0153116769191337,
          3.5306415601719836,
          2.6186204986039425,
          2.958645595432948,
          2.2365315866525926,
          2.114625003808475,
          1.9766978990055752,
          2.958645595432948,
          3.3450203046885445,
          3.1692102890050884,
          2.114625003808475,
          2.6958974172492067,
          1.8178408685690661,
          2.114625003808475,
          2.114625003808475,
          2.6958974172492067,
          1.4018731532896693,
          2.114625003808475,
          2.345776705142276,
          1.9766978990055752,
          1.8178408685690661,
          3.0153116769191337,
          3.3450203046885445,
          2.767923390385234,
          1.108381046788897,
          2.5352585265924463,
          2.2365315866525926,
          2.767923390385234,
          2.8353716164467797,
          2.345776705142276,
          1.9766978990055752,
          0.6970273843190963,
          1.108381046788897,
          2.5352585265924463,
          2.958645595432948,
          2.8987933241286363,
          3.5306415601719836,
          1.9766978990055752,
          2.114625003808475,
          1.4018731532896693,
          2.5352585265924463,
          2.8987933241286363,
          2.2365315866525926,
          1.6304608427595546,
          1.8178408685690661,
          2.114625003808475,
          1.9766978990055752,
          2.345776705142276,
          3.069116089534643,
          1.9766978990055752,
          2.6958974172492067,
          2.8353716164467797,
          1.6304608427595546,
          2.2365315866525926,
          2.958645595432948,
          2.8987933241286363,
          2.2365315866525926,
          2.114625003808475,
          2.444760626325906,
          1.8178408685690661,
          2.8987933241286363,
          3.1203360584441087,
          3.260723281949984,
          2.345776705142276,
          2.958645595432948,
          2.444760626325906,
          1.8178408685690661,
          1.8178408685690661,
          2.114625003808475,
          2.114625003808475,
          1.6304608427595546,
          3.260723281949984,
          2.8353716164467797,
          2.767923390385234,
          2.114625003808475,
          2.6958974172492067,
          2.6186204986039425,
          2.114625003808475,
          2.2365315866525926,
          2.444760626325906,
          2.444760626325906,
          2.767923390385234,
          3.2159457959011526,
          3.4601988525672582,
          1.6304608427595546,
          2.345776705142276,
          2.767923390385234,
          1.9766978990055752,
          2.6958974172492067,
          3.0153116769191337,
          3.3848042355597237,
          1.8178408685690661,
          2.6958974172492067,
          3.260723281949984,
          1.6304608427595546,
          3.0153116769191337,
          3.069116089534643,
          3.49599789026779,
          2.444760626325906,
          2.444760626325906,
          2.5352585265924463,
          1.9766978990055752,
          2.345776705142276,
          2.8353716164467797,
          3.3848042355597237,
          2.114625003808475,
          1.6304608427595546,
          2.114625003808475,
          2.5352585265924463,
          2.345776705142276,
          2.767923390385234,
          3.260723281949984,
          2.114625003808475,
          1.9766978990055752,
          2.8353716164467797,
          3.3450203046885445,
          2.6186204986039425,
          3.0153116769191337,
          2.6186204986039425,
          2.2365315866525926,
          2.767923390385234,
          1.9766978990055752,
          2.444760626325906,
          2.767923390385234,
          3.5642026664839963,
          3.49599789026779,
          2.5352585265924463,
          3.0153116769191337,
          3.1203360584441087,
          0.0,
          2.114625003808475,
          3.260723281949984,
          2.345776705142276,
          2.958645595432948,
          2.444760626325906,
          2.2365315866525926,
          2.114625003808475,
          2.5352585265924463,
          3.0153116769191337,
          3.1692102890050884,
          2.767923390385234,
          2.2365315866525926,
          2.345776705142276,
          2.5352585265924463,
          1.4018731532896693,
          3.1692102890050884,
          3.423164019514621,
          2.114625003808475,
          2.5352585265924463,
          3.0153116769191337,
          2.345776705142276,
          2.6958974172492067,
          3.3450203046885445,
          3.4601988525672582,
          3.0153116769191337,
          2.8987933241286363,
          2.6186204986039425,
          2.767923390385234,
          2.8353716164467797,
          3.0153116769191337,
          2.767923390385234,
          1.9766978990055752,
          2.5352585265924463,
          1.8178408685690661,
          2.2365315866525926,
          5.112061713049407,
          3.1203360584441087,
          2.8353716164467797,
          2.5352585265924463,
          2.345776705142276,
          2.767923390385234,
          2.5352585265924463,
          2.5352585265924463,
          2.444760626325906,
          2.767923390385234,
          2.2365315866525926,
          2.2365315866525926,
          2.345776705142276,
          1.6304608427595546,
          3.5306415601719836,
          2.6958974172492067,
          2.8987933241286363,
          3.0153116769191337,
          3.1692102890050884,
          2.6958974172492067,
          2.345776705142276,
          2.345776705142276,
          3.5967473251707545,
          3.49599789026779,
          2.444760626325906,
          2.6186204986039425,
          2.8987933241286363,
          2.114625003808475,
          2.345776705142276,
          3.688859379358266,
          3.3848042355597237,
          2.6958974172492067,
          2.114625003808475,
          2.6186204986039425,
          3.1692102890050884,
          1.8178408685690661,
          2.958645595432948,
          3.069116089534643,
          2.114625003808475,
          2.5352585265924463,
          2.6186204986039425,
          1.6304608427595546,
          2.6186204986039425,
          3.260723281949984,
          3.688859379358266,
          2.114625003808475,
          3.0153116769191337,
          2.8987933241286363,
          2.2365315866525926,
          3.3848042355597237,
          3.5306415601719836,
          3.2159457959011526,
          2.8987933241286363,
          3.069116089534643,
          2.767923390385234,
          1.4018731532896693,
          2.6186204986039425,
          3.1692102890050884,
          3.5306415601719836,
          2.958645595432948,
          2.6958974172492067,
          2.767923390385234,
          1.8178408685690661,
          2.8987933241286363,
          3.5642026664839963,
          3.1692102890050884,
          2.345776705142276,
          3.423164019514621,
          3.5306415601719836,
          2.5352585265924463,
          3.2159457959011526,
          3.3450203046885445,
          3.3450203046885445,
          2.6186204986039425,
          2.345776705142276,
          2.6186204986039425,
          2.5352585265924463,
          2.6958974172492067,
          3.423164019514621,
          3.1692102890050884,
          3.260723281949984,
          2.767923390385234,
          3.3848042355597237,
          2.767923390385234,
          2.444760626325906,
          3.5306415601719836,
          3.4601988525672582,
          2.6958974172492067,
          2.2365315866525926,
          2.8987933241286363,
          2.444760626325906,
          3.260723281949984,
          3.0153116769191337,
          3.069116089534643,
          3.0153116769191337,
          3.1203360584441087,
          3.1203360584441087,
          2.6186204986039425,
          2.5352585265924463,
          3.5642026664839963,
          3.423164019514621,
          2.5352585265924463,
          3.1203360584441087,
          2.8987933241286363,
          2.767923390385234,
          2.6186204986039425,
          3.5642026664839963,
          3.3848042355597237,
          2.6958974172492067,
          2.8353716164467797,
          3.717891214693022,
          2.444760626325906,
          3.2159457959011526,
          3.260723281949984,
          3.5306415601719836,
          3.30370142133327,
          3.0153116769191337,
          2.6186204986039425,
          3.260723281949984,
          2.2365315866525926,
          3.3450203046885445,
          3.49599789026779,
          2.6958974172492067,
          2.767923390385234,
          2.5352585265924463,
          3.0153116769191337,
          3.1692102890050884,
          3.5642026664839963,
          3.717891214693022,
          3.2159457959011526,
          2.767923390385234,
          2.767923390385234,
          2.5352585265924463,
          2.767923390385234,
          3.3848042355597237,
          3.1203360584441087,
          3.1203360584441087,
          2.5352585265924463,
          3.069116089534643,
          1.8178408685690661,
          1.8178408685690661,
          3.688859379358266,
          3.688859379358266,
          2.8987933241286363,
          2.767923390385234,
          2.767923390385234,
          2.6958974172492067,
          2.6958974172492067,
          3.3450203046885445,
          3.8773574464092033,
          2.5352585265924463,
          1.8178408685690661,
          2.767923390385234,
          2.2365315866525926,
          1.8178408685690661,
          2.958645595432948,
          3.5967473251707545,
          2.444760626325906,
          2.767923390385234,
          3.0153116769191337,
          2.958645595432948,
          2.2365315866525926,
          3.0153116769191337,
          3.1692102890050884,
          1.6304608427595546,
          2.444760626325906,
          2.444760626325906,
          2.767923390385234,
          2.8353716164467797,
          3.0153116769191337,
          3.7461610703365853,
          3.069116089534643,
          3.773708226242945,
          3.773708226242945,
          3.4601988525672582,
          3.49599789026779,
          3.423164019514621,
          3.8773574464092033,
          2.767923390385234,
          2.767923390385234,
          2.958645595432948,
          2.2365315866525926,
          1.9766978990055752,
          2.8987933241286363,
          3.688859379358266,
          2.444760626325906,
          2.8353716164467797,
          2.444760626325906,
          2.958645595432948,
          2.345776705142276,
          3.2159457959011526,
          3.2159457959011526,
          2.6958974172492067,
          3.2159457959011526,
          2.2365315866525926,
          2.767923390385234,
          2.958645595432948,
          3.7461610703365853,
          3.0153116769191337,
          2.2365315866525926,
          1.8178408685690661,
          3.0153116769191337,
          3.069116089534643,
          2.8987933241286363,
          3.1692102890050884,
          3.7461610703365853,
          2.6186204986039425,
          3.30370142133327,
          1.8178408685690661,
          1.4018731532896693,
          2.114625003808475,
          2.114625003808475,
          3.2159457959011526,
          2.6958974172492067,
          2.8353716164467797,
          2.8353716164467797,
          2.767923390385234,
          1.8178408685690661,
          2.8987933241286363,
          3.4601988525672582,
          2.5352585265924463,
          2.345776705142276,
          3.1203360584441087,
          2.444760626325906,
          2.767923390385234,
          2.8353716164467797,
          3.4601988525672582,
          2.958645595432948,
          2.5352585265924463,
          2.114625003808475,
          2.114625003808475,
          2.958645595432948,
          3.4601988525672582,
          2.5352585265924463,
          2.8987933241286363,
          2.958645595432948,
          2.8987933241286363,
          3.688859379358266,
          4.099869769774797,
          2.6186204986039425,
          2.5352585265924463,
          2.6958974172492067,
          1.8178408685690661,
          1.8178408685690661,
          3.3450203046885445,
          3.49599789026779,
          3.1203360584441087,
          2.6958974172492067,
          2.5352585265924463,
          1.8178408685690661,
          2.444760626325906,
          3.8005689938086813,
          2.8987933241286363,
          2.767923390385234,
          2.5352585265924463,
          2.345776705142276,
          2.345776705142276,
          2.958645595432948,
          3.260723281949984,
          3.2159457959011526,
          1.6304608427595546,
          2.444760626325906,
          3.0153116769191337,
          2.767923390385234,
          2.5352585265924463,
          3.5967473251707545,
          3.4601988525672582,
          2.444760626325906,
          2.114625003808475,
          2.6186204986039425,
          2.2365315866525926,
          2.114625003808475,
          2.8353716164467797,
          3.1203360584441087,
          2.2365315866525926,
          1.4018731532896693,
          2.114625003808475,
          2.444760626325906,
          2.8987933241286363,
          3.3848042355597237,
          2.958645595432948,
          1.8178408685690661,
          2.6186204986039425,
          2.345776705142276,
          2.767923390385234,
          3.30370142133327,
          2.8353716164467797,
          2.8987933241286363,
          2.5352585265924463,
          3.3450203046885445,
          2.958645595432948,
          3.2159457959011526,
          2.444760626325906,
          3.069116089534643,
          3.260723281949984,
          2.345776705142276,
          2.8353716164467797,
          2.444760626325906,
          1.8178408685690661,
          2.6186204986039425,
          2.8353716164467797,
          2.8353716164467797,
          1.9766978990055752,
          1.8178408685690661,
          2.2365315866525926,
          2.345776705142276,
          1.9766978990055752,
          2.767923390385234,
          3.423164019514621,
          3.3450203046885445,
          1.6304608427595546,
          2.5352585265924463,
          2.114625003808475,
          2.8353716164467797,
          3.0153116769191337,
          3.1203360584441087,
          1.108381046788897,
          1.9766978990055752,
          2.444760626325906,
          2.345776705142276,
          1.6304608427595546,
          3.5306415601719836,
          2.8987933241286363,
          1.6304608427595546,
          2.2365315866525926,
          2.6958974172492067,
          2.5352585265924463,
          2.444760626325906,
          3.069116089534643,
          3.4601988525672582,
          3.069116089534643,
          2.114625003808475,
          2.345776705142276,
          2.8353716164467797,
          2.6958974172492067,
          3.260723281949984,
          3.423164019514621,
          3.0153116769191337,
          2.2365315866525926,
          2.6186204986039425,
          2.767923390385234,
          2.114625003808475,
          2.8353716164467797,
          3.30370142133327,
          2.5352585265924463,
          2.767923390385234,
          2.444760626325906,
          1.9766978990055752,
          2.345776705142276,
          3.30370142133327,
          3.069116089534643,
          3.1692102890050884,
          2.6186204986039425,
          2.767923390385234,
          2.6186204986039425,
          2.345776705142276,
          2.958645595432948,
          3.5642026664839963,
          2.8987933241286363,
          2.6186204986039425,
          2.767923390385234,
          2.958645595432948,
          3.069116089534643,
          3.5967473251707545,
          3.5306415601719836,
          2.6958974172492067,
          3.1692102890050884,
          3.069116089534643,
          2.767923390385234,
          2.767923390385234,
          3.260723281949984,
          3.628335759854659,
          2.6958974172492067,
          2.5352585265924463,
          2.8987933241286363,
          2.114625003808475,
          4.456621269901027,
          3.069116089534643,
          3.069116089534643,
          0.6970273843190963,
          1.9766978990055752,
          2.6186204986039425,
          2.444760626325906,
          2.6186204986039425,
          3.0153116769191337,
          3.3848042355597237,
          2.5352585265924463,
          2.6958974172492067,
          3.069116089534643,
          1.9766978990055752,
          1.8178408685690661,
          3.0153116769191337,
          2.958645595432948,
          2.6186204986039425,
          1.8178408685690661,
          1.9766978990055752,
          1.6304608427595546,
          2.8353716164467797,
          3.5306415601719836,
          3.423164019514621,
          2.958645595432948,
          2.444760626325906,
          2.444760626325906,
          1.108381046788897,
          2.6186204986039425,
          3.2159457959011526,
          3.49599789026779,
          2.345776705142276,
          2.767923390385234,
          2.6958974172492067,
          2.2365315866525926,
          3.1692102890050884,
          3.5306415601719836,
          3.852363484505641,
          3.2159457959011526,
          2.6186204986039425,
          3.1203360584441087,
          2.2365315866525926,
          2.444760626325906,
          3.30370142133327,
          2.8987933241286363,
          2.5352585265924463,
          1.8178408685690661,
          1.6304608427595546,
          1.8178408685690661,
          2.6186204986039425,
          3.423164019514621,
          3.30370142133327,
          3.2159457959011526,
          2.444760626325906,
          2.8353716164467797,
          1.4018731532896693,
          2.5352585265924463,
          3.260723281949984,
          3.3848042355597237,
          3.2159457959011526,
          2.444760626325906,
          2.6958974172492067,
          2.444760626325906,
          3.1203360584441087,
          3.6590229826510012,
          3.5306415601719836,
          2.767923390385234,
          2.114625003808475,
          2.8987933241286363,
          2.6186204986039425,
          2.6186204986039425,
          3.3848042355597237,
          3.423164019514621,
          3.069116089534643,
          2.6958974172492067,
          2.6958974172492067,
          3.1692102890050884,
          2.8353716164467797,
          3.0153116769191337,
          2.8987933241286363,
          1.9766978990055752,
          2.2365315866525926
         ],
         "yaxis": "y",
         "type": "scattergl"
        }
       ],
       "layout": {
        "template": {
         "data": {
          "barpolar": [
           {
            "marker": {
             "line": {
              "color": "white",
              "width": 0.5
             },
             "pattern": {
              "fillmode": "overlay",
              "size": 10,
              "solidity": 0.2
             }
            },
            "type": "barpolar"
           }
          ],
          "bar": [
           {
            "error_x": {
             "color": "rgb(36,36,36)"
            },
            "error_y": {
             "color": "rgb(36,36,36)"
            },
            "marker": {
             "line": {
              "color": "white",
              "width": 0.5
             },
             "pattern": {
              "fillmode": "overlay",
              "size": 10,
              "solidity": 0.2
             }
            },
            "type": "bar"
           }
          ],
          "carpet": [
           {
            "aaxis": {
             "endlinecolor": "rgb(36,36,36)",
             "gridcolor": "white",
             "linecolor": "white",
             "minorgridcolor": "white",
             "startlinecolor": "rgb(36,36,36)"
            },
            "baxis": {
             "endlinecolor": "rgb(36,36,36)",
             "gridcolor": "white",
             "linecolor": "white",
             "minorgridcolor": "white",
             "startlinecolor": "rgb(36,36,36)"
            },
            "type": "carpet"
           }
          ],
          "choropleth": [
           {
            "colorbar": {
             "outlinewidth": 1,
             "tickcolor": "rgb(36,36,36)",
             "ticks": "outside"
            },
            "type": "choropleth"
           }
          ],
          "contourcarpet": [
           {
            "colorbar": {
             "outlinewidth": 1,
             "tickcolor": "rgb(36,36,36)",
             "ticks": "outside"
            },
            "type": "contourcarpet"
           }
          ],
          "contour": [
           {
            "colorbar": {
             "outlinewidth": 1,
             "tickcolor": "rgb(36,36,36)",
             "ticks": "outside"
            },
            "colorscale": [
             [
              0.0,
              "#440154"
             ],
             [
              0.1111111111111111,
              "#482878"
             ],
             [
              0.2222222222222222,
              "#3e4989"
             ],
             [
              0.3333333333333333,
              "#31688e"
             ],
             [
              0.4444444444444444,
              "#26828e"
             ],
             [
              0.5555555555555556,
              "#1f9e89"
             ],
             [
              0.6666666666666666,
              "#35b779"
             ],
             [
              0.7777777777777778,
              "#6ece58"
             ],
             [
              0.8888888888888888,
              "#b5de2b"
             ],
             [
              1.0,
              "#fde725"
             ]
            ],
            "type": "contour"
           }
          ],
          "heatmapgl": [
           {
            "colorbar": {
             "outlinewidth": 1,
             "tickcolor": "rgb(36,36,36)",
             "ticks": "outside"
            },
            "colorscale": [
             [
              0.0,
              "#440154"
             ],
             [
              0.1111111111111111,
              "#482878"
             ],
             [
              0.2222222222222222,
              "#3e4989"
             ],
             [
              0.3333333333333333,
              "#31688e"
             ],
             [
              0.4444444444444444,
              "#26828e"
             ],
             [
              0.5555555555555556,
              "#1f9e89"
             ],
             [
              0.6666666666666666,
              "#35b779"
             ],
             [
              0.7777777777777778,
              "#6ece58"
             ],
             [
              0.8888888888888888,
              "#b5de2b"
             ],
             [
              1.0,
              "#fde725"
             ]
            ],
            "type": "heatmapgl"
           }
          ],
          "heatmap": [
           {
            "colorbar": {
             "outlinewidth": 1,
             "tickcolor": "rgb(36,36,36)",
             "ticks": "outside"
            },
            "colorscale": [
             [
              0.0,
              "#440154"
             ],
             [
              0.1111111111111111,
              "#482878"
             ],
             [
              0.2222222222222222,
              "#3e4989"
             ],
             [
              0.3333333333333333,
              "#31688e"
             ],
             [
              0.4444444444444444,
              "#26828e"
             ],
             [
              0.5555555555555556,
              "#1f9e89"
             ],
             [
              0.6666666666666666,
              "#35b779"
             ],
             [
              0.7777777777777778,
              "#6ece58"
             ],
             [
              0.8888888888888888,
              "#b5de2b"
             ],
             [
              1.0,
              "#fde725"
             ]
            ],
            "type": "heatmap"
           }
          ],
          "histogram2dcontour": [
           {
            "colorbar": {
             "outlinewidth": 1,
             "tickcolor": "rgb(36,36,36)",
             "ticks": "outside"
            },
            "colorscale": [
             [
              0.0,
              "#440154"
             ],
             [
              0.1111111111111111,
              "#482878"
             ],
             [
              0.2222222222222222,
              "#3e4989"
             ],
             [
              0.3333333333333333,
              "#31688e"
             ],
             [
              0.4444444444444444,
              "#26828e"
             ],
             [
              0.5555555555555556,
              "#1f9e89"
             ],
             [
              0.6666666666666666,
              "#35b779"
             ],
             [
              0.7777777777777778,
              "#6ece58"
             ],
             [
              0.8888888888888888,
              "#b5de2b"
             ],
             [
              1.0,
              "#fde725"
             ]
            ],
            "type": "histogram2dcontour"
           }
          ],
          "histogram2d": [
           {
            "colorbar": {
             "outlinewidth": 1,
             "tickcolor": "rgb(36,36,36)",
             "ticks": "outside"
            },
            "colorscale": [
             [
              0.0,
              "#440154"
             ],
             [
              0.1111111111111111,
              "#482878"
             ],
             [
              0.2222222222222222,
              "#3e4989"
             ],
             [
              0.3333333333333333,
              "#31688e"
             ],
             [
              0.4444444444444444,
              "#26828e"
             ],
             [
              0.5555555555555556,
              "#1f9e89"
             ],
             [
              0.6666666666666666,
              "#35b779"
             ],
             [
              0.7777777777777778,
              "#6ece58"
             ],
             [
              0.8888888888888888,
              "#b5de2b"
             ],
             [
              1.0,
              "#fde725"
             ]
            ],
            "type": "histogram2d"
           }
          ],
          "histogram": [
           {
            "marker": {
             "line": {
              "color": "white",
              "width": 0.6
             }
            },
            "type": "histogram"
           }
          ],
          "mesh3d": [
           {
            "colorbar": {
             "outlinewidth": 1,
             "tickcolor": "rgb(36,36,36)",
             "ticks": "outside"
            },
            "type": "mesh3d"
           }
          ],
          "parcoords": [
           {
            "line": {
             "colorbar": {
              "outlinewidth": 1,
              "tickcolor": "rgb(36,36,36)",
              "ticks": "outside"
             }
            },
            "type": "parcoords"
           }
          ],
          "pie": [
           {
            "automargin": true,
            "type": "pie"
           }
          ],
          "scatter3d": [
           {
            "line": {
             "colorbar": {
              "outlinewidth": 1,
              "tickcolor": "rgb(36,36,36)",
              "ticks": "outside"
             }
            },
            "marker": {
             "colorbar": {
              "outlinewidth": 1,
              "tickcolor": "rgb(36,36,36)",
              "ticks": "outside"
             }
            },
            "type": "scatter3d"
           }
          ],
          "scattercarpet": [
           {
            "marker": {
             "colorbar": {
              "outlinewidth": 1,
              "tickcolor": "rgb(36,36,36)",
              "ticks": "outside"
             }
            },
            "type": "scattercarpet"
           }
          ],
          "scattergeo": [
           {
            "marker": {
             "colorbar": {
              "outlinewidth": 1,
              "tickcolor": "rgb(36,36,36)",
              "ticks": "outside"
             }
            },
            "type": "scattergeo"
           }
          ],
          "scattergl": [
           {
            "marker": {
             "colorbar": {
              "outlinewidth": 1,
              "tickcolor": "rgb(36,36,36)",
              "ticks": "outside"
             }
            },
            "type": "scattergl"
           }
          ],
          "scattermapbox": [
           {
            "marker": {
             "colorbar": {
              "outlinewidth": 1,
              "tickcolor": "rgb(36,36,36)",
              "ticks": "outside"
             }
            },
            "type": "scattermapbox"
           }
          ],
          "scatterpolargl": [
           {
            "marker": {
             "colorbar": {
              "outlinewidth": 1,
              "tickcolor": "rgb(36,36,36)",
              "ticks": "outside"
             }
            },
            "type": "scatterpolargl"
           }
          ],
          "scatterpolar": [
           {
            "marker": {
             "colorbar": {
              "outlinewidth": 1,
              "tickcolor": "rgb(36,36,36)",
              "ticks": "outside"
             }
            },
            "type": "scatterpolar"
           }
          ],
          "scatter": [
           {
            "fillpattern": {
             "fillmode": "overlay",
             "size": 10,
             "solidity": 0.2
            },
            "type": "scatter"
           }
          ],
          "scatterternary": [
           {
            "marker": {
             "colorbar": {
              "outlinewidth": 1,
              "tickcolor": "rgb(36,36,36)",
              "ticks": "outside"
             }
            },
            "type": "scatterternary"
           }
          ],
          "surface": [
           {
            "colorbar": {
             "outlinewidth": 1,
             "tickcolor": "rgb(36,36,36)",
             "ticks": "outside"
            },
            "colorscale": [
             [
              0.0,
              "#440154"
             ],
             [
              0.1111111111111111,
              "#482878"
             ],
             [
              0.2222222222222222,
              "#3e4989"
             ],
             [
              0.3333333333333333,
              "#31688e"
             ],
             [
              0.4444444444444444,
              "#26828e"
             ],
             [
              0.5555555555555556,
              "#1f9e89"
             ],
             [
              0.6666666666666666,
              "#35b779"
             ],
             [
              0.7777777777777778,
              "#6ece58"
             ],
             [
              0.8888888888888888,
              "#b5de2b"
             ],
             [
              1.0,
              "#fde725"
             ]
            ],
            "type": "surface"
           }
          ],
          "table": [
           {
            "cells": {
             "fill": {
              "color": "rgb(237,237,237)"
             },
             "line": {
              "color": "white"
             }
            },
            "header": {
             "fill": {
              "color": "rgb(217,217,217)"
             },
             "line": {
              "color": "white"
             }
            },
            "type": "table"
           }
          ]
         },
         "layout": {
          "annotationdefaults": {
           "arrowhead": 0,
           "arrowwidth": 1
          },
          "autotypenumbers": "strict",
          "coloraxis": {
           "colorbar": {
            "outlinewidth": 1,
            "tickcolor": "rgb(36,36,36)",
            "ticks": "outside"
           }
          },
          "colorscale": {
           "diverging": [
            [
             0.0,
             "rgb(103,0,31)"
            ],
            [
             0.1,
             "rgb(178,24,43)"
            ],
            [
             0.2,
             "rgb(214,96,77)"
            ],
            [
             0.3,
             "rgb(244,165,130)"
            ],
            [
             0.4,
             "rgb(253,219,199)"
            ],
            [
             0.5,
             "rgb(247,247,247)"
            ],
            [
             0.6,
             "rgb(209,229,240)"
            ],
            [
             0.7,
             "rgb(146,197,222)"
            ],
            [
             0.8,
             "rgb(67,147,195)"
            ],
            [
             0.9,
             "rgb(33,102,172)"
            ],
            [
             1.0,
             "rgb(5,48,97)"
            ]
           ],
           "sequential": [
            [
             0.0,
             "#440154"
            ],
            [
             0.1111111111111111,
             "#482878"
            ],
            [
             0.2222222222222222,
             "#3e4989"
            ],
            [
             0.3333333333333333,
             "#31688e"
            ],
            [
             0.4444444444444444,
             "#26828e"
            ],
            [
             0.5555555555555556,
             "#1f9e89"
            ],
            [
             0.6666666666666666,
             "#35b779"
            ],
            [
             0.7777777777777778,
             "#6ece58"
            ],
            [
             0.8888888888888888,
             "#b5de2b"
            ],
            [
             1.0,
             "#fde725"
            ]
           ],
           "sequentialminus": [
            [
             0.0,
             "#440154"
            ],
            [
             0.1111111111111111,
             "#482878"
            ],
            [
             0.2222222222222222,
             "#3e4989"
            ],
            [
             0.3333333333333333,
             "#31688e"
            ],
            [
             0.4444444444444444,
             "#26828e"
            ],
            [
             0.5555555555555556,
             "#1f9e89"
            ],
            [
             0.6666666666666666,
             "#35b779"
            ],
            [
             0.7777777777777778,
             "#6ece58"
            ],
            [
             0.8888888888888888,
             "#b5de2b"
            ],
            [
             1.0,
             "#fde725"
            ]
           ]
          },
          "colorway": [
           "#1F77B4",
           "#FF7F0E",
           "#2CA02C",
           "#D62728",
           "#9467BD",
           "#8C564B",
           "#E377C2",
           "#7F7F7F",
           "#BCBD22",
           "#17BECF"
          ],
          "font": {
           "color": "rgb(36,36,36)"
          },
          "geo": {
           "bgcolor": "white",
           "lakecolor": "white",
           "landcolor": "white",
           "showlakes": true,
           "showland": true,
           "subunitcolor": "white"
          },
          "hoverlabel": {
           "align": "left"
          },
          "hovermode": "closest",
          "mapbox": {
           "style": "light"
          },
          "paper_bgcolor": "white",
          "plot_bgcolor": "white",
          "polar": {
           "angularaxis": {
            "gridcolor": "rgb(232,232,232)",
            "linecolor": "rgb(36,36,36)",
            "showgrid": false,
            "showline": true,
            "ticks": "outside"
           },
           "bgcolor": "white",
           "radialaxis": {
            "gridcolor": "rgb(232,232,232)",
            "linecolor": "rgb(36,36,36)",
            "showgrid": false,
            "showline": true,
            "ticks": "outside"
           }
          },
          "scene": {
           "xaxis": {
            "backgroundcolor": "white",
            "gridcolor": "rgb(232,232,232)",
            "gridwidth": 2,
            "linecolor": "rgb(36,36,36)",
            "showbackground": true,
            "showgrid": false,
            "showline": true,
            "ticks": "outside",
            "zeroline": false,
            "zerolinecolor": "rgb(36,36,36)"
           },
           "yaxis": {
            "backgroundcolor": "white",
            "gridcolor": "rgb(232,232,232)",
            "gridwidth": 2,
            "linecolor": "rgb(36,36,36)",
            "showbackground": true,
            "showgrid": false,
            "showline": true,
            "ticks": "outside",
            "zeroline": false,
            "zerolinecolor": "rgb(36,36,36)"
           },
           "zaxis": {
            "backgroundcolor": "white",
            "gridcolor": "rgb(232,232,232)",
            "gridwidth": 2,
            "linecolor": "rgb(36,36,36)",
            "showbackground": true,
            "showgrid": false,
            "showline": true,
            "ticks": "outside",
            "zeroline": false,
            "zerolinecolor": "rgb(36,36,36)"
           }
          },
          "shapedefaults": {
           "fillcolor": "black",
           "line": {
            "width": 0
           },
           "opacity": 0.3
          },
          "ternary": {
           "aaxis": {
            "gridcolor": "rgb(232,232,232)",
            "linecolor": "rgb(36,36,36)",
            "showgrid": false,
            "showline": true,
            "ticks": "outside"
           },
           "baxis": {
            "gridcolor": "rgb(232,232,232)",
            "linecolor": "rgb(36,36,36)",
            "showgrid": false,
            "showline": true,
            "ticks": "outside"
           },
           "bgcolor": "white",
           "caxis": {
            "gridcolor": "rgb(232,232,232)",
            "linecolor": "rgb(36,36,36)",
            "showgrid": false,
            "showline": true,
            "ticks": "outside"
           }
          },
          "title": {
           "x": 0.05
          },
          "xaxis": {
           "automargin": true,
           "gridcolor": "rgb(232,232,232)",
           "linecolor": "rgb(36,36,36)",
           "showgrid": false,
           "showline": true,
           "ticks": "outside",
           "title": {
            "standoff": 15
           },
           "zeroline": false,
           "zerolinecolor": "rgb(36,36,36)"
          },
          "yaxis": {
           "automargin": true,
           "gridcolor": "rgb(232,232,232)",
           "linecolor": "rgb(36,36,36)",
           "showgrid": false,
           "showline": true,
           "ticks": "outside",
           "title": {
            "standoff": 15
           },
           "zeroline": false,
           "zerolinecolor": "rgb(36,36,36)"
          }
         }
        },
        "xaxis": {
         "anchor": "y",
         "domain": [
          0.0,
          1.0
         ],
         "title": {
          "text": "date"
         }
        },
        "yaxis": {
         "anchor": "x",
         "domain": [
          0.0,
          1.0
         ],
         "title": {
          "text": "sales_Boxcox"
         }
        },
        "legend": {
         "tracegroupgap": 0
        },
        "margin": {
         "t": 60
        },
        "font": {
         "size": 12
        },
        "title": {
         "text": "Sales for family product BEAUTY in cluster 5",
         "x": 0.5
        },
        "width": 850
       },
       "config": {
        "plotlyServerURL": "https://plot.ly"
       }
      },
      "text/html": [
       "<div>                            <div id=\"62f7256c-c8ea-4b04-b16d-acbdecf1ef8a\" class=\"plotly-graph-div\" style=\"height:525px; width:850px;\"></div>            <script type=\"text/javascript\">                require([\"plotly\"], function(Plotly) {                    window.PLOTLYENV=window.PLOTLYENV || {};                                    if (document.getElementById(\"62f7256c-c8ea-4b04-b16d-acbdecf1ef8a\")) {                    Plotly.newPlot(                        \"62f7256c-c8ea-4b04-b16d-acbdecf1ef8a\",                        [{\"hovertemplate\":\"date=%{x}\\u003cbr\\u003esales_Boxcox=%{y}\\u003cextra\\u003e\\u003c\\u002fextra\\u003e\",\"legendgroup\":\"\",\"line\":{\"color\":\"#636efa\",\"dash\":\"solid\"},\"marker\":{\"symbol\":\"circle\"},\"mode\":\"lines\",\"name\":\"\",\"showlegend\":false,\"x\":[\"2013-01-02T00:00:00\",\"2013-01-03T00:00:00\",\"2013-01-04T00:00:00\",\"2013-01-05T00:00:00\",\"2013-01-06T00:00:00\",\"2013-01-07T00:00:00\",\"2013-01-08T00:00:00\",\"2013-01-09T00:00:00\",\"2013-01-10T00:00:00\",\"2013-01-11T00:00:00\",\"2013-01-12T00:00:00\",\"2013-01-13T00:00:00\",\"2013-01-14T00:00:00\",\"2013-01-15T00:00:00\",\"2013-01-16T00:00:00\",\"2013-01-17T00:00:00\",\"2013-01-18T00:00:00\",\"2013-01-19T00:00:00\",\"2013-01-20T00:00:00\",\"2013-01-21T00:00:00\",\"2013-01-22T00:00:00\",\"2013-01-23T00:00:00\",\"2013-01-24T00:00:00\",\"2013-01-25T00:00:00\",\"2013-01-26T00:00:00\",\"2013-01-27T00:00:00\",\"2013-01-28T00:00:00\",\"2013-01-29T00:00:00\",\"2013-01-30T00:00:00\",\"2013-01-31T00:00:00\",\"2013-02-01T00:00:00\",\"2013-02-02T00:00:00\",\"2013-02-03T00:00:00\",\"2013-02-04T00:00:00\",\"2013-02-05T00:00:00\",\"2013-02-06T00:00:00\",\"2013-02-07T00:00:00\",\"2013-02-08T00:00:00\",\"2013-02-09T00:00:00\",\"2013-02-10T00:00:00\",\"2013-02-11T00:00:00\",\"2013-02-12T00:00:00\",\"2013-02-13T00:00:00\",\"2013-02-14T00:00:00\",\"2013-02-15T00:00:00\",\"2013-02-16T00:00:00\",\"2013-02-17T00:00:00\",\"2013-02-18T00:00:00\",\"2013-02-19T00:00:00\",\"2013-02-20T00:00:00\",\"2013-02-21T00:00:00\",\"2013-02-22T00:00:00\",\"2013-02-23T00:00:00\",\"2013-02-24T00:00:00\",\"2013-02-25T00:00:00\",\"2013-02-26T00:00:00\",\"2013-02-27T00:00:00\",\"2013-02-28T00:00:00\",\"2013-03-01T00:00:00\",\"2013-03-02T00:00:00\",\"2013-03-03T00:00:00\",\"2013-03-04T00:00:00\",\"2013-03-05T00:00:00\",\"2013-03-06T00:00:00\",\"2013-03-07T00:00:00\",\"2013-03-08T00:00:00\",\"2013-03-09T00:00:00\",\"2013-03-10T00:00:00\",\"2013-03-11T00:00:00\",\"2013-03-12T00:00:00\",\"2013-03-13T00:00:00\",\"2013-03-14T00:00:00\",\"2013-03-15T00:00:00\",\"2013-03-16T00:00:00\",\"2013-03-17T00:00:00\",\"2013-03-18T00:00:00\",\"2013-03-19T00:00:00\",\"2013-03-20T00:00:00\",\"2013-03-21T00:00:00\",\"2013-03-23T00:00:00\",\"2013-03-24T00:00:00\",\"2013-03-25T00:00:00\",\"2013-03-26T00:00:00\",\"2013-03-27T00:00:00\",\"2013-03-28T00:00:00\",\"2013-03-29T00:00:00\",\"2013-03-30T00:00:00\",\"2013-03-31T00:00:00\",\"2013-04-01T00:00:00\",\"2013-04-02T00:00:00\",\"2013-04-03T00:00:00\",\"2013-04-04T00:00:00\",\"2013-04-05T00:00:00\",\"2013-04-06T00:00:00\",\"2013-04-07T00:00:00\",\"2013-04-08T00:00:00\",\"2013-04-09T00:00:00\",\"2013-04-10T00:00:00\",\"2013-04-11T00:00:00\",\"2013-04-12T00:00:00\",\"2013-04-13T00:00:00\",\"2013-04-14T00:00:00\",\"2013-04-15T00:00:00\",\"2013-04-16T00:00:00\",\"2013-04-17T00:00:00\",\"2013-04-18T00:00:00\",\"2013-04-19T00:00:00\",\"2013-04-20T00:00:00\",\"2013-04-21T00:00:00\",\"2013-04-22T00:00:00\",\"2013-04-23T00:00:00\",\"2013-04-24T00:00:00\",\"2013-04-25T00:00:00\",\"2013-04-27T00:00:00\",\"2013-04-28T00:00:00\",\"2013-04-29T00:00:00\",\"2013-04-30T00:00:00\",\"2013-05-01T00:00:00\",\"2013-05-03T00:00:00\",\"2013-05-04T00:00:00\",\"2013-05-05T00:00:00\",\"2013-05-06T00:00:00\",\"2013-05-07T00:00:00\",\"2013-05-08T00:00:00\",\"2013-05-09T00:00:00\",\"2013-05-10T00:00:00\",\"2013-05-11T00:00:00\",\"2013-05-12T00:00:00\",\"2013-05-13T00:00:00\",\"2013-05-14T00:00:00\",\"2013-05-15T00:00:00\",\"2013-05-16T00:00:00\",\"2013-05-17T00:00:00\",\"2013-05-18T00:00:00\",\"2013-05-19T00:00:00\",\"2013-05-20T00:00:00\",\"2013-05-21T00:00:00\",\"2013-05-22T00:00:00\",\"2013-05-23T00:00:00\",\"2013-05-24T00:00:00\",\"2013-05-25T00:00:00\",\"2013-05-26T00:00:00\",\"2013-05-27T00:00:00\",\"2013-05-28T00:00:00\",\"2013-05-29T00:00:00\",\"2013-05-30T00:00:00\",\"2013-05-31T00:00:00\",\"2013-06-01T00:00:00\",\"2013-06-02T00:00:00\",\"2013-06-03T00:00:00\",\"2013-06-04T00:00:00\",\"2013-06-05T00:00:00\",\"2013-06-06T00:00:00\",\"2013-06-07T00:00:00\",\"2013-06-08T00:00:00\",\"2013-06-09T00:00:00\",\"2013-06-10T00:00:00\",\"2013-06-12T00:00:00\",\"2013-06-13T00:00:00\",\"2013-06-14T00:00:00\",\"2013-06-15T00:00:00\",\"2013-06-16T00:00:00\",\"2013-06-17T00:00:00\",\"2013-06-18T00:00:00\",\"2013-06-19T00:00:00\",\"2013-06-20T00:00:00\",\"2013-06-21T00:00:00\",\"2013-06-22T00:00:00\",\"2013-06-23T00:00:00\",\"2013-06-24T00:00:00\",\"2013-06-25T00:00:00\",\"2013-06-26T00:00:00\",\"2013-06-27T00:00:00\",\"2013-06-28T00:00:00\",\"2013-06-29T00:00:00\",\"2013-06-30T00:00:00\",\"2013-07-01T00:00:00\",\"2013-07-02T00:00:00\",\"2013-07-03T00:00:00\",\"2013-07-04T00:00:00\",\"2013-07-05T00:00:00\",\"2013-07-06T00:00:00\",\"2013-07-07T00:00:00\",\"2013-07-08T00:00:00\",\"2013-07-09T00:00:00\",\"2013-07-10T00:00:00\",\"2013-07-11T00:00:00\",\"2013-07-12T00:00:00\",\"2013-07-13T00:00:00\",\"2013-07-14T00:00:00\",\"2013-07-15T00:00:00\",\"2013-07-16T00:00:00\",\"2013-07-17T00:00:00\",\"2013-07-18T00:00:00\",\"2013-07-19T00:00:00\",\"2013-07-20T00:00:00\",\"2013-07-21T00:00:00\",\"2013-07-22T00:00:00\",\"2013-07-23T00:00:00\",\"2013-07-24T00:00:00\",\"2013-07-25T00:00:00\",\"2013-07-26T00:00:00\",\"2013-07-27T00:00:00\",\"2013-07-28T00:00:00\",\"2013-07-29T00:00:00\",\"2013-07-30T00:00:00\",\"2013-07-31T00:00:00\",\"2013-08-01T00:00:00\",\"2013-08-02T00:00:00\",\"2013-08-03T00:00:00\",\"2013-08-04T00:00:00\",\"2013-08-05T00:00:00\",\"2013-08-06T00:00:00\",\"2013-08-07T00:00:00\",\"2013-08-08T00:00:00\",\"2013-08-09T00:00:00\",\"2013-08-10T00:00:00\",\"2013-08-11T00:00:00\",\"2013-08-12T00:00:00\",\"2013-08-13T00:00:00\",\"2013-08-14T00:00:00\",\"2013-08-15T00:00:00\",\"2013-08-16T00:00:00\",\"2013-08-17T00:00:00\",\"2013-08-18T00:00:00\",\"2013-08-19T00:00:00\",\"2013-08-20T00:00:00\",\"2013-08-21T00:00:00\",\"2013-08-22T00:00:00\",\"2013-08-23T00:00:00\",\"2013-08-24T00:00:00\",\"2013-08-25T00:00:00\",\"2013-08-26T00:00:00\",\"2013-08-27T00:00:00\",\"2013-08-28T00:00:00\",\"2013-08-29T00:00:00\",\"2013-08-30T00:00:00\",\"2013-08-31T00:00:00\",\"2013-09-01T00:00:00\",\"2013-09-02T00:00:00\",\"2013-09-03T00:00:00\",\"2013-09-04T00:00:00\",\"2013-09-05T00:00:00\",\"2013-09-06T00:00:00\",\"2013-09-07T00:00:00\",\"2013-09-08T00:00:00\",\"2013-09-09T00:00:00\",\"2013-09-10T00:00:00\",\"2013-09-11T00:00:00\",\"2013-09-12T00:00:00\",\"2013-09-13T00:00:00\",\"2013-09-14T00:00:00\",\"2013-09-15T00:00:00\",\"2013-09-16T00:00:00\",\"2013-09-17T00:00:00\",\"2013-09-18T00:00:00\",\"2013-09-19T00:00:00\",\"2013-09-20T00:00:00\",\"2013-09-21T00:00:00\",\"2013-09-22T00:00:00\",\"2013-09-23T00:00:00\",\"2013-09-24T00:00:00\",\"2013-09-25T00:00:00\",\"2013-09-26T00:00:00\",\"2013-09-27T00:00:00\",\"2013-09-28T00:00:00\",\"2013-09-29T00:00:00\",\"2013-09-30T00:00:00\",\"2013-10-01T00:00:00\",\"2013-10-02T00:00:00\",\"2013-10-03T00:00:00\",\"2013-10-04T00:00:00\",\"2013-10-05T00:00:00\",\"2013-10-06T00:00:00\",\"2013-10-07T00:00:00\",\"2013-10-08T00:00:00\",\"2013-10-09T00:00:00\",\"2013-10-10T00:00:00\",\"2013-10-11T00:00:00\",\"2013-10-12T00:00:00\",\"2013-10-13T00:00:00\",\"2013-10-14T00:00:00\",\"2013-10-15T00:00:00\",\"2013-10-16T00:00:00\",\"2013-10-17T00:00:00\",\"2013-10-18T00:00:00\",\"2013-10-19T00:00:00\",\"2013-10-20T00:00:00\",\"2013-10-21T00:00:00\",\"2013-10-22T00:00:00\",\"2013-10-23T00:00:00\",\"2013-10-24T00:00:00\",\"2013-10-25T00:00:00\",\"2013-10-26T00:00:00\",\"2013-10-27T00:00:00\",\"2013-10-28T00:00:00\",\"2013-10-29T00:00:00\",\"2013-10-30T00:00:00\",\"2013-10-31T00:00:00\",\"2013-11-01T00:00:00\",\"2013-11-02T00:00:00\",\"2013-11-03T00:00:00\",\"2013-11-04T00:00:00\",\"2013-11-05T00:00:00\",\"2013-11-06T00:00:00\",\"2013-11-07T00:00:00\",\"2013-11-08T00:00:00\",\"2013-11-09T00:00:00\",\"2013-11-10T00:00:00\",\"2013-11-11T00:00:00\",\"2013-11-12T00:00:00\",\"2013-11-13T00:00:00\",\"2013-11-15T00:00:00\",\"2013-11-16T00:00:00\",\"2013-11-17T00:00:00\",\"2013-11-18T00:00:00\",\"2013-11-19T00:00:00\",\"2013-11-20T00:00:00\",\"2013-11-21T00:00:00\",\"2013-11-22T00:00:00\",\"2013-11-23T00:00:00\",\"2013-11-24T00:00:00\",\"2013-11-25T00:00:00\",\"2013-11-26T00:00:00\",\"2013-11-27T00:00:00\",\"2013-11-28T00:00:00\",\"2013-11-29T00:00:00\",\"2013-11-30T00:00:00\",\"2013-12-01T00:00:00\",\"2013-12-02T00:00:00\",\"2013-12-03T00:00:00\",\"2013-12-04T00:00:00\",\"2013-12-05T00:00:00\",\"2013-12-06T00:00:00\",\"2013-12-07T00:00:00\",\"2013-12-08T00:00:00\",\"2013-12-09T00:00:00\",\"2013-12-10T00:00:00\",\"2013-12-11T00:00:00\",\"2013-12-12T00:00:00\",\"2013-12-13T00:00:00\",\"2013-12-14T00:00:00\",\"2013-12-15T00:00:00\",\"2013-12-16T00:00:00\",\"2013-12-17T00:00:00\",\"2013-12-19T00:00:00\",\"2013-12-20T00:00:00\",\"2013-12-21T00:00:00\",\"2013-12-22T00:00:00\",\"2013-12-23T00:00:00\",\"2013-12-24T00:00:00\",\"2013-12-26T00:00:00\",\"2013-12-27T00:00:00\",\"2013-12-28T00:00:00\",\"2013-12-29T00:00:00\",\"2013-12-30T00:00:00\",\"2013-12-31T00:00:00\",\"2014-01-02T00:00:00\",\"2014-01-03T00:00:00\",\"2014-01-04T00:00:00\",\"2014-01-05T00:00:00\",\"2014-01-06T00:00:00\",\"2014-01-07T00:00:00\",\"2014-01-08T00:00:00\",\"2014-01-09T00:00:00\",\"2014-01-10T00:00:00\",\"2014-01-11T00:00:00\",\"2014-01-12T00:00:00\",\"2014-01-13T00:00:00\",\"2014-01-14T00:00:00\",\"2014-01-15T00:00:00\",\"2014-01-16T00:00:00\",\"2014-01-17T00:00:00\",\"2014-01-18T00:00:00\",\"2014-01-19T00:00:00\",\"2014-01-20T00:00:00\",\"2014-01-21T00:00:00\",\"2014-01-22T00:00:00\",\"2014-01-23T00:00:00\",\"2014-01-24T00:00:00\",\"2014-01-25T00:00:00\",\"2014-01-26T00:00:00\",\"2014-01-27T00:00:00\",\"2014-01-28T00:00:00\",\"2014-01-29T00:00:00\",\"2014-01-30T00:00:00\",\"2014-01-31T00:00:00\",\"2014-02-01T00:00:00\",\"2014-02-02T00:00:00\",\"2014-02-03T00:00:00\",\"2014-02-04T00:00:00\",\"2014-02-05T00:00:00\",\"2014-02-06T00:00:00\",\"2014-02-07T00:00:00\",\"2014-02-08T00:00:00\",\"2014-02-09T00:00:00\",\"2014-02-10T00:00:00\",\"2014-02-11T00:00:00\",\"2014-02-12T00:00:00\",\"2014-02-13T00:00:00\",\"2014-02-14T00:00:00\",\"2014-02-15T00:00:00\",\"2014-02-16T00:00:00\",\"2014-02-17T00:00:00\",\"2014-02-18T00:00:00\",\"2014-02-19T00:00:00\",\"2014-02-20T00:00:00\",\"2014-02-21T00:00:00\",\"2014-02-22T00:00:00\",\"2014-02-23T00:00:00\",\"2014-02-24T00:00:00\",\"2014-02-25T00:00:00\",\"2014-02-26T00:00:00\",\"2014-02-27T00:00:00\",\"2014-02-28T00:00:00\",\"2014-03-01T00:00:00\",\"2014-03-02T00:00:00\",\"2014-03-03T00:00:00\",\"2014-03-04T00:00:00\",\"2014-03-05T00:00:00\",\"2014-03-06T00:00:00\",\"2014-03-07T00:00:00\",\"2014-03-08T00:00:00\",\"2014-03-09T00:00:00\",\"2014-03-10T00:00:00\",\"2014-03-11T00:00:00\",\"2014-03-12T00:00:00\",\"2014-03-13T00:00:00\",\"2014-03-14T00:00:00\",\"2014-03-15T00:00:00\",\"2014-03-16T00:00:00\",\"2014-03-17T00:00:00\",\"2014-03-18T00:00:00\",\"2014-03-19T00:00:00\",\"2014-03-21T00:00:00\",\"2014-03-22T00:00:00\",\"2014-03-23T00:00:00\",\"2014-03-24T00:00:00\",\"2014-03-25T00:00:00\",\"2014-03-26T00:00:00\",\"2014-03-27T00:00:00\",\"2014-03-28T00:00:00\",\"2014-03-29T00:00:00\",\"2014-03-30T00:00:00\",\"2014-03-31T00:00:00\",\"2014-04-02T00:00:00\",\"2014-04-03T00:00:00\",\"2014-04-04T00:00:00\",\"2014-04-05T00:00:00\",\"2014-04-06T00:00:00\",\"2014-04-07T00:00:00\",\"2014-04-08T00:00:00\",\"2014-04-09T00:00:00\",\"2014-04-10T00:00:00\",\"2014-04-11T00:00:00\",\"2014-04-12T00:00:00\",\"2014-04-13T00:00:00\",\"2014-04-14T00:00:00\",\"2014-04-15T00:00:00\",\"2014-04-16T00:00:00\",\"2014-04-17T00:00:00\",\"2014-04-18T00:00:00\",\"2014-04-19T00:00:00\",\"2014-04-20T00:00:00\",\"2014-04-21T00:00:00\",\"2014-04-22T00:00:00\",\"2014-04-23T00:00:00\",\"2014-04-24T00:00:00\",\"2014-04-25T00:00:00\",\"2014-04-26T00:00:00\",\"2014-04-27T00:00:00\",\"2014-04-28T00:00:00\",\"2014-04-29T00:00:00\",\"2014-04-30T00:00:00\",\"2014-05-01T00:00:00\",\"2014-05-02T00:00:00\",\"2014-05-03T00:00:00\",\"2014-05-04T00:00:00\",\"2014-05-05T00:00:00\",\"2014-05-06T00:00:00\",\"2014-05-07T00:00:00\",\"2014-05-08T00:00:00\",\"2014-05-09T00:00:00\",\"2014-05-10T00:00:00\",\"2014-05-11T00:00:00\",\"2014-05-12T00:00:00\",\"2014-05-13T00:00:00\",\"2014-05-14T00:00:00\",\"2014-05-15T00:00:00\",\"2014-05-16T00:00:00\",\"2014-05-17T00:00:00\",\"2014-05-18T00:00:00\",\"2014-05-19T00:00:00\",\"2014-05-20T00:00:00\",\"2014-05-21T00:00:00\",\"2014-05-22T00:00:00\",\"2014-05-23T00:00:00\",\"2014-05-24T00:00:00\",\"2014-05-25T00:00:00\",\"2014-05-26T00:00:00\",\"2014-05-28T00:00:00\",\"2014-05-29T00:00:00\",\"2014-05-30T00:00:00\",\"2014-05-31T00:00:00\",\"2014-06-01T00:00:00\",\"2014-06-02T00:00:00\",\"2014-06-03T00:00:00\",\"2014-06-04T00:00:00\",\"2014-06-05T00:00:00\",\"2014-06-06T00:00:00\",\"2014-06-07T00:00:00\",\"2014-06-08T00:00:00\",\"2014-06-09T00:00:00\",\"2014-06-10T00:00:00\",\"2014-06-11T00:00:00\",\"2014-06-12T00:00:00\",\"2014-06-13T00:00:00\",\"2014-06-14T00:00:00\",\"2014-06-15T00:00:00\",\"2014-06-16T00:00:00\",\"2014-06-17T00:00:00\",\"2014-06-18T00:00:00\",\"2014-06-19T00:00:00\",\"2014-06-20T00:00:00\",\"2014-06-21T00:00:00\",\"2014-06-22T00:00:00\",\"2014-06-23T00:00:00\",\"2014-06-24T00:00:00\",\"2014-06-25T00:00:00\",\"2014-06-26T00:00:00\",\"2014-06-27T00:00:00\",\"2014-06-28T00:00:00\",\"2014-06-29T00:00:00\",\"2014-06-30T00:00:00\",\"2014-07-01T00:00:00\",\"2014-07-02T00:00:00\",\"2014-07-03T00:00:00\",\"2014-07-04T00:00:00\",\"2014-07-05T00:00:00\",\"2014-07-06T00:00:00\",\"2014-07-07T00:00:00\",\"2014-07-08T00:00:00\",\"2014-07-09T00:00:00\",\"2014-07-10T00:00:00\",\"2014-07-11T00:00:00\",\"2014-07-12T00:00:00\",\"2014-07-13T00:00:00\",\"2014-07-14T00:00:00\",\"2014-07-15T00:00:00\",\"2014-07-16T00:00:00\",\"2014-07-17T00:00:00\",\"2014-07-18T00:00:00\",\"2014-07-19T00:00:00\",\"2014-07-20T00:00:00\",\"2014-07-21T00:00:00\",\"2014-07-22T00:00:00\",\"2014-07-23T00:00:00\",\"2014-07-24T00:00:00\",\"2014-07-25T00:00:00\",\"2014-07-26T00:00:00\",\"2014-07-27T00:00:00\",\"2014-07-28T00:00:00\",\"2014-07-29T00:00:00\",\"2014-07-30T00:00:00\",\"2014-07-31T00:00:00\",\"2014-08-01T00:00:00\",\"2014-08-02T00:00:00\",\"2014-08-03T00:00:00\",\"2014-08-04T00:00:00\",\"2014-08-05T00:00:00\",\"2014-08-06T00:00:00\",\"2014-08-07T00:00:00\",\"2014-08-08T00:00:00\",\"2014-08-09T00:00:00\",\"2014-08-10T00:00:00\",\"2014-08-11T00:00:00\",\"2014-08-12T00:00:00\",\"2014-08-13T00:00:00\",\"2014-08-14T00:00:00\",\"2014-08-15T00:00:00\",\"2014-08-16T00:00:00\",\"2014-08-17T00:00:00\",\"2014-08-18T00:00:00\",\"2014-08-19T00:00:00\",\"2014-08-20T00:00:00\",\"2014-08-21T00:00:00\",\"2014-08-22T00:00:00\",\"2014-08-23T00:00:00\",\"2014-08-24T00:00:00\",\"2014-08-25T00:00:00\",\"2014-08-26T00:00:00\",\"2014-08-27T00:00:00\",\"2014-08-28T00:00:00\",\"2014-08-29T00:00:00\",\"2014-08-30T00:00:00\",\"2014-08-31T00:00:00\",\"2014-09-01T00:00:00\",\"2014-09-02T00:00:00\",\"2014-09-03T00:00:00\",\"2014-09-04T00:00:00\",\"2014-09-05T00:00:00\",\"2014-09-06T00:00:00\",\"2014-09-07T00:00:00\",\"2014-09-08T00:00:00\",\"2014-09-09T00:00:00\",\"2014-09-10T00:00:00\",\"2014-09-11T00:00:00\",\"2014-09-12T00:00:00\",\"2014-09-13T00:00:00\",\"2014-09-14T00:00:00\",\"2014-09-15T00:00:00\",\"2014-09-16T00:00:00\",\"2014-09-17T00:00:00\",\"2014-09-18T00:00:00\",\"2014-09-19T00:00:00\",\"2014-09-20T00:00:00\",\"2014-09-21T00:00:00\",\"2014-09-22T00:00:00\",\"2014-09-23T00:00:00\",\"2014-09-24T00:00:00\",\"2014-09-25T00:00:00\",\"2014-09-26T00:00:00\",\"2014-09-27T00:00:00\",\"2014-09-28T00:00:00\",\"2014-09-29T00:00:00\",\"2014-09-30T00:00:00\",\"2014-10-01T00:00:00\",\"2014-10-02T00:00:00\",\"2014-10-03T00:00:00\",\"2014-10-04T00:00:00\",\"2014-10-05T00:00:00\",\"2014-10-06T00:00:00\",\"2014-10-07T00:00:00\",\"2014-10-08T00:00:00\",\"2014-10-09T00:00:00\",\"2014-10-10T00:00:00\",\"2014-10-11T00:00:00\",\"2014-10-12T00:00:00\",\"2014-10-13T00:00:00\",\"2014-10-14T00:00:00\",\"2014-10-15T00:00:00\",\"2014-10-16T00:00:00\",\"2014-10-17T00:00:00\",\"2014-10-18T00:00:00\",\"2014-10-19T00:00:00\",\"2014-10-20T00:00:00\",\"2014-10-21T00:00:00\",\"2014-10-22T00:00:00\",\"2014-10-23T00:00:00\",\"2014-10-24T00:00:00\",\"2014-10-25T00:00:00\",\"2014-10-26T00:00:00\",\"2014-10-27T00:00:00\",\"2014-10-28T00:00:00\",\"2014-10-29T00:00:00\",\"2014-10-30T00:00:00\",\"2014-10-31T00:00:00\",\"2014-11-01T00:00:00\",\"2014-11-02T00:00:00\",\"2014-11-03T00:00:00\",\"2014-11-04T00:00:00\",\"2014-11-05T00:00:00\",\"2014-11-06T00:00:00\",\"2014-11-07T00:00:00\",\"2014-11-08T00:00:00\",\"2014-11-09T00:00:00\",\"2014-11-10T00:00:00\",\"2014-11-11T00:00:00\",\"2014-11-12T00:00:00\",\"2014-11-13T00:00:00\",\"2014-11-14T00:00:00\",\"2014-11-15T00:00:00\",\"2014-11-16T00:00:00\",\"2014-11-17T00:00:00\",\"2014-11-18T00:00:00\",\"2014-11-19T00:00:00\",\"2014-11-20T00:00:00\",\"2014-11-21T00:00:00\",\"2014-11-22T00:00:00\",\"2014-11-23T00:00:00\",\"2014-11-24T00:00:00\",\"2014-11-25T00:00:00\",\"2014-11-26T00:00:00\",\"2014-11-27T00:00:00\",\"2014-11-28T00:00:00\",\"2014-11-29T00:00:00\",\"2014-11-30T00:00:00\",\"2014-12-01T00:00:00\",\"2014-12-02T00:00:00\",\"2014-12-03T00:00:00\",\"2014-12-04T00:00:00\",\"2014-12-05T00:00:00\",\"2014-12-06T00:00:00\",\"2014-12-07T00:00:00\",\"2014-12-08T00:00:00\",\"2014-12-09T00:00:00\",\"2014-12-10T00:00:00\",\"2014-12-11T00:00:00\",\"2014-12-12T00:00:00\",\"2014-12-13T00:00:00\",\"2014-12-14T00:00:00\",\"2014-12-15T00:00:00\",\"2014-12-16T00:00:00\",\"2014-12-17T00:00:00\",\"2014-12-18T00:00:00\",\"2014-12-19T00:00:00\",\"2014-12-20T00:00:00\",\"2014-12-21T00:00:00\",\"2014-12-22T00:00:00\",\"2014-12-23T00:00:00\",\"2014-12-24T00:00:00\",\"2014-12-26T00:00:00\",\"2014-12-27T00:00:00\",\"2014-12-28T00:00:00\",\"2014-12-29T00:00:00\",\"2014-12-30T00:00:00\",\"2014-12-31T00:00:00\",\"2015-01-02T00:00:00\",\"2015-01-03T00:00:00\",\"2015-01-04T00:00:00\",\"2015-01-05T00:00:00\",\"2015-01-06T00:00:00\",\"2015-01-07T00:00:00\",\"2015-01-08T00:00:00\",\"2015-01-09T00:00:00\",\"2015-01-10T00:00:00\",\"2015-01-11T00:00:00\",\"2015-01-12T00:00:00\",\"2015-01-13T00:00:00\",\"2015-01-14T00:00:00\",\"2015-01-15T00:00:00\",\"2015-01-16T00:00:00\",\"2015-01-17T00:00:00\",\"2015-01-18T00:00:00\",\"2015-01-19T00:00:00\",\"2015-01-20T00:00:00\",\"2015-01-21T00:00:00\",\"2015-01-22T00:00:00\",\"2015-01-23T00:00:00\",\"2015-01-24T00:00:00\",\"2015-01-25T00:00:00\",\"2015-01-26T00:00:00\",\"2015-01-27T00:00:00\",\"2015-01-28T00:00:00\",\"2015-01-29T00:00:00\",\"2015-01-30T00:00:00\",\"2015-01-31T00:00:00\",\"2015-02-01T00:00:00\",\"2015-02-02T00:00:00\",\"2015-02-03T00:00:00\",\"2015-02-04T00:00:00\",\"2015-02-05T00:00:00\",\"2015-02-06T00:00:00\",\"2015-02-07T00:00:00\",\"2015-02-08T00:00:00\",\"2015-02-09T00:00:00\",\"2015-02-10T00:00:00\",\"2015-02-11T00:00:00\",\"2015-02-12T00:00:00\",\"2015-02-13T00:00:00\",\"2015-02-14T00:00:00\",\"2015-02-15T00:00:00\",\"2015-02-16T00:00:00\",\"2015-02-17T00:00:00\",\"2015-02-18T00:00:00\",\"2015-02-19T00:00:00\",\"2015-02-20T00:00:00\",\"2015-02-21T00:00:00\",\"2015-02-22T00:00:00\",\"2015-02-23T00:00:00\",\"2015-02-24T00:00:00\",\"2015-02-25T00:00:00\",\"2015-02-26T00:00:00\",\"2015-02-27T00:00:00\",\"2015-02-28T00:00:00\",\"2015-03-01T00:00:00\",\"2015-03-02T00:00:00\",\"2015-03-03T00:00:00\",\"2015-03-04T00:00:00\",\"2015-03-05T00:00:00\",\"2015-03-06T00:00:00\",\"2015-03-07T00:00:00\",\"2015-03-08T00:00:00\",\"2015-03-09T00:00:00\",\"2015-03-10T00:00:00\",\"2015-03-11T00:00:00\",\"2015-03-12T00:00:00\",\"2015-03-13T00:00:00\",\"2015-03-14T00:00:00\",\"2015-03-15T00:00:00\",\"2015-03-16T00:00:00\",\"2015-03-17T00:00:00\",\"2015-03-18T00:00:00\",\"2015-03-19T00:00:00\",\"2015-03-20T00:00:00\",\"2015-03-21T00:00:00\",\"2015-03-22T00:00:00\",\"2015-03-23T00:00:00\",\"2015-03-24T00:00:00\",\"2015-03-25T00:00:00\",\"2015-03-26T00:00:00\",\"2015-03-27T00:00:00\",\"2015-03-28T00:00:00\",\"2015-03-29T00:00:00\",\"2015-03-30T00:00:00\",\"2015-03-31T00:00:00\",\"2015-04-01T00:00:00\",\"2015-04-02T00:00:00\",\"2015-04-03T00:00:00\",\"2015-04-04T00:00:00\",\"2015-04-05T00:00:00\",\"2015-04-06T00:00:00\",\"2015-04-07T00:00:00\",\"2015-04-08T00:00:00\",\"2015-04-09T00:00:00\",\"2015-04-10T00:00:00\",\"2015-04-11T00:00:00\",\"2015-04-12T00:00:00\",\"2015-04-13T00:00:00\",\"2015-04-14T00:00:00\",\"2015-04-15T00:00:00\",\"2015-04-16T00:00:00\",\"2015-04-17T00:00:00\",\"2015-04-18T00:00:00\",\"2015-04-19T00:00:00\",\"2015-04-20T00:00:00\",\"2015-04-21T00:00:00\",\"2015-04-22T00:00:00\",\"2015-04-23T00:00:00\",\"2015-04-24T00:00:00\",\"2015-04-25T00:00:00\",\"2015-04-26T00:00:00\",\"2015-04-27T00:00:00\",\"2015-04-28T00:00:00\",\"2015-04-29T00:00:00\",\"2015-04-30T00:00:00\",\"2015-05-01T00:00:00\",\"2015-05-02T00:00:00\",\"2015-05-03T00:00:00\",\"2015-05-04T00:00:00\",\"2015-05-05T00:00:00\",\"2015-05-06T00:00:00\",\"2015-05-07T00:00:00\",\"2015-05-08T00:00:00\",\"2015-05-09T00:00:00\",\"2015-05-10T00:00:00\",\"2015-05-11T00:00:00\",\"2015-05-12T00:00:00\",\"2015-05-13T00:00:00\",\"2015-05-14T00:00:00\",\"2015-05-15T00:00:00\",\"2015-05-16T00:00:00\",\"2015-05-17T00:00:00\",\"2015-05-18T00:00:00\",\"2015-05-19T00:00:00\",\"2015-05-20T00:00:00\",\"2015-05-21T00:00:00\",\"2015-05-22T00:00:00\",\"2015-05-23T00:00:00\",\"2015-05-24T00:00:00\",\"2015-05-25T00:00:00\",\"2015-05-26T00:00:00\",\"2015-05-27T00:00:00\",\"2015-05-28T00:00:00\",\"2015-05-29T00:00:00\",\"2015-05-30T00:00:00\",\"2015-05-31T00:00:00\",\"2015-06-01T00:00:00\",\"2015-06-02T00:00:00\",\"2015-06-03T00:00:00\",\"2015-06-04T00:00:00\",\"2015-06-05T00:00:00\",\"2015-06-06T00:00:00\",\"2015-06-07T00:00:00\",\"2015-06-08T00:00:00\",\"2015-06-09T00:00:00\",\"2015-06-10T00:00:00\",\"2015-06-11T00:00:00\",\"2015-06-12T00:00:00\",\"2015-06-13T00:00:00\",\"2015-06-14T00:00:00\",\"2015-06-15T00:00:00\",\"2015-06-16T00:00:00\",\"2015-06-17T00:00:00\",\"2015-06-18T00:00:00\",\"2015-06-19T00:00:00\",\"2015-06-20T00:00:00\",\"2015-06-21T00:00:00\",\"2015-06-22T00:00:00\",\"2015-06-23T00:00:00\",\"2015-06-24T00:00:00\",\"2015-06-25T00:00:00\",\"2015-06-26T00:00:00\",\"2015-06-27T00:00:00\",\"2015-06-28T00:00:00\",\"2015-06-29T00:00:00\",\"2015-06-30T00:00:00\",\"2015-07-01T00:00:00\",\"2015-07-02T00:00:00\",\"2015-07-03T00:00:00\",\"2015-07-04T00:00:00\",\"2015-07-05T00:00:00\",\"2015-07-06T00:00:00\",\"2015-07-07T00:00:00\",\"2015-07-08T00:00:00\",\"2015-07-09T00:00:00\",\"2015-07-10T00:00:00\",\"2015-07-11T00:00:00\",\"2015-07-12T00:00:00\",\"2015-07-13T00:00:00\",\"2015-07-14T00:00:00\",\"2015-07-15T00:00:00\",\"2015-07-16T00:00:00\",\"2015-07-17T00:00:00\",\"2015-07-18T00:00:00\",\"2015-07-19T00:00:00\",\"2015-07-20T00:00:00\",\"2015-07-21T00:00:00\",\"2015-07-22T00:00:00\",\"2015-07-23T00:00:00\",\"2015-07-24T00:00:00\",\"2015-07-25T00:00:00\",\"2015-07-26T00:00:00\",\"2015-07-27T00:00:00\",\"2015-07-28T00:00:00\",\"2015-07-29T00:00:00\",\"2015-07-30T00:00:00\",\"2015-07-31T00:00:00\",\"2015-08-01T00:00:00\",\"2015-08-02T00:00:00\",\"2015-08-03T00:00:00\",\"2015-08-04T00:00:00\",\"2015-08-05T00:00:00\",\"2015-08-06T00:00:00\",\"2015-08-07T00:00:00\",\"2015-08-08T00:00:00\",\"2015-08-09T00:00:00\",\"2015-08-10T00:00:00\",\"2015-08-11T00:00:00\",\"2015-08-12T00:00:00\",\"2015-08-13T00:00:00\",\"2015-08-14T00:00:00\",\"2015-08-15T00:00:00\",\"2015-08-16T00:00:00\",\"2015-08-17T00:00:00\",\"2015-08-18T00:00:00\",\"2015-08-19T00:00:00\",\"2015-08-20T00:00:00\",\"2015-08-21T00:00:00\",\"2015-08-22T00:00:00\",\"2015-08-23T00:00:00\",\"2015-08-24T00:00:00\",\"2015-08-25T00:00:00\",\"2015-08-26T00:00:00\",\"2015-08-27T00:00:00\",\"2015-08-28T00:00:00\",\"2015-08-29T00:00:00\",\"2015-08-30T00:00:00\",\"2015-08-31T00:00:00\",\"2015-09-01T00:00:00\",\"2015-09-02T00:00:00\",\"2015-09-03T00:00:00\",\"2015-09-04T00:00:00\",\"2015-09-05T00:00:00\",\"2015-09-06T00:00:00\",\"2015-09-07T00:00:00\",\"2015-09-08T00:00:00\",\"2015-09-09T00:00:00\",\"2015-09-10T00:00:00\",\"2015-09-11T00:00:00\",\"2015-09-12T00:00:00\",\"2015-09-13T00:00:00\",\"2015-09-14T00:00:00\",\"2015-09-15T00:00:00\",\"2015-09-16T00:00:00\",\"2015-09-17T00:00:00\",\"2015-09-18T00:00:00\",\"2015-09-19T00:00:00\",\"2015-09-20T00:00:00\",\"2015-09-21T00:00:00\",\"2015-09-22T00:00:00\",\"2015-09-23T00:00:00\",\"2015-09-24T00:00:00\",\"2015-09-25T00:00:00\",\"2015-09-26T00:00:00\",\"2015-09-27T00:00:00\",\"2015-09-28T00:00:00\",\"2015-09-29T00:00:00\",\"2015-09-30T00:00:00\",\"2015-10-01T00:00:00\",\"2015-10-02T00:00:00\",\"2015-10-03T00:00:00\",\"2015-10-04T00:00:00\",\"2015-10-05T00:00:00\",\"2015-10-06T00:00:00\",\"2015-10-07T00:00:00\",\"2015-10-08T00:00:00\",\"2015-10-09T00:00:00\",\"2015-10-10T00:00:00\",\"2015-10-11T00:00:00\",\"2015-10-12T00:00:00\",\"2015-10-13T00:00:00\",\"2015-10-14T00:00:00\",\"2015-10-15T00:00:00\",\"2015-10-16T00:00:00\",\"2015-10-17T00:00:00\",\"2015-10-18T00:00:00\",\"2015-10-19T00:00:00\",\"2015-10-20T00:00:00\",\"2015-10-21T00:00:00\",\"2015-10-22T00:00:00\",\"2015-10-23T00:00:00\",\"2015-10-24T00:00:00\",\"2015-10-25T00:00:00\",\"2015-10-26T00:00:00\",\"2015-10-27T00:00:00\",\"2015-10-28T00:00:00\",\"2015-10-29T00:00:00\",\"2015-10-30T00:00:00\",\"2015-10-31T00:00:00\",\"2015-11-01T00:00:00\",\"2015-11-02T00:00:00\",\"2015-11-03T00:00:00\",\"2015-11-04T00:00:00\",\"2015-11-05T00:00:00\",\"2015-11-06T00:00:00\",\"2015-11-07T00:00:00\",\"2015-11-08T00:00:00\",\"2015-11-09T00:00:00\",\"2015-11-10T00:00:00\",\"2015-11-11T00:00:00\",\"2015-11-12T00:00:00\",\"2015-11-13T00:00:00\",\"2015-11-14T00:00:00\",\"2015-11-15T00:00:00\",\"2015-11-16T00:00:00\",\"2015-11-17T00:00:00\",\"2015-11-18T00:00:00\",\"2015-11-19T00:00:00\",\"2015-11-20T00:00:00\",\"2015-11-21T00:00:00\",\"2015-11-22T00:00:00\",\"2015-11-23T00:00:00\",\"2015-11-24T00:00:00\",\"2015-11-25T00:00:00\",\"2015-11-26T00:00:00\",\"2015-11-27T00:00:00\",\"2015-11-28T00:00:00\",\"2015-11-29T00:00:00\",\"2015-11-30T00:00:00\",\"2015-12-01T00:00:00\",\"2015-12-02T00:00:00\",\"2015-12-03T00:00:00\",\"2015-12-04T00:00:00\",\"2015-12-05T00:00:00\",\"2015-12-06T00:00:00\",\"2015-12-07T00:00:00\",\"2015-12-08T00:00:00\",\"2015-12-09T00:00:00\",\"2015-12-10T00:00:00\",\"2015-12-11T00:00:00\",\"2015-12-12T00:00:00\",\"2015-12-13T00:00:00\",\"2015-12-14T00:00:00\",\"2015-12-15T00:00:00\",\"2015-12-16T00:00:00\",\"2015-12-17T00:00:00\",\"2015-12-18T00:00:00\",\"2015-12-19T00:00:00\",\"2015-12-20T00:00:00\",\"2015-12-21T00:00:00\",\"2015-12-22T00:00:00\",\"2015-12-23T00:00:00\",\"2015-12-24T00:00:00\",\"2015-12-26T00:00:00\",\"2015-12-27T00:00:00\",\"2015-12-28T00:00:00\",\"2015-12-29T00:00:00\",\"2015-12-30T00:00:00\",\"2015-12-31T00:00:00\",\"2016-01-02T00:00:00\",\"2016-01-03T00:00:00\",\"2016-01-04T00:00:00\",\"2016-01-05T00:00:00\",\"2016-01-06T00:00:00\",\"2016-01-07T00:00:00\",\"2016-01-08T00:00:00\",\"2016-01-09T00:00:00\",\"2016-01-10T00:00:00\",\"2016-01-11T00:00:00\",\"2016-01-12T00:00:00\",\"2016-01-13T00:00:00\",\"2016-01-14T00:00:00\",\"2016-01-15T00:00:00\",\"2016-01-16T00:00:00\",\"2016-01-17T00:00:00\",\"2016-01-18T00:00:00\",\"2016-01-19T00:00:00\",\"2016-01-20T00:00:00\",\"2016-01-21T00:00:00\",\"2016-01-22T00:00:00\",\"2016-01-23T00:00:00\",\"2016-01-24T00:00:00\",\"2016-01-25T00:00:00\",\"2016-01-26T00:00:00\",\"2016-01-27T00:00:00\",\"2016-01-28T00:00:00\",\"2016-01-29T00:00:00\",\"2016-01-30T00:00:00\",\"2016-01-31T00:00:00\",\"2016-02-01T00:00:00\",\"2016-02-02T00:00:00\",\"2016-02-03T00:00:00\",\"2016-02-04T00:00:00\",\"2016-02-05T00:00:00\",\"2016-02-06T00:00:00\",\"2016-02-07T00:00:00\",\"2016-02-08T00:00:00\",\"2016-02-09T00:00:00\",\"2016-02-10T00:00:00\",\"2016-02-11T00:00:00\",\"2016-02-12T00:00:00\",\"2016-02-13T00:00:00\",\"2016-02-14T00:00:00\",\"2016-02-15T00:00:00\",\"2016-02-16T00:00:00\",\"2016-02-17T00:00:00\",\"2016-02-18T00:00:00\",\"2016-02-19T00:00:00\",\"2016-02-20T00:00:00\",\"2016-02-21T00:00:00\",\"2016-02-22T00:00:00\",\"2016-02-23T00:00:00\",\"2016-02-24T00:00:00\",\"2016-02-25T00:00:00\",\"2016-02-26T00:00:00\",\"2016-02-27T00:00:00\",\"2016-02-28T00:00:00\",\"2016-02-29T00:00:00\",\"2016-03-01T00:00:00\",\"2016-03-02T00:00:00\",\"2016-03-03T00:00:00\",\"2016-03-04T00:00:00\",\"2016-03-05T00:00:00\",\"2016-03-06T00:00:00\",\"2016-03-07T00:00:00\",\"2016-03-08T00:00:00\",\"2016-03-09T00:00:00\",\"2016-03-10T00:00:00\",\"2016-03-11T00:00:00\",\"2016-03-12T00:00:00\",\"2016-03-13T00:00:00\",\"2016-03-14T00:00:00\",\"2016-03-15T00:00:00\",\"2016-03-16T00:00:00\",\"2016-03-17T00:00:00\",\"2016-03-18T00:00:00\",\"2016-03-19T00:00:00\",\"2016-03-20T00:00:00\",\"2016-03-21T00:00:00\",\"2016-03-22T00:00:00\",\"2016-03-23T00:00:00\",\"2016-03-24T00:00:00\",\"2016-03-25T00:00:00\",\"2016-03-26T00:00:00\",\"2016-03-27T00:00:00\",\"2016-03-28T00:00:00\",\"2016-03-29T00:00:00\",\"2016-03-30T00:00:00\",\"2016-03-31T00:00:00\",\"2016-04-01T00:00:00\",\"2016-04-02T00:00:00\",\"2016-04-03T00:00:00\",\"2016-04-04T00:00:00\",\"2016-04-05T00:00:00\",\"2016-04-06T00:00:00\",\"2016-04-07T00:00:00\",\"2016-04-08T00:00:00\",\"2016-04-09T00:00:00\",\"2016-04-10T00:00:00\",\"2016-04-11T00:00:00\",\"2016-04-12T00:00:00\",\"2016-04-13T00:00:00\",\"2016-04-14T00:00:00\",\"2016-04-15T00:00:00\",\"2016-04-16T00:00:00\",\"2016-04-17T00:00:00\",\"2016-04-18T00:00:00\",\"2016-04-19T00:00:00\",\"2016-04-20T00:00:00\",\"2016-04-21T00:00:00\",\"2016-04-22T00:00:00\",\"2016-04-23T00:00:00\",\"2016-04-24T00:00:00\",\"2016-04-25T00:00:00\",\"2016-04-26T00:00:00\",\"2016-04-27T00:00:00\",\"2016-04-28T00:00:00\",\"2016-04-29T00:00:00\",\"2016-04-30T00:00:00\",\"2016-05-01T00:00:00\",\"2016-05-02T00:00:00\",\"2016-05-03T00:00:00\",\"2016-05-04T00:00:00\",\"2016-05-05T00:00:00\",\"2016-05-06T00:00:00\",\"2016-05-07T00:00:00\",\"2016-05-08T00:00:00\",\"2016-05-09T00:00:00\",\"2016-05-10T00:00:00\",\"2016-05-11T00:00:00\",\"2016-05-12T00:00:00\",\"2016-05-13T00:00:00\",\"2016-05-14T00:00:00\",\"2016-05-15T00:00:00\",\"2016-05-16T00:00:00\",\"2016-05-17T00:00:00\",\"2016-05-18T00:00:00\",\"2016-05-19T00:00:00\",\"2016-05-20T00:00:00\",\"2016-05-21T00:00:00\",\"2016-05-22T00:00:00\",\"2016-05-23T00:00:00\",\"2016-05-24T00:00:00\",\"2016-05-25T00:00:00\",\"2016-05-26T00:00:00\",\"2016-05-27T00:00:00\",\"2016-05-28T00:00:00\",\"2016-05-29T00:00:00\",\"2016-05-30T00:00:00\",\"2016-05-31T00:00:00\",\"2016-06-01T00:00:00\",\"2016-06-02T00:00:00\",\"2016-06-03T00:00:00\",\"2016-06-04T00:00:00\",\"2016-06-05T00:00:00\",\"2016-06-06T00:00:00\",\"2016-06-07T00:00:00\",\"2016-06-08T00:00:00\",\"2016-06-09T00:00:00\",\"2016-06-10T00:00:00\",\"2016-06-11T00:00:00\",\"2016-06-12T00:00:00\",\"2016-06-13T00:00:00\",\"2016-06-14T00:00:00\",\"2016-06-15T00:00:00\",\"2016-06-16T00:00:00\",\"2016-06-17T00:00:00\",\"2016-06-18T00:00:00\",\"2016-06-19T00:00:00\",\"2016-06-20T00:00:00\",\"2016-06-21T00:00:00\",\"2016-06-22T00:00:00\",\"2016-06-23T00:00:00\",\"2016-06-24T00:00:00\",\"2016-06-25T00:00:00\",\"2016-06-26T00:00:00\",\"2016-06-27T00:00:00\",\"2016-06-28T00:00:00\",\"2016-06-29T00:00:00\",\"2016-06-30T00:00:00\",\"2016-07-01T00:00:00\",\"2016-07-02T00:00:00\",\"2016-07-03T00:00:00\",\"2016-07-04T00:00:00\",\"2016-07-05T00:00:00\",\"2016-07-06T00:00:00\",\"2016-07-07T00:00:00\",\"2016-07-08T00:00:00\",\"2016-07-09T00:00:00\",\"2016-07-10T00:00:00\",\"2016-07-11T00:00:00\",\"2016-07-12T00:00:00\",\"2016-07-13T00:00:00\",\"2016-07-14T00:00:00\",\"2016-07-15T00:00:00\",\"2016-07-16T00:00:00\",\"2016-07-17T00:00:00\",\"2016-07-18T00:00:00\",\"2016-07-19T00:00:00\",\"2016-07-20T00:00:00\",\"2016-07-21T00:00:00\",\"2016-07-22T00:00:00\",\"2016-07-23T00:00:00\",\"2016-07-24T00:00:00\",\"2016-07-25T00:00:00\",\"2016-07-26T00:00:00\",\"2016-07-27T00:00:00\",\"2016-07-28T00:00:00\",\"2016-07-29T00:00:00\",\"2016-07-30T00:00:00\",\"2016-07-31T00:00:00\",\"2016-08-01T00:00:00\",\"2016-08-02T00:00:00\",\"2016-08-03T00:00:00\",\"2016-08-04T00:00:00\",\"2016-08-05T00:00:00\",\"2016-08-06T00:00:00\",\"2016-08-07T00:00:00\",\"2016-08-08T00:00:00\",\"2016-08-09T00:00:00\",\"2016-08-10T00:00:00\",\"2016-08-11T00:00:00\",\"2016-08-12T00:00:00\",\"2016-08-13T00:00:00\",\"2016-08-14T00:00:00\",\"2016-08-15T00:00:00\",\"2016-08-16T00:00:00\",\"2016-08-17T00:00:00\",\"2016-08-18T00:00:00\",\"2016-08-19T00:00:00\",\"2016-08-20T00:00:00\",\"2016-08-21T00:00:00\",\"2016-08-22T00:00:00\",\"2016-08-23T00:00:00\",\"2016-08-24T00:00:00\",\"2016-08-25T00:00:00\",\"2016-08-26T00:00:00\",\"2016-08-27T00:00:00\",\"2016-08-28T00:00:00\",\"2016-08-29T00:00:00\",\"2016-08-30T00:00:00\",\"2016-08-31T00:00:00\",\"2016-09-01T00:00:00\",\"2016-09-02T00:00:00\",\"2016-09-03T00:00:00\",\"2016-09-04T00:00:00\",\"2016-09-05T00:00:00\",\"2016-09-06T00:00:00\",\"2016-09-07T00:00:00\",\"2016-09-08T00:00:00\",\"2016-09-09T00:00:00\",\"2016-09-10T00:00:00\",\"2016-09-11T00:00:00\",\"2016-09-12T00:00:00\",\"2016-09-13T00:00:00\",\"2016-09-14T00:00:00\",\"2016-09-15T00:00:00\",\"2016-09-16T00:00:00\",\"2016-09-17T00:00:00\",\"2016-09-18T00:00:00\",\"2016-09-19T00:00:00\",\"2016-09-20T00:00:00\",\"2016-09-21T00:00:00\",\"2016-09-22T00:00:00\",\"2016-09-23T00:00:00\",\"2016-09-24T00:00:00\",\"2016-09-25T00:00:00\",\"2016-09-26T00:00:00\",\"2016-09-27T00:00:00\",\"2016-09-28T00:00:00\",\"2016-09-29T00:00:00\",\"2016-09-30T00:00:00\",\"2016-10-01T00:00:00\",\"2016-10-02T00:00:00\",\"2016-10-03T00:00:00\",\"2016-10-04T00:00:00\",\"2016-10-05T00:00:00\",\"2016-10-06T00:00:00\",\"2016-10-07T00:00:00\",\"2016-10-08T00:00:00\",\"2016-10-09T00:00:00\",\"2016-10-10T00:00:00\",\"2016-10-11T00:00:00\",\"2016-10-12T00:00:00\",\"2016-10-13T00:00:00\",\"2016-10-14T00:00:00\",\"2016-10-15T00:00:00\",\"2016-10-16T00:00:00\",\"2016-10-17T00:00:00\",\"2016-10-18T00:00:00\",\"2016-10-19T00:00:00\",\"2016-10-20T00:00:00\",\"2016-10-21T00:00:00\",\"2016-10-22T00:00:00\",\"2016-10-23T00:00:00\",\"2016-10-24T00:00:00\",\"2016-10-25T00:00:00\",\"2016-10-26T00:00:00\",\"2016-10-27T00:00:00\",\"2016-10-28T00:00:00\",\"2016-10-29T00:00:00\",\"2016-10-30T00:00:00\",\"2016-10-31T00:00:00\",\"2016-11-01T00:00:00\",\"2016-11-02T00:00:00\",\"2016-11-03T00:00:00\",\"2016-11-04T00:00:00\",\"2016-11-05T00:00:00\",\"2016-11-06T00:00:00\",\"2016-11-07T00:00:00\",\"2016-11-08T00:00:00\",\"2016-11-09T00:00:00\",\"2016-11-10T00:00:00\",\"2016-11-11T00:00:00\",\"2016-11-12T00:00:00\",\"2016-11-13T00:00:00\",\"2016-11-14T00:00:00\",\"2016-11-15T00:00:00\",\"2016-11-16T00:00:00\",\"2016-11-17T00:00:00\",\"2016-11-18T00:00:00\",\"2016-11-19T00:00:00\",\"2016-11-20T00:00:00\",\"2016-11-21T00:00:00\",\"2016-11-22T00:00:00\",\"2016-11-23T00:00:00\",\"2016-11-24T00:00:00\",\"2016-11-25T00:00:00\",\"2016-11-26T00:00:00\",\"2016-11-27T00:00:00\",\"2016-11-28T00:00:00\",\"2016-11-29T00:00:00\",\"2016-11-30T00:00:00\",\"2016-12-01T00:00:00\",\"2016-12-02T00:00:00\",\"2016-12-03T00:00:00\",\"2016-12-04T00:00:00\",\"2016-12-05T00:00:00\",\"2016-12-06T00:00:00\",\"2016-12-07T00:00:00\",\"2016-12-08T00:00:00\",\"2016-12-09T00:00:00\",\"2016-12-10T00:00:00\",\"2016-12-11T00:00:00\",\"2016-12-12T00:00:00\",\"2016-12-13T00:00:00\",\"2016-12-14T00:00:00\",\"2016-12-15T00:00:00\",\"2016-12-16T00:00:00\",\"2016-12-17T00:00:00\",\"2016-12-18T00:00:00\",\"2016-12-19T00:00:00\",\"2016-12-20T00:00:00\",\"2016-12-21T00:00:00\",\"2016-12-22T00:00:00\",\"2016-12-23T00:00:00\",\"2016-12-24T00:00:00\",\"2016-12-26T00:00:00\",\"2016-12-27T00:00:00\",\"2016-12-28T00:00:00\",\"2016-12-29T00:00:00\",\"2016-12-30T00:00:00\",\"2016-12-31T00:00:00\",\"2017-01-02T00:00:00\",\"2017-01-03T00:00:00\",\"2017-01-04T00:00:00\",\"2017-01-05T00:00:00\",\"2017-01-06T00:00:00\",\"2017-01-07T00:00:00\",\"2017-01-08T00:00:00\",\"2017-01-09T00:00:00\",\"2017-01-10T00:00:00\",\"2017-01-11T00:00:00\",\"2017-01-12T00:00:00\",\"2017-01-13T00:00:00\",\"2017-01-14T00:00:00\",\"2017-01-15T00:00:00\",\"2017-01-16T00:00:00\",\"2017-01-17T00:00:00\",\"2017-01-18T00:00:00\",\"2017-01-19T00:00:00\",\"2017-01-20T00:00:00\",\"2017-01-21T00:00:00\",\"2017-01-22T00:00:00\",\"2017-01-23T00:00:00\",\"2017-01-24T00:00:00\",\"2017-01-25T00:00:00\",\"2017-01-26T00:00:00\",\"2017-01-27T00:00:00\",\"2017-01-28T00:00:00\",\"2017-01-29T00:00:00\",\"2017-01-30T00:00:00\",\"2017-01-31T00:00:00\",\"2017-02-01T00:00:00\",\"2017-02-02T00:00:00\",\"2017-02-03T00:00:00\",\"2017-02-04T00:00:00\",\"2017-02-05T00:00:00\",\"2017-02-06T00:00:00\",\"2017-02-07T00:00:00\",\"2017-02-08T00:00:00\",\"2017-02-09T00:00:00\",\"2017-02-10T00:00:00\",\"2017-02-11T00:00:00\",\"2017-02-12T00:00:00\",\"2017-02-13T00:00:00\",\"2017-02-14T00:00:00\",\"2017-02-15T00:00:00\",\"2017-02-16T00:00:00\",\"2017-02-17T00:00:00\",\"2017-02-18T00:00:00\",\"2017-02-19T00:00:00\",\"2017-02-20T00:00:00\",\"2017-02-21T00:00:00\",\"2017-02-22T00:00:00\",\"2017-02-23T00:00:00\",\"2017-02-24T00:00:00\",\"2017-02-25T00:00:00\",\"2017-02-26T00:00:00\",\"2017-02-27T00:00:00\",\"2017-02-28T00:00:00\",\"2017-03-01T00:00:00\",\"2017-03-02T00:00:00\",\"2017-03-03T00:00:00\",\"2017-03-04T00:00:00\",\"2017-03-05T00:00:00\",\"2017-03-06T00:00:00\",\"2017-03-07T00:00:00\",\"2017-03-08T00:00:00\",\"2017-03-09T00:00:00\",\"2017-03-10T00:00:00\",\"2017-03-11T00:00:00\",\"2017-03-12T00:00:00\",\"2017-03-13T00:00:00\",\"2017-03-14T00:00:00\",\"2017-03-15T00:00:00\",\"2017-03-16T00:00:00\",\"2017-03-17T00:00:00\",\"2017-03-18T00:00:00\",\"2017-03-19T00:00:00\",\"2017-03-20T00:00:00\",\"2017-03-21T00:00:00\",\"2017-03-22T00:00:00\",\"2017-03-23T00:00:00\",\"2017-03-24T00:00:00\",\"2017-03-25T00:00:00\",\"2017-03-26T00:00:00\",\"2017-03-27T00:00:00\",\"2017-03-28T00:00:00\",\"2017-03-29T00:00:00\",\"2017-03-30T00:00:00\",\"2017-03-31T00:00:00\",\"2017-04-01T00:00:00\",\"2017-04-02T00:00:00\",\"2017-04-03T00:00:00\",\"2017-04-04T00:00:00\",\"2017-04-05T00:00:00\",\"2017-04-06T00:00:00\",\"2017-04-07T00:00:00\",\"2017-04-08T00:00:00\",\"2017-04-09T00:00:00\",\"2017-04-10T00:00:00\",\"2017-04-11T00:00:00\",\"2017-04-12T00:00:00\",\"2017-04-13T00:00:00\",\"2017-04-14T00:00:00\",\"2017-04-15T00:00:00\",\"2017-04-16T00:00:00\",\"2017-04-17T00:00:00\",\"2017-04-18T00:00:00\",\"2017-04-19T00:00:00\",\"2017-04-20T00:00:00\",\"2017-04-21T00:00:00\",\"2017-04-22T00:00:00\",\"2017-04-23T00:00:00\",\"2017-04-24T00:00:00\",\"2017-04-25T00:00:00\",\"2017-04-26T00:00:00\",\"2017-04-27T00:00:00\",\"2017-04-28T00:00:00\",\"2017-04-29T00:00:00\",\"2017-04-30T00:00:00\",\"2017-05-01T00:00:00\",\"2017-05-02T00:00:00\",\"2017-05-03T00:00:00\",\"2017-05-04T00:00:00\",\"2017-05-05T00:00:00\",\"2017-05-06T00:00:00\",\"2017-05-07T00:00:00\",\"2017-05-08T00:00:00\",\"2017-05-09T00:00:00\",\"2017-05-10T00:00:00\",\"2017-05-11T00:00:00\",\"2017-05-12T00:00:00\",\"2017-05-13T00:00:00\",\"2017-05-14T00:00:00\",\"2017-05-15T00:00:00\",\"2017-05-16T00:00:00\",\"2017-05-17T00:00:00\",\"2017-05-18T00:00:00\",\"2017-05-19T00:00:00\",\"2017-05-20T00:00:00\",\"2017-05-21T00:00:00\",\"2017-05-22T00:00:00\",\"2017-05-23T00:00:00\",\"2017-05-24T00:00:00\",\"2017-05-25T00:00:00\",\"2017-05-26T00:00:00\",\"2017-05-27T00:00:00\",\"2017-05-28T00:00:00\",\"2017-05-29T00:00:00\",\"2017-05-30T00:00:00\",\"2017-05-31T00:00:00\",\"2017-06-01T00:00:00\",\"2017-06-02T00:00:00\",\"2017-06-03T00:00:00\",\"2017-06-04T00:00:00\",\"2017-06-05T00:00:00\",\"2017-06-06T00:00:00\",\"2017-06-07T00:00:00\",\"2017-06-08T00:00:00\",\"2017-06-09T00:00:00\",\"2017-06-10T00:00:00\",\"2017-06-11T00:00:00\",\"2017-06-12T00:00:00\",\"2017-06-13T00:00:00\",\"2017-06-14T00:00:00\",\"2017-06-15T00:00:00\",\"2017-06-16T00:00:00\",\"2017-06-17T00:00:00\",\"2017-06-18T00:00:00\",\"2017-06-19T00:00:00\",\"2017-06-20T00:00:00\",\"2017-06-21T00:00:00\",\"2017-06-22T00:00:00\",\"2017-06-23T00:00:00\",\"2017-06-24T00:00:00\",\"2017-06-25T00:00:00\",\"2017-06-26T00:00:00\",\"2017-06-27T00:00:00\",\"2017-06-28T00:00:00\",\"2017-06-29T00:00:00\",\"2017-06-30T00:00:00\",\"2017-07-01T00:00:00\",\"2017-07-02T00:00:00\",\"2017-07-03T00:00:00\",\"2017-07-04T00:00:00\",\"2017-07-05T00:00:00\",\"2017-07-06T00:00:00\",\"2017-07-07T00:00:00\",\"2017-07-08T00:00:00\",\"2017-07-09T00:00:00\",\"2017-07-10T00:00:00\",\"2017-07-11T00:00:00\",\"2017-07-12T00:00:00\",\"2017-07-13T00:00:00\",\"2017-07-14T00:00:00\",\"2017-07-15T00:00:00\",\"2017-07-16T00:00:00\",\"2017-07-17T00:00:00\",\"2017-07-18T00:00:00\",\"2017-07-19T00:00:00\",\"2017-07-20T00:00:00\",\"2017-07-21T00:00:00\",\"2017-07-22T00:00:00\",\"2017-07-23T00:00:00\",\"2017-07-24T00:00:00\",\"2017-07-25T00:00:00\",\"2017-07-26T00:00:00\",\"2017-07-27T00:00:00\",\"2017-07-28T00:00:00\",\"2017-07-29T00:00:00\",\"2017-07-30T00:00:00\",\"2017-07-31T00:00:00\",\"2017-08-01T00:00:00\",\"2017-08-02T00:00:00\",\"2017-08-03T00:00:00\",\"2017-08-04T00:00:00\",\"2017-08-05T00:00:00\",\"2017-08-06T00:00:00\",\"2017-08-07T00:00:00\",\"2017-08-08T00:00:00\",\"2017-08-09T00:00:00\",\"2017-08-10T00:00:00\",\"2017-08-11T00:00:00\",\"2017-08-12T00:00:00\",\"2017-08-13T00:00:00\",\"2017-08-14T00:00:00\",\"2017-08-15T00:00:00\"],\"xaxis\":\"x\",\"y\":[1.9766978990055752,2.6186204986039425,1.8178408685690661,2.6186204986039425,2.958645595432948,1.4018731532896693,1.8178408685690661,1.108381046788897,2.114625003808475,1.8178408685690661,2.114625003808475,3.1692102890050884,1.108381046788897,1.108381046788897,2.114625003808475,1.6304608427595546,1.108381046788897,1.6304608427595546,2.8353716164467797,2.345776705142276,1.108381046788897,1.4018731532896693,0.0,2.114625003808475,2.6958974172492067,1.8178408685690661,1.8178408685690661,1.6304608427595546,1.4018731532896693,0.6970273843190963,1.8178408685690661,2.767923390385234,2.767923390385234,1.8178408685690661,1.108381046788897,1.108381046788897,0.0,1.6304608427595546,2.444760626325906,1.108381046788897,1.6304608427595546,1.8178408685690661,1.6304608427595546,1.6304608427595546,2.114625003808475,1.9766978990055752,1.8178408685690661,0.6970273843190963,1.4018731532896693,1.4018731532896693,1.6304608427595546,1.6304608427595546,1.8178408685690661,2.767923390385234,1.9766978990055752,1.4018731532896693,1.4018731532896693,1.9766978990055752,1.8178408685690661,2.6958974172492067,2.444760626325906,0.6970273843190963,0.0,1.4018731532896693,1.108381046788897,2.345776705142276,1.8178408685690661,2.444760626325906,1.4018731532896693,0.0,1.4018731532896693,1.108381046788897,1.6304608427595546,2.345776705142276,2.444760626325906,0.6970273843190963,2.114625003808475,1.6304608427595546,1.6304608427595546,1.4018731532896693,1.9766978990055752,1.8178408685690661,0.0,2.2365315866525926,1.6304608427595546,1.108381046788897,2.345776705142276,1.9766978990055752,1.9766978990055752,1.9766978990055752,1.108381046788897,1.108381046788897,1.6304608427595546,2.2365315866525926,2.767923390385234,2.767923390385234,1.6304608427595546,1.108381046788897,2.2365315866525926,1.6304608427595546,1.8178408685690661,2.114625003808475,1.9766978990055752,0.6970273843190963,0.6970273843190963,0.6970273843190963,1.108381046788897,2.6186204986039425,2.345776705142276,1.108381046788897,0.6970273843190963,0.6970273843190963,0.6970273843190963,2.444760626325906,2.6958974172492067,2.2365315866525926,1.108381046788897,1.4018731532896693,1.8178408685690661,2.6186204986039425,2.6958974172492067,1.9766978990055752,2.2365315866525926,0.6970273843190963,1.108381046788897,1.6304608427595546,1.9766978990055752,2.2365315866525926,1.4018731532896693,0.6970273843190963,1.9766978990055752,1.108381046788897,0.6970273843190963,2.345776705142276,1.8178408685690661,1.8178408685690661,1.4018731532896693,1.8178408685690661,0.6970273843190963,0.6970273843190963,1.9766978990055752,2.114625003808475,1.8178408685690661,1.4018731532896693,2.2365315866525926,1.108381046788897,1.6304608427595546,2.114625003808475,2.444760626325906,2.2365315866525926,1.6304608427595546,1.9766978990055752,1.4018731532896693,1.108381046788897,1.4018731532896693,2.114625003808475,1.8178408685690661,1.6304608427595546,1.4018731532896693,1.8178408685690661,2.114625003808475,2.444760626325906,1.9766978990055752,1.108381046788897,2.345776705142276,1.9766978990055752,1.9766978990055752,2.114625003808475,2.6958974172492067,1.8178408685690661,2.114625003808475,1.9766978990055752,0.6970273843190963,1.6304608427595546,2.5352585265924463,2.958645595432948,1.9766978990055752,1.9766978990055752,2.6958974172492067,1.8178408685690661,1.6304608427595546,2.114625003808475,3.069116089534643,2.6186204986039425,2.114625003808475,2.444760626325906,1.8178408685690661,1.108381046788897,1.8178408685690661,2.958645595432948,1.6304608427595546,1.9766978990055752,2.114625003808475,2.114625003808475,2.114625003808475,2.6958974172492067,2.444760626325906,1.6304608427595546,2.345776705142276,2.5352585265924463,1.8178408685690661,1.6304608427595546,1.8178408685690661,2.345776705142276,1.4018731532896693,2.345776705142276,1.9766978990055752,1.9766978990055752,1.9766978990055752,2.2365315866525926,2.8987933241286363,2.345776705142276,1.4018731532896693,1.9766978990055752,2.114625003808475,2.444760626325906,1.9766978990055752,2.444760626325906,2.6958974172492067,2.6186204986039425,2.345776705142276,1.8178408685690661,2.114625003808475,2.2365315866525926,2.6958974172492067,2.444760626325906,1.108381046788897,1.9766978990055752,2.444760626325906,1.6304608427595546,1.6304608427595546,2.5352585265924463,2.114625003808475,1.6304608427595546,2.444760626325906,0.6970273843190963,1.4018731532896693,2.5352585265924463,2.8353716164467797,1.9766978990055752,1.8178408685690661,1.4018731532896693,0.0,1.108381046788897,1.9766978990055752,2.444760626325906,1.6304608427595546,1.108381046788897,1.4018731532896693,1.8178408685690661,0.6970273843190963,2.114625003808475,2.6186204986039425,1.4018731532896693,0.0,2.114625003808475,1.4018731532896693,1.4018731532896693,2.444760626325906,1.9766978990055752,1.4018731532896693,0.0,1.8178408685690661,1.108381046788897,0.6970273843190963,1.8178408685690661,1.8178408685690661,2.2365315866525926,1.9766978990055752,1.9766978990055752,1.108381046788897,1.8178408685690661,2.6958974172492067,2.5352585265924463,1.6304608427595546,0.6970273843190963,1.8178408685690661,2.114625003808475,1.9766978990055752,2.6958974172492067,2.6958974172492067,0.0,2.2365315866525926,1.6304608427595546,1.6304608427595546,2.114625003808475,2.444760626325906,2.8353716164467797,1.9766978990055752,1.8178408685690661,2.345776705142276,1.9766978990055752,1.8178408685690661,2.767923390385234,0.6970273843190963,1.6304608427595546,1.108381046788897,1.6304608427595546,2.345776705142276,1.4018731532896693,2.345776705142276,2.6958974172492067,1.9766978990055752,1.4018731532896693,1.6304608427595546,1.8178408685690661,1.4018731532896693,2.444760626325906,2.5352585265924463,1.9766978990055752,2.2365315866525926,1.6304608427595546,1.108381046788897,2.444760626325906,2.5352585265924463,1.6304608427595546,1.8178408685690661,1.9766978990055752,1.8178408685690661,1.6304608427595546,2.767923390385234,2.444760626325906,2.114625003808475,1.108381046788897,1.4018731532896693,1.108381046788897,0.0,2.958645595432948,3.1203360584441087,2.114625003808475,1.8178408685690661,0.6970273843190963,0.6970273843190963,2.6186204986039425,2.444760626325906,2.6958974172492067,1.8178408685690661,1.4018731532896693,2.114625003808475,1.8178408685690661,0.6970273843190963,2.6186204986039425,2.8353716164467797,1.8178408685690661,0.6970273843190963,1.6304608427595546,1.108381046788897,2.5352585265924463,2.6958974172492067,2.345776705142276,1.8178408685690661,1.9766978990055752,2.2365315866525926,2.6958974172492067,1.9766978990055752,2.6186204986039425,0.6970273843190963,2.6958974172492067,2.767923390385234,3.069116089534643,2.8353716164467797,2.5352585265924463,1.6304608427595546,1.8178408685690661,2.2365315866525926,1.108381046788897,3.260723281949984,2.5352585265924463,1.4018731532896693,1.9766978990055752,1.6304608427595546,2.6186204986039425,1.4018731532896693,2.8987933241286363,2.6186204986039425,1.4018731532896693,1.6304608427595546,1.6304608427595546,1.6304608427595546,1.4018731532896693,2.958645595432948,2.8987933241286363,2.114625003808475,1.8178408685690661,2.2365315866525926,2.345776705142276,1.4018731532896693,2.8987933241286363,2.2365315866525926,1.108381046788897,1.6304608427595546,0.0,2.444760626325906,1.4018731532896693,2.767923390385234,2.114625003808475,1.4018731532896693,1.4018731532896693,1.4018731532896693,1.6304608427595546,0.6970273843190963,2.5352585265924463,2.6958974172492067,2.2365315866525926,1.8178408685690661,1.8178408685690661,0.6970273843190963,1.4018731532896693,1.8178408685690661,2.444760626325906,2.114625003808475,1.6304608427595546,1.108381046788897,1.4018731532896693,1.6304608427595546,2.345776705142276,2.444760626325906,2.2365315866525926,2.6186204986039425,2.6958974172492067,2.2365315866525926,0.6970273843190963,2.6958974172492067,2.8353716164467797,1.8178408685690661,1.4018731532896693,1.6304608427595546,2.2365315866525926,0.6970273843190963,2.444760626325906,3.4601988525672582,2.2365315866525926,1.8178408685690661,2.114625003808475,1.108381046788897,2.345776705142276,2.958645595432948,2.345776705142276,2.2365315866525926,2.114625003808475,2.114625003808475,1.8178408685690661,2.767923390385234,2.5352585265924463,2.345776705142276,1.108381046788897,1.108381046788897,1.8178408685690661,2.2365315866525926,3.069116089534643,1.6304608427595546,1.108381046788897,1.4018731532896693,0.6970273843190963,1.108381046788897,1.9766978990055752,2.5352585265924463,1.9766978990055752,1.108381046788897,2.5352585265924463,1.4018731532896693,2.5352585265924463,1.8178408685690661,1.9766978990055752,1.9766978990055752,2.5352585265924463,1.8178408685690661,1.4018731532896693,1.6304608427595546,1.6304608427595546,2.767923390385234,1.108381046788897,1.6304608427595546,1.8178408685690661,1.8178408685690661,0.0,2.345776705142276,1.9766978990055752,1.6304608427595546,2.2365315866525926,0.6970273843190963,1.6304608427595546,1.8178408685690661,1.6304608427595546,1.9766978990055752,1.6304608427595546,1.108381046788897,1.108381046788897,1.108381046788897,1.4018731532896693,1.8178408685690661,1.9766978990055752,0.6970273843190963,0.6970273843190963,1.6304608427595546,1.4018731532896693,1.6304608427595546,0.6970273843190963,0.6970273843190963,1.108381046788897,0.0,1.108381046788897,0.0,1.4018731532896693,1.4018731532896693,1.8178408685690661,1.108381046788897,1.108381046788897,0.6970273843190963,0.6970273843190963,1.8178408685690661,1.4018731532896693,0.6970273843190963,0.6970273843190963,1.4018731532896693,0.0,0.0,2.444760626325906,1.108381046788897,1.108381046788897,0.6970273843190963,1.4018731532896693,1.8178408685690661,0.6970273843190963,1.108381046788897,1.8178408685690661,1.4018731532896693,1.108381046788897,0.6970273843190963,1.8178408685690661,1.108381046788897,1.8178408685690661,1.8178408685690661,1.6304608427595546,1.8178408685690661,1.8178408685690661,1.4018731532896693,1.9766978990055752,2.345776705142276,2.5352585265924463,2.114625003808475,1.9766978990055752,1.9766978990055752,2.345776705142276,1.4018731532896693,2.444760626325906,2.2365315866525926,2.8353716164467797,1.9766978990055752,2.444760626325906,2.767923390385234,2.5352585265924463,2.958645595432948,3.0153116769191337,2.345776705142276,2.2365315866525926,2.6186204986039425,2.2365315866525926,2.2365315866525926,3.1203360584441087,2.444760626325906,2.767923390385234,2.114625003808475,2.6186204986039425,1.9766978990055752,1.9766978990055752,3.069116089534643,2.8987933241286363,1.6304608427595546,2.6186204986039425,2.114625003808475,1.6304608427595546,1.6304608427595546,2.958645595432948,3.069116089534643,0.6970273843190963,1.4018731532896693,2.2365315866525926,1.8178408685690661,1.8178408685690661,2.6958974172492067,2.6958974172492067,1.6304608427595546,1.9766978990055752,1.6304608427595546,1.6304608427595546,1.108381046788897,2.6958974172492067,2.2365315866525926,1.108381046788897,2.444760626325906,1.108381046788897,1.4018731532896693,1.4018731532896693,2.345776705142276,2.8987933241286363,2.767923390385234,2.5352585265924463,2.767923390385234,2.345776705142276,2.5352585265924463,3.1692102890050884,3.069116089534643,2.6186204986039425,2.345776705142276,2.8353716164467797,2.114625003808475,2.444760626325906,2.5352585265924463,3.3848042355597237,2.444760626325906,1.9766978990055752,2.345776705142276,1.9766978990055752,0.6970273843190963,3.1203360584441087,2.8353716164467797,2.114625003808475,2.767923390385234,2.114625003808475,2.114625003808475,1.4018731532896693,2.8987933241286363,2.6186204986039425,1.8178408685690661,2.345776705142276,2.6958974172492067,2.767923390385234,2.345776705142276,3.423164019514621,3.5642026664839963,3.2159457959011526,2.5352585265924463,1.4018731532896693,1.6304608427595546,2.6958974172492067,2.5352585265924463,3.2159457959011526,1.8178408685690661,2.2365315866525926,2.345776705142276,1.4018731532896693,2.8987933241286363,2.958645595432948,2.8987933241286363,2.5352585265924463,1.8178408685690661,1.9766978990055752,2.444760626325906,1.9766978990055752,2.6186204986039425,3.0153116769191337,1.8178408685690661,2.5352585265924463,2.345776705142276,2.444760626325906,2.114625003808475,3.0153116769191337,2.8987933241286363,3.1203360584441087,2.5352585265924463,2.8353716164467797,1.6304608427595546,2.114625003808475,2.6186204986039425,3.1203360584441087,1.9766978990055752,2.114625003808475,2.114625003808475,2.114625003808475,1.4018731532896693,3.0153116769191337,3.069116089534643,2.5352585265924463,2.444760626325906,2.114625003808475,1.9766978990055752,2.345776705142276,2.345776705142276,2.6186204986039425,2.444760626325906,1.6304608427595546,1.8178408685690661,1.8178408685690661,2.345776705142276,2.8353716164467797,3.4601988525672582,2.345776705142276,2.5352585265924463,2.345776705142276,2.114625003808475,1.8178408685690661,2.345776705142276,2.8987933241286363,2.345776705142276,2.5352585265924463,2.114625003808475,2.444760626325906,2.345776705142276,2.8987933241286363,2.6958974172492067,1.9766978990055752,2.2365315866525926,2.345776705142276,2.444760626325906,2.6186204986039425,3.069116089534643,2.6958974172492067,2.6958974172492067,1.8178408685690661,2.444760626325906,3.0153116769191337,2.8987933241286363,3.3450203046885445,2.6186204986039425,2.6958974172492067,1.9766978990055752,2.5352585265924463,2.5352585265924463,3.0153116769191337,2.444760626325906,2.114625003808475,2.2365315866525926,3.0153116769191337,1.8178408685690661,1.4018731532896693,3.1203360584441087,2.2365315866525926,2.2365315866525926,2.6186204986039425,2.444760626325906,1.6304608427595546,2.114625003808475,2.8353716164467797,2.5352585265924463,1.8178408685690661,1.6304608427595546,1.108381046788897,1.4018731532896693,2.2365315866525926,2.5352585265924463,1.6304608427595546,1.108381046788897,1.4018731532896693,0.6970273843190963,2.345776705142276,2.8987933241286363,3.1203360584441087,2.2365315866525926,2.444760626325906,2.444760626325906,2.114625003808475,2.2365315866525926,2.8353716164467797,2.8353716164467797,2.345776705142276,1.4018731532896693,1.9766978990055752,2.444760626325906,2.958645595432948,1.6304608427595546,2.345776705142276,2.444760626325906,3.0153116769191337,1.9766978990055752,1.108381046788897,1.9766978990055752,2.345776705142276,2.958645595432948,1.108381046788897,1.108381046788897,1.9766978990055752,1.108381046788897,1.8178408685690661,2.345776705142276,3.1692102890050884,1.9766978990055752,1.4018731532896693,2.114625003808475,1.4018731532896693,2.114625003808475,2.767923390385234,3.0153116769191337,2.114625003808475,2.114625003808475,2.6958974172492067,1.108381046788897,1.6304608427595546,2.6958974172492067,2.5352585265924463,1.4018731532896693,0.6970273843190963,1.6304608427595546,1.9766978990055752,0.6970273843190963,2.114625003808475,2.6186204986039425,1.9766978990055752,1.9766978990055752,2.2365315866525926,1.108381046788897,1.4018731532896693,2.2365315866525926,1.9766978990055752,1.6304608427595546,1.8178408685690661,1.8178408685690661,2.114625003808475,2.5352585265924463,1.9766978990055752,2.2365315866525926,2.114625003808475,0.6970273843190963,2.444760626325906,0.6970273843190963,2.114625003808475,2.6186204986039425,2.345776705142276,1.4018731532896693,1.8178408685690661,1.6304608427595546,1.8178408685690661,1.9766978990055752,1.9766978990055752,2.8353716164467797,1.108381046788897,2.114625003808475,1.4018731532896693,0.0,0.6970273843190963,2.6958974172492067,2.444760626325906,2.2365315866525926,2.114625003808475,1.6304608427595546,2.5352585265924463,2.8987933241286363,3.2159457959011526,3.7461610703365853,2.6958974172492067,1.6304608427595546,1.6304608427595546,2.2365315866525926,2.2365315866525926,3.1203360584441087,1.8178408685690661,1.6304608427595546,1.108381046788897,1.4018731532896693,1.108381046788897,1.8178408685690661,2.8353716164467797,2.5352585265924463,2.2365315866525926,1.8178408685690661,1.6304608427595546,1.8178408685690661,1.6304608427595546,2.8353716164467797,1.8178408685690661,2.345776705142276,1.8178408685690661,1.6304608427595546,1.8178408685690661,2.444760626325906,2.444760626325906,2.767923390385234,2.6958974172492067,1.8178408685690661,2.114625003808475,2.114625003808475,1.8178408685690661,2.8987933241286363,3.069116089534643,2.444760626325906,1.4018731532896693,2.114625003808475,0.6970273843190963,1.6304608427595546,2.444760626325906,2.345776705142276,2.444760626325906,1.6304608427595546,1.8178408685690661,1.4018731532896693,1.9766978990055752,2.8987933241286363,1.8178408685690661,2.444760626325906,2.345776705142276,1.6304608427595546,1.4018731532896693,1.8178408685690661,2.345776705142276,2.958645595432948,1.108381046788897,1.9766978990055752,2.2365315866525926,2.2365315866525926,1.4018731532896693,2.8987933241286363,2.2365315866525926,1.8178408685690661,1.4018731532896693,2.2365315866525926,1.8178408685690661,2.444760626325906,2.5352585265924463,2.114625003808475,2.767923390385234,2.2365315866525926,2.2365315866525926,1.8178408685690661,1.6304608427595546,2.345776705142276,2.6958974172492067,1.9766978990055752,1.108381046788897,2.2365315866525926,2.5352585265924463,2.2365315866525926,2.5352585265924463,2.345776705142276,1.108381046788897,1.108381046788897,0.6970273843190963,1.108381046788897,2.6186204986039425,2.958645595432948,2.958645595432948,1.6304608427595546,2.767923390385234,2.345776705142276,2.767923390385234,2.444760626325906,2.5352585265924463,3.069116089534643,3.1203360584441087,2.6186204986039425,2.114625003808475,2.6186204986039425,2.6186204986039425,2.6958974172492067,3.3450203046885445,2.8353716164467797,2.8353716164467797,1.4018731532896693,2.444760626325906,2.2365315866525926,3.2159457959011526,3.3848042355597237,2.6186204986039425,2.114625003808475,1.8178408685690661,1.8178408685690661,2.444760626325906,2.8353716164467797,3.3848042355597237,2.345776705142276,2.5352585265924463,1.9766978990055752,1.9766978990055752,2.345776705142276,3.1692102890050884,2.6958974172492067,2.5352585265924463,2.6186204986039425,2.767923390385234,1.6304608427595546,2.2365315866525926,2.8353716164467797,2.6186204986039425,1.8178408685690661,1.9766978990055752,2.345776705142276,2.114625003808475,1.108381046788897,2.767923390385234,3.2159457959011526,2.345776705142276,1.9766978990055752,2.114625003808475,1.9766978990055752,2.2365315866525926,2.8987933241286363,3.1203360584441087,2.345776705142276,1.4018731532896693,2.444760626325906,2.444760626325906,3.0153116769191337,3.5967473251707545,3.30370142133327,2.444760626325906,2.6186204986039425,2.5352585265924463,2.2365315866525926,2.8987933241286363,2.5352585265924463,3.2159457959011526,1.6304608427595546,2.345776705142276,2.345776705142276,2.2365315866525926,1.9766978990055752,3.0153116769191337,3.49599789026779,2.6186204986039425,2.345776705142276,2.444760626325906,1.108381046788897,2.6186204986039425,3.2159457959011526,2.958645595432948,2.444760626325906,3.3848042355597237,2.6186204986039425,2.114625003808475,2.345776705142276,2.8353716164467797,3.260723281949984,3.1203360584441087,3.3848042355597237,2.5352585265924463,2.5352585265924463,2.6958974172492067,3.3848042355597237,3.717891214693022,2.767923390385234,2.345776705142276,2.114625003808475,2.5352585265924463,1.8178408685690661,3.49599789026779,3.628335759854659,2.6958974172492067,2.6186204986039425,2.5352585265924463,2.2365315866525926,2.767923390385234,3.260723281949984,3.3848042355597237,2.8987933241286363,2.114625003808475,2.444760626325906,2.767923390385234,1.8178408685690661,3.0153116769191337,3.5306415601719836,2.6186204986039425,2.958645595432948,2.2365315866525926,2.114625003808475,1.9766978990055752,2.958645595432948,3.3450203046885445,3.1692102890050884,2.114625003808475,2.6958974172492067,1.8178408685690661,2.114625003808475,2.114625003808475,2.6958974172492067,1.4018731532896693,2.114625003808475,2.345776705142276,1.9766978990055752,1.8178408685690661,3.0153116769191337,3.3450203046885445,2.767923390385234,1.108381046788897,2.5352585265924463,2.2365315866525926,2.767923390385234,2.8353716164467797,2.345776705142276,1.9766978990055752,0.6970273843190963,1.108381046788897,2.5352585265924463,2.958645595432948,2.8987933241286363,3.5306415601719836,1.9766978990055752,2.114625003808475,1.4018731532896693,2.5352585265924463,2.8987933241286363,2.2365315866525926,1.6304608427595546,1.8178408685690661,2.114625003808475,1.9766978990055752,2.345776705142276,3.069116089534643,1.9766978990055752,2.6958974172492067,2.8353716164467797,1.6304608427595546,2.2365315866525926,2.958645595432948,2.8987933241286363,2.2365315866525926,2.114625003808475,2.444760626325906,1.8178408685690661,2.8987933241286363,3.1203360584441087,3.260723281949984,2.345776705142276,2.958645595432948,2.444760626325906,1.8178408685690661,1.8178408685690661,2.114625003808475,2.114625003808475,1.6304608427595546,3.260723281949984,2.8353716164467797,2.767923390385234,2.114625003808475,2.6958974172492067,2.6186204986039425,2.114625003808475,2.2365315866525926,2.444760626325906,2.444760626325906,2.767923390385234,3.2159457959011526,3.4601988525672582,1.6304608427595546,2.345776705142276,2.767923390385234,1.9766978990055752,2.6958974172492067,3.0153116769191337,3.3848042355597237,1.8178408685690661,2.6958974172492067,3.260723281949984,1.6304608427595546,3.0153116769191337,3.069116089534643,3.49599789026779,2.444760626325906,2.444760626325906,2.5352585265924463,1.9766978990055752,2.345776705142276,2.8353716164467797,3.3848042355597237,2.114625003808475,1.6304608427595546,2.114625003808475,2.5352585265924463,2.345776705142276,2.767923390385234,3.260723281949984,2.114625003808475,1.9766978990055752,2.8353716164467797,3.3450203046885445,2.6186204986039425,3.0153116769191337,2.6186204986039425,2.2365315866525926,2.767923390385234,1.9766978990055752,2.444760626325906,2.767923390385234,3.5642026664839963,3.49599789026779,2.5352585265924463,3.0153116769191337,3.1203360584441087,0.0,2.114625003808475,3.260723281949984,2.345776705142276,2.958645595432948,2.444760626325906,2.2365315866525926,2.114625003808475,2.5352585265924463,3.0153116769191337,3.1692102890050884,2.767923390385234,2.2365315866525926,2.345776705142276,2.5352585265924463,1.4018731532896693,3.1692102890050884,3.423164019514621,2.114625003808475,2.5352585265924463,3.0153116769191337,2.345776705142276,2.6958974172492067,3.3450203046885445,3.4601988525672582,3.0153116769191337,2.8987933241286363,2.6186204986039425,2.767923390385234,2.8353716164467797,3.0153116769191337,2.767923390385234,1.9766978990055752,2.5352585265924463,1.8178408685690661,2.2365315866525926,5.112061713049407,3.1203360584441087,2.8353716164467797,2.5352585265924463,2.345776705142276,2.767923390385234,2.5352585265924463,2.5352585265924463,2.444760626325906,2.767923390385234,2.2365315866525926,2.2365315866525926,2.345776705142276,1.6304608427595546,3.5306415601719836,2.6958974172492067,2.8987933241286363,3.0153116769191337,3.1692102890050884,2.6958974172492067,2.345776705142276,2.345776705142276,3.5967473251707545,3.49599789026779,2.444760626325906,2.6186204986039425,2.8987933241286363,2.114625003808475,2.345776705142276,3.688859379358266,3.3848042355597237,2.6958974172492067,2.114625003808475,2.6186204986039425,3.1692102890050884,1.8178408685690661,2.958645595432948,3.069116089534643,2.114625003808475,2.5352585265924463,2.6186204986039425,1.6304608427595546,2.6186204986039425,3.260723281949984,3.688859379358266,2.114625003808475,3.0153116769191337,2.8987933241286363,2.2365315866525926,3.3848042355597237,3.5306415601719836,3.2159457959011526,2.8987933241286363,3.069116089534643,2.767923390385234,1.4018731532896693,2.6186204986039425,3.1692102890050884,3.5306415601719836,2.958645595432948,2.6958974172492067,2.767923390385234,1.8178408685690661,2.8987933241286363,3.5642026664839963,3.1692102890050884,2.345776705142276,3.423164019514621,3.5306415601719836,2.5352585265924463,3.2159457959011526,3.3450203046885445,3.3450203046885445,2.6186204986039425,2.345776705142276,2.6186204986039425,2.5352585265924463,2.6958974172492067,3.423164019514621,3.1692102890050884,3.260723281949984,2.767923390385234,3.3848042355597237,2.767923390385234,2.444760626325906,3.5306415601719836,3.4601988525672582,2.6958974172492067,2.2365315866525926,2.8987933241286363,2.444760626325906,3.260723281949984,3.0153116769191337,3.069116089534643,3.0153116769191337,3.1203360584441087,3.1203360584441087,2.6186204986039425,2.5352585265924463,3.5642026664839963,3.423164019514621,2.5352585265924463,3.1203360584441087,2.8987933241286363,2.767923390385234,2.6186204986039425,3.5642026664839963,3.3848042355597237,2.6958974172492067,2.8353716164467797,3.717891214693022,2.444760626325906,3.2159457959011526,3.260723281949984,3.5306415601719836,3.30370142133327,3.0153116769191337,2.6186204986039425,3.260723281949984,2.2365315866525926,3.3450203046885445,3.49599789026779,2.6958974172492067,2.767923390385234,2.5352585265924463,3.0153116769191337,3.1692102890050884,3.5642026664839963,3.717891214693022,3.2159457959011526,2.767923390385234,2.767923390385234,2.5352585265924463,2.767923390385234,3.3848042355597237,3.1203360584441087,3.1203360584441087,2.5352585265924463,3.069116089534643,1.8178408685690661,1.8178408685690661,3.688859379358266,3.688859379358266,2.8987933241286363,2.767923390385234,2.767923390385234,2.6958974172492067,2.6958974172492067,3.3450203046885445,3.8773574464092033,2.5352585265924463,1.8178408685690661,2.767923390385234,2.2365315866525926,1.8178408685690661,2.958645595432948,3.5967473251707545,2.444760626325906,2.767923390385234,3.0153116769191337,2.958645595432948,2.2365315866525926,3.0153116769191337,3.1692102890050884,1.6304608427595546,2.444760626325906,2.444760626325906,2.767923390385234,2.8353716164467797,3.0153116769191337,3.7461610703365853,3.069116089534643,3.773708226242945,3.773708226242945,3.4601988525672582,3.49599789026779,3.423164019514621,3.8773574464092033,2.767923390385234,2.767923390385234,2.958645595432948,2.2365315866525926,1.9766978990055752,2.8987933241286363,3.688859379358266,2.444760626325906,2.8353716164467797,2.444760626325906,2.958645595432948,2.345776705142276,3.2159457959011526,3.2159457959011526,2.6958974172492067,3.2159457959011526,2.2365315866525926,2.767923390385234,2.958645595432948,3.7461610703365853,3.0153116769191337,2.2365315866525926,1.8178408685690661,3.0153116769191337,3.069116089534643,2.8987933241286363,3.1692102890050884,3.7461610703365853,2.6186204986039425,3.30370142133327,1.8178408685690661,1.4018731532896693,2.114625003808475,2.114625003808475,3.2159457959011526,2.6958974172492067,2.8353716164467797,2.8353716164467797,2.767923390385234,1.8178408685690661,2.8987933241286363,3.4601988525672582,2.5352585265924463,2.345776705142276,3.1203360584441087,2.444760626325906,2.767923390385234,2.8353716164467797,3.4601988525672582,2.958645595432948,2.5352585265924463,2.114625003808475,2.114625003808475,2.958645595432948,3.4601988525672582,2.5352585265924463,2.8987933241286363,2.958645595432948,2.8987933241286363,3.688859379358266,4.099869769774797,2.6186204986039425,2.5352585265924463,2.6958974172492067,1.8178408685690661,1.8178408685690661,3.3450203046885445,3.49599789026779,3.1203360584441087,2.6958974172492067,2.5352585265924463,1.8178408685690661,2.444760626325906,3.8005689938086813,2.8987933241286363,2.767923390385234,2.5352585265924463,2.345776705142276,2.345776705142276,2.958645595432948,3.260723281949984,3.2159457959011526,1.6304608427595546,2.444760626325906,3.0153116769191337,2.767923390385234,2.5352585265924463,3.5967473251707545,3.4601988525672582,2.444760626325906,2.114625003808475,2.6186204986039425,2.2365315866525926,2.114625003808475,2.8353716164467797,3.1203360584441087,2.2365315866525926,1.4018731532896693,2.114625003808475,2.444760626325906,2.8987933241286363,3.3848042355597237,2.958645595432948,1.8178408685690661,2.6186204986039425,2.345776705142276,2.767923390385234,3.30370142133327,2.8353716164467797,2.8987933241286363,2.5352585265924463,3.3450203046885445,2.958645595432948,3.2159457959011526,2.444760626325906,3.069116089534643,3.260723281949984,2.345776705142276,2.8353716164467797,2.444760626325906,1.8178408685690661,2.6186204986039425,2.8353716164467797,2.8353716164467797,1.9766978990055752,1.8178408685690661,2.2365315866525926,2.345776705142276,1.9766978990055752,2.767923390385234,3.423164019514621,3.3450203046885445,1.6304608427595546,2.5352585265924463,2.114625003808475,2.8353716164467797,3.0153116769191337,3.1203360584441087,1.108381046788897,1.9766978990055752,2.444760626325906,2.345776705142276,1.6304608427595546,3.5306415601719836,2.8987933241286363,1.6304608427595546,2.2365315866525926,2.6958974172492067,2.5352585265924463,2.444760626325906,3.069116089534643,3.4601988525672582,3.069116089534643,2.114625003808475,2.345776705142276,2.8353716164467797,2.6958974172492067,3.260723281949984,3.423164019514621,3.0153116769191337,2.2365315866525926,2.6186204986039425,2.767923390385234,2.114625003808475,2.8353716164467797,3.30370142133327,2.5352585265924463,2.767923390385234,2.444760626325906,1.9766978990055752,2.345776705142276,3.30370142133327,3.069116089534643,3.1692102890050884,2.6186204986039425,2.767923390385234,2.6186204986039425,2.345776705142276,2.958645595432948,3.5642026664839963,2.8987933241286363,2.6186204986039425,2.767923390385234,2.958645595432948,3.069116089534643,3.5967473251707545,3.5306415601719836,2.6958974172492067,3.1692102890050884,3.069116089534643,2.767923390385234,2.767923390385234,3.260723281949984,3.628335759854659,2.6958974172492067,2.5352585265924463,2.8987933241286363,2.114625003808475,4.456621269901027,3.069116089534643,3.069116089534643,0.6970273843190963,1.9766978990055752,2.6186204986039425,2.444760626325906,2.6186204986039425,3.0153116769191337,3.3848042355597237,2.5352585265924463,2.6958974172492067,3.069116089534643,1.9766978990055752,1.8178408685690661,3.0153116769191337,2.958645595432948,2.6186204986039425,1.8178408685690661,1.9766978990055752,1.6304608427595546,2.8353716164467797,3.5306415601719836,3.423164019514621,2.958645595432948,2.444760626325906,2.444760626325906,1.108381046788897,2.6186204986039425,3.2159457959011526,3.49599789026779,2.345776705142276,2.767923390385234,2.6958974172492067,2.2365315866525926,3.1692102890050884,3.5306415601719836,3.852363484505641,3.2159457959011526,2.6186204986039425,3.1203360584441087,2.2365315866525926,2.444760626325906,3.30370142133327,2.8987933241286363,2.5352585265924463,1.8178408685690661,1.6304608427595546,1.8178408685690661,2.6186204986039425,3.423164019514621,3.30370142133327,3.2159457959011526,2.444760626325906,2.8353716164467797,1.4018731532896693,2.5352585265924463,3.260723281949984,3.3848042355597237,3.2159457959011526,2.444760626325906,2.6958974172492067,2.444760626325906,3.1203360584441087,3.6590229826510012,3.5306415601719836,2.767923390385234,2.114625003808475,2.8987933241286363,2.6186204986039425,2.6186204986039425,3.3848042355597237,3.423164019514621,3.069116089534643,2.6958974172492067,2.6958974172492067,3.1692102890050884,2.8353716164467797,3.0153116769191337,2.8987933241286363,1.9766978990055752,2.2365315866525926],\"yaxis\":\"y\",\"type\":\"scattergl\"}],                        {\"template\":{\"data\":{\"barpolar\":[{\"marker\":{\"line\":{\"color\":\"white\",\"width\":0.5},\"pattern\":{\"fillmode\":\"overlay\",\"size\":10,\"solidity\":0.2}},\"type\":\"barpolar\"}],\"bar\":[{\"error_x\":{\"color\":\"rgb(36,36,36)\"},\"error_y\":{\"color\":\"rgb(36,36,36)\"},\"marker\":{\"line\":{\"color\":\"white\",\"width\":0.5},\"pattern\":{\"fillmode\":\"overlay\",\"size\":10,\"solidity\":0.2}},\"type\":\"bar\"}],\"carpet\":[{\"aaxis\":{\"endlinecolor\":\"rgb(36,36,36)\",\"gridcolor\":\"white\",\"linecolor\":\"white\",\"minorgridcolor\":\"white\",\"startlinecolor\":\"rgb(36,36,36)\"},\"baxis\":{\"endlinecolor\":\"rgb(36,36,36)\",\"gridcolor\":\"white\",\"linecolor\":\"white\",\"minorgridcolor\":\"white\",\"startlinecolor\":\"rgb(36,36,36)\"},\"type\":\"carpet\"}],\"choropleth\":[{\"colorbar\":{\"outlinewidth\":1,\"tickcolor\":\"rgb(36,36,36)\",\"ticks\":\"outside\"},\"type\":\"choropleth\"}],\"contourcarpet\":[{\"colorbar\":{\"outlinewidth\":1,\"tickcolor\":\"rgb(36,36,36)\",\"ticks\":\"outside\"},\"type\":\"contourcarpet\"}],\"contour\":[{\"colorbar\":{\"outlinewidth\":1,\"tickcolor\":\"rgb(36,36,36)\",\"ticks\":\"outside\"},\"colorscale\":[[0.0,\"#440154\"],[0.1111111111111111,\"#482878\"],[0.2222222222222222,\"#3e4989\"],[0.3333333333333333,\"#31688e\"],[0.4444444444444444,\"#26828e\"],[0.5555555555555556,\"#1f9e89\"],[0.6666666666666666,\"#35b779\"],[0.7777777777777778,\"#6ece58\"],[0.8888888888888888,\"#b5de2b\"],[1.0,\"#fde725\"]],\"type\":\"contour\"}],\"heatmapgl\":[{\"colorbar\":{\"outlinewidth\":1,\"tickcolor\":\"rgb(36,36,36)\",\"ticks\":\"outside\"},\"colorscale\":[[0.0,\"#440154\"],[0.1111111111111111,\"#482878\"],[0.2222222222222222,\"#3e4989\"],[0.3333333333333333,\"#31688e\"],[0.4444444444444444,\"#26828e\"],[0.5555555555555556,\"#1f9e89\"],[0.6666666666666666,\"#35b779\"],[0.7777777777777778,\"#6ece58\"],[0.8888888888888888,\"#b5de2b\"],[1.0,\"#fde725\"]],\"type\":\"heatmapgl\"}],\"heatmap\":[{\"colorbar\":{\"outlinewidth\":1,\"tickcolor\":\"rgb(36,36,36)\",\"ticks\":\"outside\"},\"colorscale\":[[0.0,\"#440154\"],[0.1111111111111111,\"#482878\"],[0.2222222222222222,\"#3e4989\"],[0.3333333333333333,\"#31688e\"],[0.4444444444444444,\"#26828e\"],[0.5555555555555556,\"#1f9e89\"],[0.6666666666666666,\"#35b779\"],[0.7777777777777778,\"#6ece58\"],[0.8888888888888888,\"#b5de2b\"],[1.0,\"#fde725\"]],\"type\":\"heatmap\"}],\"histogram2dcontour\":[{\"colorbar\":{\"outlinewidth\":1,\"tickcolor\":\"rgb(36,36,36)\",\"ticks\":\"outside\"},\"colorscale\":[[0.0,\"#440154\"],[0.1111111111111111,\"#482878\"],[0.2222222222222222,\"#3e4989\"],[0.3333333333333333,\"#31688e\"],[0.4444444444444444,\"#26828e\"],[0.5555555555555556,\"#1f9e89\"],[0.6666666666666666,\"#35b779\"],[0.7777777777777778,\"#6ece58\"],[0.8888888888888888,\"#b5de2b\"],[1.0,\"#fde725\"]],\"type\":\"histogram2dcontour\"}],\"histogram2d\":[{\"colorbar\":{\"outlinewidth\":1,\"tickcolor\":\"rgb(36,36,36)\",\"ticks\":\"outside\"},\"colorscale\":[[0.0,\"#440154\"],[0.1111111111111111,\"#482878\"],[0.2222222222222222,\"#3e4989\"],[0.3333333333333333,\"#31688e\"],[0.4444444444444444,\"#26828e\"],[0.5555555555555556,\"#1f9e89\"],[0.6666666666666666,\"#35b779\"],[0.7777777777777778,\"#6ece58\"],[0.8888888888888888,\"#b5de2b\"],[1.0,\"#fde725\"]],\"type\":\"histogram2d\"}],\"histogram\":[{\"marker\":{\"line\":{\"color\":\"white\",\"width\":0.6}},\"type\":\"histogram\"}],\"mesh3d\":[{\"colorbar\":{\"outlinewidth\":1,\"tickcolor\":\"rgb(36,36,36)\",\"ticks\":\"outside\"},\"type\":\"mesh3d\"}],\"parcoords\":[{\"line\":{\"colorbar\":{\"outlinewidth\":1,\"tickcolor\":\"rgb(36,36,36)\",\"ticks\":\"outside\"}},\"type\":\"parcoords\"}],\"pie\":[{\"automargin\":true,\"type\":\"pie\"}],\"scatter3d\":[{\"line\":{\"colorbar\":{\"outlinewidth\":1,\"tickcolor\":\"rgb(36,36,36)\",\"ticks\":\"outside\"}},\"marker\":{\"colorbar\":{\"outlinewidth\":1,\"tickcolor\":\"rgb(36,36,36)\",\"ticks\":\"outside\"}},\"type\":\"scatter3d\"}],\"scattercarpet\":[{\"marker\":{\"colorbar\":{\"outlinewidth\":1,\"tickcolor\":\"rgb(36,36,36)\",\"ticks\":\"outside\"}},\"type\":\"scattercarpet\"}],\"scattergeo\":[{\"marker\":{\"colorbar\":{\"outlinewidth\":1,\"tickcolor\":\"rgb(36,36,36)\",\"ticks\":\"outside\"}},\"type\":\"scattergeo\"}],\"scattergl\":[{\"marker\":{\"colorbar\":{\"outlinewidth\":1,\"tickcolor\":\"rgb(36,36,36)\",\"ticks\":\"outside\"}},\"type\":\"scattergl\"}],\"scattermapbox\":[{\"marker\":{\"colorbar\":{\"outlinewidth\":1,\"tickcolor\":\"rgb(36,36,36)\",\"ticks\":\"outside\"}},\"type\":\"scattermapbox\"}],\"scatterpolargl\":[{\"marker\":{\"colorbar\":{\"outlinewidth\":1,\"tickcolor\":\"rgb(36,36,36)\",\"ticks\":\"outside\"}},\"type\":\"scatterpolargl\"}],\"scatterpolar\":[{\"marker\":{\"colorbar\":{\"outlinewidth\":1,\"tickcolor\":\"rgb(36,36,36)\",\"ticks\":\"outside\"}},\"type\":\"scatterpolar\"}],\"scatter\":[{\"fillpattern\":{\"fillmode\":\"overlay\",\"size\":10,\"solidity\":0.2},\"type\":\"scatter\"}],\"scatterternary\":[{\"marker\":{\"colorbar\":{\"outlinewidth\":1,\"tickcolor\":\"rgb(36,36,36)\",\"ticks\":\"outside\"}},\"type\":\"scatterternary\"}],\"surface\":[{\"colorbar\":{\"outlinewidth\":1,\"tickcolor\":\"rgb(36,36,36)\",\"ticks\":\"outside\"},\"colorscale\":[[0.0,\"#440154\"],[0.1111111111111111,\"#482878\"],[0.2222222222222222,\"#3e4989\"],[0.3333333333333333,\"#31688e\"],[0.4444444444444444,\"#26828e\"],[0.5555555555555556,\"#1f9e89\"],[0.6666666666666666,\"#35b779\"],[0.7777777777777778,\"#6ece58\"],[0.8888888888888888,\"#b5de2b\"],[1.0,\"#fde725\"]],\"type\":\"surface\"}],\"table\":[{\"cells\":{\"fill\":{\"color\":\"rgb(237,237,237)\"},\"line\":{\"color\":\"white\"}},\"header\":{\"fill\":{\"color\":\"rgb(217,217,217)\"},\"line\":{\"color\":\"white\"}},\"type\":\"table\"}]},\"layout\":{\"annotationdefaults\":{\"arrowhead\":0,\"arrowwidth\":1},\"autotypenumbers\":\"strict\",\"coloraxis\":{\"colorbar\":{\"outlinewidth\":1,\"tickcolor\":\"rgb(36,36,36)\",\"ticks\":\"outside\"}},\"colorscale\":{\"diverging\":[[0.0,\"rgb(103,0,31)\"],[0.1,\"rgb(178,24,43)\"],[0.2,\"rgb(214,96,77)\"],[0.3,\"rgb(244,165,130)\"],[0.4,\"rgb(253,219,199)\"],[0.5,\"rgb(247,247,247)\"],[0.6,\"rgb(209,229,240)\"],[0.7,\"rgb(146,197,222)\"],[0.8,\"rgb(67,147,195)\"],[0.9,\"rgb(33,102,172)\"],[1.0,\"rgb(5,48,97)\"]],\"sequential\":[[0.0,\"#440154\"],[0.1111111111111111,\"#482878\"],[0.2222222222222222,\"#3e4989\"],[0.3333333333333333,\"#31688e\"],[0.4444444444444444,\"#26828e\"],[0.5555555555555556,\"#1f9e89\"],[0.6666666666666666,\"#35b779\"],[0.7777777777777778,\"#6ece58\"],[0.8888888888888888,\"#b5de2b\"],[1.0,\"#fde725\"]],\"sequentialminus\":[[0.0,\"#440154\"],[0.1111111111111111,\"#482878\"],[0.2222222222222222,\"#3e4989\"],[0.3333333333333333,\"#31688e\"],[0.4444444444444444,\"#26828e\"],[0.5555555555555556,\"#1f9e89\"],[0.6666666666666666,\"#35b779\"],[0.7777777777777778,\"#6ece58\"],[0.8888888888888888,\"#b5de2b\"],[1.0,\"#fde725\"]]},\"colorway\":[\"#1F77B4\",\"#FF7F0E\",\"#2CA02C\",\"#D62728\",\"#9467BD\",\"#8C564B\",\"#E377C2\",\"#7F7F7F\",\"#BCBD22\",\"#17BECF\"],\"font\":{\"color\":\"rgb(36,36,36)\"},\"geo\":{\"bgcolor\":\"white\",\"lakecolor\":\"white\",\"landcolor\":\"white\",\"showlakes\":true,\"showland\":true,\"subunitcolor\":\"white\"},\"hoverlabel\":{\"align\":\"left\"},\"hovermode\":\"closest\",\"mapbox\":{\"style\":\"light\"},\"paper_bgcolor\":\"white\",\"plot_bgcolor\":\"white\",\"polar\":{\"angularaxis\":{\"gridcolor\":\"rgb(232,232,232)\",\"linecolor\":\"rgb(36,36,36)\",\"showgrid\":false,\"showline\":true,\"ticks\":\"outside\"},\"bgcolor\":\"white\",\"radialaxis\":{\"gridcolor\":\"rgb(232,232,232)\",\"linecolor\":\"rgb(36,36,36)\",\"showgrid\":false,\"showline\":true,\"ticks\":\"outside\"}},\"scene\":{\"xaxis\":{\"backgroundcolor\":\"white\",\"gridcolor\":\"rgb(232,232,232)\",\"gridwidth\":2,\"linecolor\":\"rgb(36,36,36)\",\"showbackground\":true,\"showgrid\":false,\"showline\":true,\"ticks\":\"outside\",\"zeroline\":false,\"zerolinecolor\":\"rgb(36,36,36)\"},\"yaxis\":{\"backgroundcolor\":\"white\",\"gridcolor\":\"rgb(232,232,232)\",\"gridwidth\":2,\"linecolor\":\"rgb(36,36,36)\",\"showbackground\":true,\"showgrid\":false,\"showline\":true,\"ticks\":\"outside\",\"zeroline\":false,\"zerolinecolor\":\"rgb(36,36,36)\"},\"zaxis\":{\"backgroundcolor\":\"white\",\"gridcolor\":\"rgb(232,232,232)\",\"gridwidth\":2,\"linecolor\":\"rgb(36,36,36)\",\"showbackground\":true,\"showgrid\":false,\"showline\":true,\"ticks\":\"outside\",\"zeroline\":false,\"zerolinecolor\":\"rgb(36,36,36)\"}},\"shapedefaults\":{\"fillcolor\":\"black\",\"line\":{\"width\":0},\"opacity\":0.3},\"ternary\":{\"aaxis\":{\"gridcolor\":\"rgb(232,232,232)\",\"linecolor\":\"rgb(36,36,36)\",\"showgrid\":false,\"showline\":true,\"ticks\":\"outside\"},\"baxis\":{\"gridcolor\":\"rgb(232,232,232)\",\"linecolor\":\"rgb(36,36,36)\",\"showgrid\":false,\"showline\":true,\"ticks\":\"outside\"},\"bgcolor\":\"white\",\"caxis\":{\"gridcolor\":\"rgb(232,232,232)\",\"linecolor\":\"rgb(36,36,36)\",\"showgrid\":false,\"showline\":true,\"ticks\":\"outside\"}},\"title\":{\"x\":0.05},\"xaxis\":{\"automargin\":true,\"gridcolor\":\"rgb(232,232,232)\",\"linecolor\":\"rgb(36,36,36)\",\"showgrid\":false,\"showline\":true,\"ticks\":\"outside\",\"title\":{\"standoff\":15},\"zeroline\":false,\"zerolinecolor\":\"rgb(36,36,36)\"},\"yaxis\":{\"automargin\":true,\"gridcolor\":\"rgb(232,232,232)\",\"linecolor\":\"rgb(36,36,36)\",\"showgrid\":false,\"showline\":true,\"ticks\":\"outside\",\"title\":{\"standoff\":15},\"zeroline\":false,\"zerolinecolor\":\"rgb(36,36,36)\"}}},\"xaxis\":{\"anchor\":\"y\",\"domain\":[0.0,1.0],\"title\":{\"text\":\"date\"}},\"yaxis\":{\"anchor\":\"x\",\"domain\":[0.0,1.0],\"title\":{\"text\":\"sales_Boxcox\"}},\"legend\":{\"tracegroupgap\":0},\"margin\":{\"t\":60},\"font\":{\"size\":12},\"title\":{\"text\":\"Sales for family product BEAUTY in cluster 5\",\"x\":0.5},\"width\":850},                        {\"responsive\": true}                    ).then(function(){\n",
       "                            \n",
       "var gd = document.getElementById('62f7256c-c8ea-4b04-b16d-acbdecf1ef8a');\n",
       "var x = new MutationObserver(function (mutations, observer) {{\n",
       "        var display = window.getComputedStyle(gd).display;\n",
       "        if (!display || display === 'none') {{\n",
       "            console.log([gd, 'removed!']);\n",
       "            Plotly.purge(gd);\n",
       "            observer.disconnect();\n",
       "        }}\n",
       "}});\n",
       "\n",
       "// Listen for the removal of the full notebook cells\n",
       "var notebookContainer = gd.closest('#notebook-container');\n",
       "if (notebookContainer) {{\n",
       "    x.observe(notebookContainer, {childList: true});\n",
       "}}\n",
       "\n",
       "// Listen for the clearing of the current output cell\n",
       "var outputEl = gd.closest('.output');\n",
       "if (outputEl) {{\n",
       "    x.observe(outputEl, {childList: true});\n",
       "}}\n",
       "\n",
       "                        })                };                });            </script>        </div>"
      ]
     },
     "metadata": {},
     "output_type": "display_data"
    }
   ],
   "execution_count": 82
  },
  {
   "metadata": {
    "ExecuteTime": {
     "end_time": "2025-01-30T19:18:59.858063Z",
     "start_time": "2025-01-30T19:18:59.588049Z"
    }
   },
   "cell_type": "code",
   "source": [
    "# Import packages\n",
    "import matplotlib.pyplot as plt\n",
    "from statsmodels.graphics.tsaplots import plot_pacf, plot_acf\n",
    "\n",
    "# Difference the data\n",
    "#data[\"Passenger_diff\"] = data[\"Passengers_Boxcox\"].diff()\n",
    "#data.dropna(inplace=True)\n",
    "df_filtered = filter_data(df=data, c=8, fam='BEAUTY')\n",
    "df_filtered[\"sales_diff\"] = data[\"sales\"].diff()\n",
    "df_filtered.dropna(inplace=True, axis=0)\n",
    "# Plot acf and pacf\n",
    "fig, (ax1, ax2) = plt.subplots(1, 2, figsize=(16,5), dpi=80)\n",
    "plot_acf(df_filtered['sales'])\n",
    "plot_pacf(df_filtered['sales'], method='ywm')\n",
    "ax1.tick_params(axis='both', labelsize=12)\n",
    "ax2.tick_params(axis='both', labelsize=12)\n",
    "plt.show()"
   ],
   "id": "6777fd2992ecd33e",
   "outputs": [
    {
     "data": {
      "text/plain": [
       "<Figure size 1280x400 with 2 Axes>"
      ],
      "image/png": "[encoded data removed]"
     },
     "metadata": {},
     "output_type": "display_data"
    },
    {
     "data": {
      "text/plain": [
       "<Figure size 640x480 with 1 Axes>"
      ],
      "image/png": "[encoded data removed]"
     },
     "metadata": {},
     "output_type": "display_data"
    },
    {
     "data": {
      "text/plain": [
       "<Figure size 640x480 with 1 Axes>"
      ],
      "image/png": "[encoded data removed]"
     },
     "metadata": {},
     "output_type": "display_data"
    }
   ],
   "execution_count": 12
  },
  {
   "metadata": {
    "ExecuteTime": {
     "end_time": "2025-01-30T19:20:07.942354Z",
     "start_time": "2025-01-30T19:20:07.668400Z"
    }
   },
   "cell_type": "code",
   "source": [
    "# Sélectionner le magasin et la famille\n",
    "store_nbr = 8\n",
    "family = 'PRODUCE'\n",
    "\n",
    "# Filtrer les données\n",
    "filtered_df = df_train[(df_train['store_nbr'] == store_nbr) & (df_train['family'] == family)]\n",
    "\n",
    "# Extraire la colonne 'sales' pour le test ADF\n",
    "sales_data = filtered_df['sales']\n",
    "result = adfuller(sales_data)\n",
    "\n",
    "print('Statistique ADF :', result[0])\n",
    "print('Valeur p :', result[1])\n",
    "print('Valeurs critiques :', result[4])"
   ],
   "id": "362c4bda1f566a93",
   "outputs": [
    {
     "name": "stdout",
     "output_type": "stream",
     "text": [
      "Statistique ADF : -3.287944093018063\n",
      "Valeur p : 0.015426050146170982\n",
      "Valeurs critiques : {'1%': np.float64(-3.4342906911169404), '5%': np.float64(-2.8632805908715726), '10%': np.float64(-2.5676966486957706)}\n"
     ]
    }
   ],
   "execution_count": 16
  },
  {
   "metadata": {
    "ExecuteTime": {
     "end_time": "2025-01-30T21:10:33.420751Z",
     "start_time": "2025-01-30T19:46:45.497126Z"
    }
   },
   "cell_type": "code",
   "source": [
    "# Import packages\n",
    "from scipy.special import inv_boxcox\n",
    "train_model(('cluster', 'family' , 'date' , 'sales', True))\n",
    "final_predictions.to_csv('arima_results_forecasting.csv', index=False)"
   ],
   "id": "461bc574b50298d6",
   "outputs": [],
   "execution_count": 34
  },
  {
   "metadata": {},
   "cell_type": "code",
   "outputs": [],
   "execution_count": null,
   "source": [
    "arima_f_data = pd.read_csv('../results/arima_results_forecasting.csv', parse_dates=['date'])\n",
    "cluster = 9\n",
    "family = \"BEAUTY\"\n",
    "plot_func(f_data, data , cluster, family, f\" ARIMA Forecasting for product family {family} in cluster {cluster}\")"
   ],
   "id": "b88918a9b3a1570c"
  },
  {
   "metadata": {},
   "cell_type": "code",
   "outputs": [],
   "execution_count": null,
   "source": [
    "print(\"Overall performance for ARIMA Model:\")\n",
    "eval_model(arima_f_data['sales'], arima_f_data['sales_forecast'])"
   ],
   "id": "e1f38304e27b5c9d"
  }
 ],
 "metadata": {
  "kernelspec": {
   "display_name": "Python 3",
   "language": "python",
   "name": "python3"
  },
  "language_info": {
   "codemirror_mode": {
    "name": "ipython",
    "version": 2
   },
   "file_extension": ".py",
   "mimetype": "text/x-python",
   "name": "python",
   "nbconvert_exporter": "python",
   "pygments_lexer": "ipython2",
   "version": "2.7.6"
  }
 },
 "nbformat": 4,
 "nbformat_minor": 5
}
