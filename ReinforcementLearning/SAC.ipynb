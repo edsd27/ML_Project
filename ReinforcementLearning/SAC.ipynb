{
 "cells": [
  {
   "cell_type": "code",
   "execution_count": 1,
   "metadata": {},
   "outputs": [],
   "source": [
    "from stable_baselines3 import SAC\n",
    "from energy_env import EnergyMarketEnv\n",
    "import itertools\n",
    "import numpy as np\n",
    "import warnings\n",
    "import pandas as pd\n",
    "import os\n",
    "import plotly.graph_objects as go\n",
    "warnings.filterwarnings('ignore')"
   ]
  },
  {
   "cell_type": "code",
   "execution_count": 2,
   "metadata": {},
   "outputs": [],
   "source": [
    "def evaluate_model(model, env, episodes= 1000):\n",
    "    rewards_per_episode = []\n",
    "    for _ in range(episodes):\n",
    "        state = env.reset()\n",
    "        score = 0  \n",
    "        for _ in range(20):\n",
    "            # Get the next action using the updated exploration rate\n",
    "            action, _ = model.predict(state, deterministic=True) \n",
    "            next_state, reward, done, _ = env.step(action)\n",
    "            score += reward\n",
    "            state = next_state\n",
    "            #print(f\"Aktion: {action}, Belohnung: {reward}\")\n",
    "            if done :\n",
    "                break\n",
    "        rewards_per_episode.append(score)\n",
    "    return np.mean(rewards_per_episode)"
   ]
  },
  {
   "cell_type": "markdown",
   "metadata": {},
   "source": [
    "### Instance\n",
    "| Month       | λ     | k     | μ_WS  | σ_WS  | κ_P  | μ_P   | σ_P   |\n",
    "|------------|------|------|------|------|------|------|------|\n",
    "| January   | 0.127 | 1.430 | 7.145 | 5.072 | 1.035 | 40.712 | 12.693 |\n",
    "| February  | 0.135 | 1.499 | 6.663 | 4.527 | 0.899 | 44.357 | 11.300 |\n",
    "| March     | 0.143 | 1.598 | 6.289 | 4.030 | 1.150 | 39.112 | 18.475 |\n",
    "| April     | 0.132 | 1.712 | 6.757 | 4.065 | 1.114 | 38.993 | 17.593 |\n",
    "| May       | 0.129 | 1.677 | 6.943 | 4.257 | 1.441 | 34.981 | 16.075 |\n",
    "| June      | 0.150 | 1.632 | 5.981 | 3.758 | 1.244 | 30.401 | 17.036 |\n",
    "| July      | 0.148 | 1.653 | 6.052 | 3.760 | 1.700 | 38.202 | 16.199 |\n",
    "| August    | 0.165 | 1.553 | 5.438 | 3.576 | 1.433 | 35.824 | 15.015 |\n",
    "\n",
    "### Maximum Storage Level\n",
    "| Level | Value  |\n",
    "|--------|--------|\n",
    "| 1      | 0.00   |\n",
    "| 2      | 1.25   |\n",
    "| 3      | 2.50   |\n",
    "| 4      | 3.75   |\n",
    "| 5      | 5.00   |\n",
    "| 6      | 6.25   |\n",
    "| 7      | 7.50   |\n",
    "\n",
    "### Efficiency Charge / Efficiency Discharge  \n",
    "| Efficiency Charge | Efficiency Discharge | Product (Charge * Discharge) |\n",
    "|------------------|--------------------|-----------------------------|\n",
    "| X              | Y                  | 0.5                         |\n",
    "| X              | Y                  | 0.6                         |\n",
    "| X              | Y                  | 0.7                         |\n",
    "| X              | Y                  | 0.8                         |\n",
    "| X              | Y                  | 0.9                         |\n",
    "| X              | Y                  | 1.0                         |\n"
   ]
  },
  {
   "cell_type": "code",
   "execution_count": 12,
   "metadata": {},
   "outputs": [
    {
     "data": {
      "text/plain": [
       "<stable_baselines3.sac.sac.SAC at 0x2501dccc310>"
      ]
     },
     "execution_count": 12,
     "metadata": {},
     "output_type": "execute_result"
    }
   ],
   "source": [
    "storage_level_max, efficiency, lamda, kappa, ou_kappa, ou_mu, sigma_p =  7.5, 0.5, 0.127, 1.43, 1.035, 40.712, 12.693\n",
    "env =  EnergyMarketEnv(storage_level_max, efficiency, lamda, kappa, ou_kappa, ou_mu, sigma_p)\n",
    "model = SAC(\"MlpPolicy\", env, learning_rate=3e-4)\n",
    "model.learn(total_timesteps=10000)"
   ]
  },
  {
   "cell_type": "code",
   "execution_count": 14,
   "metadata": {},
   "outputs": [],
   "source": [
    "# Speichert das Modell in 'sac_model.zip'\n",
    "model.save(f\"models/SAC_jan_{storage_level_max}_{efficiency}_model\")"
   ]
  },
  {
   "cell_type": "code",
   "execution_count": 13,
   "metadata": {},
   "outputs": [
    {
     "name": "stdout",
     "output_type": "stream",
     "text": [
      "Durschnittliche Belohnung an einem Tag:  1173.14€ über 10000 Szenarien\n"
     ]
    }
   ],
   "source": [
    "n_episodes = 10000\n",
    "print(f\"Durschnittliche Belohnung an einem Tag: {evaluate_model(model, env, n_episodes): .2f}€ über {n_episodes} Szenarien\")"
   ]
  },
  {
   "cell_type": "markdown",
   "metadata": {},
   "source": [
    "####  Training von models abhängig von Storage parameters mit Wetterbedingung von Januar und Energy Preis"
   ]
  },
  {
   "cell_type": "code",
   "execution_count": 5,
   "metadata": {},
   "outputs": [],
   "source": [
    "efficient_values = [0.5, 0.6, 0.7, 0.8, 0.9, 1]\n",
    "storage_level_max_values = [0, 1.25, 2.5, 3.75, 5, 6.25, 7.5]\n",
    "for efficient, storage_level_max in itertools.product(efficient_values, storage_level_max_values):\n",
    "    env =  EnergyMarketEnv(storage_level_max, efficient, 0.127, 1.43, 1.035, 40.712, 12.693)\n",
    "    model = SAC(\"MlpPolicy\", env, learning_rate=3e-3)\n",
    "    model.learn(total_timesteps=10000)\n",
    "    model.save(f\"models/SAC_jan_{storage_level_max}_{efficient}_model\") \n",
    "    env.close()"
   ]
  },
  {
   "cell_type": "markdown",
   "metadata": {},
   "source": [
    "#### Testen von trainierten Modellen über 10000 Szenarien"
   ]
  },
  {
   "cell_type": "code",
   "execution_count": null,
   "metadata": {},
   "outputs": [],
   "source": [
    "efficient_values = [0.5, 0.6, 0.7, 0.8, 0.9, 1]\n",
    "storage_level_max_values = [0, 1.25, 2.5, 3.75, 5, 6.25, 7.5]\n",
    "profit = []\n",
    "x_axis = []\n",
    "y_axis = []\n",
    "n_episodes = 1000\n",
    "for efficient, storage_level_max in itertools.product(efficient_values, storage_level_max_values):\n",
    "    env =  EnergyMarketEnv(storage_level_max, efficient, 0.127, 1.43, 1.035, 40.712, 12.693)\n",
    "    model_path = f\"models/SAC_jan_{storage_level_max}_{efficient}_model\"\n",
    "    if os.path.exists(model_path):\n",
    "        model = SAC.load(model_path, env=env)\n",
    "    avg_profit = evaluate_model(model, env, n_episodes)\n",
    "    profit.append(avg_profit)\n",
    "    x_axis.append(storage_level_max)\n",
    "    y_axis.append(efficient)\n",
    "    print(f\"Durschnittliche Belohnung an einem Tag: {avg_profit:.2f}€ über {n_episodes} Szenarien\")\n",
    "    env.close()"
   ]
  },
  {
   "cell_type": "markdown",
   "metadata": {},
   "source": [
    "### save Testergebnis als Dataframe"
   ]
  },
  {
   "cell_type": "code",
   "execution_count": 25,
   "metadata": {},
   "outputs": [],
   "source": [
    "df = pd.DataFrame({\"Effiency\":y_axis, \"Storage Level\": x_axis, \"Profit\": profit})\n",
    "df.to_csv('experiment.csv', index=False)"
   ]
  },
  {
   "cell_type": "markdown",
   "metadata": {},
   "source": [
    "#### Visualize Ergebnisse"
   ]
  },
  {
   "cell_type": "code",
   "execution_count": 24,
   "metadata": {},
   "outputs": [
    {
     "data": {
      "application/vnd.plotly.v1+json": {
       "config": {
        "plotlyServerURL": "https://plot.ly"
       },
       "data": [
        {
         "colorscale": [
          [
           0,
           "#440154"
          ],
          [
           0.1111111111111111,
           "#482878"
          ],
          [
           0.2222222222222222,
           "#3e4989"
          ],
          [
           0.3333333333333333,
           "#31688e"
          ],
          [
           0.4444444444444444,
           "#26828e"
          ],
          [
           0.5555555555555556,
           "#1f9e89"
          ],
          [
           0.6666666666666666,
           "#35b779"
          ],
          [
           0.7777777777777778,
           "#6ece58"
          ],
          [
           0.8888888888888888,
           "#b5de2b"
          ],
          [
           1,
           "#fde725"
          ]
         ],
         "type": "surface",
         "x": {
          "bdata": "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",
          "dtype": "f8",
          "shape": "30, 30"
         },
         "y": {
          "bdata": "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",
          "dtype": "f8",
          "shape": "30, 30"
         },
         "z": {
          "bdata": "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",
          "dtype": "f8",
          "shape": "30, 30"
         }
        }
       ],
       "layout": {
        "height": 800,
        "scene": {
         "xaxis": {
          "title": {
           "text": "Max Storage Level"
          }
         },
         "yaxis": {
          "title": {
           "text": "Efficiency"
          }
         },
         "zaxis": {
          "title": {
           "text": "Profit (€)"
          }
         }
        },
        "template": {
         "data": {
          "bar": [
           {
            "error_x": {
             "color": "#2a3f5f"
            },
            "error_y": {
             "color": "#2a3f5f"
            },
            "marker": {
             "line": {
              "color": "#E5ECF6",
              "width": 0.5
             },
             "pattern": {
              "fillmode": "overlay",
              "size": 10,
              "solidity": 0.2
             }
            },
            "type": "bar"
           }
          ],
          "barpolar": [
           {
            "marker": {
             "line": {
              "color": "#E5ECF6",
              "width": 0.5
             },
             "pattern": {
              "fillmode": "overlay",
              "size": 10,
              "solidity": 0.2
             }
            },
            "type": "barpolar"
           }
          ],
          "carpet": [
           {
            "aaxis": {
             "endlinecolor": "#2a3f5f",
             "gridcolor": "white",
             "linecolor": "white",
             "minorgridcolor": "white",
             "startlinecolor": "#2a3f5f"
            },
            "baxis": {
             "endlinecolor": "#2a3f5f",
             "gridcolor": "white",
             "linecolor": "white",
             "minorgridcolor": "white",
             "startlinecolor": "#2a3f5f"
            },
            "type": "carpet"
           }
          ],
          "choropleth": [
           {
            "colorbar": {
             "outlinewidth": 0,
             "ticks": ""
            },
            "type": "choropleth"
           }
          ],
          "contour": [
           {
            "colorbar": {
             "outlinewidth": 0,
             "ticks": ""
            },
            "colorscale": [
             [
              0,
              "#0d0887"
             ],
             [
              0.1111111111111111,
              "#46039f"
             ],
             [
              0.2222222222222222,
              "#7201a8"
             ],
             [
              0.3333333333333333,
              "#9c179e"
             ],
             [
              0.4444444444444444,
              "#bd3786"
             ],
             [
              0.5555555555555556,
              "#d8576b"
             ],
             [
              0.6666666666666666,
              "#ed7953"
             ],
             [
              0.7777777777777778,
              "#fb9f3a"
             ],
             [
              0.8888888888888888,
              "#fdca26"
             ],
             [
              1,
              "#f0f921"
             ]
            ],
            "type": "contour"
           }
          ],
          "contourcarpet": [
           {
            "colorbar": {
             "outlinewidth": 0,
             "ticks": ""
            },
            "type": "contourcarpet"
           }
          ],
          "heatmap": [
           {
            "colorbar": {
             "outlinewidth": 0,
             "ticks": ""
            },
            "colorscale": [
             [
              0,
              "#0d0887"
             ],
             [
              0.1111111111111111,
              "#46039f"
             ],
             [
              0.2222222222222222,
              "#7201a8"
             ],
             [
              0.3333333333333333,
              "#9c179e"
             ],
             [
              0.4444444444444444,
              "#bd3786"
             ],
             [
              0.5555555555555556,
              "#d8576b"
             ],
             [
              0.6666666666666666,
              "#ed7953"
             ],
             [
              0.7777777777777778,
              "#fb9f3a"
             ],
             [
              0.8888888888888888,
              "#fdca26"
             ],
             [
              1,
              "#f0f921"
             ]
            ],
            "type": "heatmap"
           }
          ],
          "histogram": [
           {
            "marker": {
             "pattern": {
              "fillmode": "overlay",
              "size": 10,
              "solidity": 0.2
             }
            },
            "type": "histogram"
           }
          ],
          "histogram2d": [
           {
            "colorbar": {
             "outlinewidth": 0,
             "ticks": ""
            },
            "colorscale": [
             [
              0,
              "#0d0887"
             ],
             [
              0.1111111111111111,
              "#46039f"
             ],
             [
              0.2222222222222222,
              "#7201a8"
             ],
             [
              0.3333333333333333,
              "#9c179e"
             ],
             [
              0.4444444444444444,
              "#bd3786"
             ],
             [
              0.5555555555555556,
              "#d8576b"
             ],
             [
              0.6666666666666666,
              "#ed7953"
             ],
             [
              0.7777777777777778,
              "#fb9f3a"
             ],
             [
              0.8888888888888888,
              "#fdca26"
             ],
             [
              1,
              "#f0f921"
             ]
            ],
            "type": "histogram2d"
           }
          ],
          "histogram2dcontour": [
           {
            "colorbar": {
             "outlinewidth": 0,
             "ticks": ""
            },
            "colorscale": [
             [
              0,
              "#0d0887"
             ],
             [
              0.1111111111111111,
              "#46039f"
             ],
             [
              0.2222222222222222,
              "#7201a8"
             ],
             [
              0.3333333333333333,
              "#9c179e"
             ],
             [
              0.4444444444444444,
              "#bd3786"
             ],
             [
              0.5555555555555556,
              "#d8576b"
             ],
             [
              0.6666666666666666,
              "#ed7953"
             ],
             [
              0.7777777777777778,
              "#fb9f3a"
             ],
             [
              0.8888888888888888,
              "#fdca26"
             ],
             [
              1,
              "#f0f921"
             ]
            ],
            "type": "histogram2dcontour"
           }
          ],
          "mesh3d": [
           {
            "colorbar": {
             "outlinewidth": 0,
             "ticks": ""
            },
            "type": "mesh3d"
           }
          ],
          "parcoords": [
           {
            "line": {
             "colorbar": {
              "outlinewidth": 0,
              "ticks": ""
             }
            },
            "type": "parcoords"
           }
          ],
          "pie": [
           {
            "automargin": true,
            "type": "pie"
           }
          ],
          "scatter": [
           {
            "fillpattern": {
             "fillmode": "overlay",
             "size": 10,
             "solidity": 0.2
            },
            "type": "scatter"
           }
          ],
          "scatter3d": [
           {
            "line": {
             "colorbar": {
              "outlinewidth": 0,
              "ticks": ""
             }
            },
            "marker": {
             "colorbar": {
              "outlinewidth": 0,
              "ticks": ""
             }
            },
            "type": "scatter3d"
           }
          ],
          "scattercarpet": [
           {
            "marker": {
             "colorbar": {
              "outlinewidth": 0,
              "ticks": ""
             }
            },
            "type": "scattercarpet"
           }
          ],
          "scattergeo": [
           {
            "marker": {
             "colorbar": {
              "outlinewidth": 0,
              "ticks": ""
             }
            },
            "type": "scattergeo"
           }
          ],
          "scattergl": [
           {
            "marker": {
             "colorbar": {
              "outlinewidth": 0,
              "ticks": ""
             }
            },
            "type": "scattergl"
           }
          ],
          "scattermap": [
           {
            "marker": {
             "colorbar": {
              "outlinewidth": 0,
              "ticks": ""
             }
            },
            "type": "scattermap"
           }
          ],
          "scattermapbox": [
           {
            "marker": {
             "colorbar": {
              "outlinewidth": 0,
              "ticks": ""
             }
            },
            "type": "scattermapbox"
           }
          ],
          "scatterpolar": [
           {
            "marker": {
             "colorbar": {
              "outlinewidth": 0,
              "ticks": ""
             }
            },
            "type": "scatterpolar"
           }
          ],
          "scatterpolargl": [
           {
            "marker": {
             "colorbar": {
              "outlinewidth": 0,
              "ticks": ""
             }
            },
            "type": "scatterpolargl"
           }
          ],
          "scatterternary": [
           {
            "marker": {
             "colorbar": {
              "outlinewidth": 0,
              "ticks": ""
             }
            },
            "type": "scatterternary"
           }
          ],
          "surface": [
           {
            "colorbar": {
             "outlinewidth": 0,
             "ticks": ""
            },
            "colorscale": [
             [
              0,
              "#0d0887"
             ],
             [
              0.1111111111111111,
              "#46039f"
             ],
             [
              0.2222222222222222,
              "#7201a8"
             ],
             [
              0.3333333333333333,
              "#9c179e"
             ],
             [
              0.4444444444444444,
              "#bd3786"
             ],
             [
              0.5555555555555556,
              "#d8576b"
             ],
             [
              0.6666666666666666,
              "#ed7953"
             ],
             [
              0.7777777777777778,
              "#fb9f3a"
             ],
             [
              0.8888888888888888,
              "#fdca26"
             ],
             [
              1,
              "#f0f921"
             ]
            ],
            "type": "surface"
           }
          ],
          "table": [
           {
            "cells": {
             "fill": {
              "color": "#EBF0F8"
             },
             "line": {
              "color": "white"
             }
            },
            "header": {
             "fill": {
              "color": "#C8D4E3"
             },
             "line": {
              "color": "white"
             }
            },
            "type": "table"
           }
          ]
         },
         "layout": {
          "annotationdefaults": {
           "arrowcolor": "#2a3f5f",
           "arrowhead": 0,
           "arrowwidth": 1
          },
          "autotypenumbers": "strict",
          "coloraxis": {
           "colorbar": {
            "outlinewidth": 0,
            "ticks": ""
           }
          },
          "colorscale": {
           "diverging": [
            [
             0,
             "#8e0152"
            ],
            [
             0.1,
             "#c51b7d"
            ],
            [
             0.2,
             "#de77ae"
            ],
            [
             0.3,
             "#f1b6da"
            ],
            [
             0.4,
             "#fde0ef"
            ],
            [
             0.5,
             "#f7f7f7"
            ],
            [
             0.6,
             "#e6f5d0"
            ],
            [
             0.7,
             "#b8e186"
            ],
            [
             0.8,
             "#7fbc41"
            ],
            [
             0.9,
             "#4d9221"
            ],
            [
             1,
             "#276419"
            ]
           ],
           "sequential": [
            [
             0,
             "#0d0887"
            ],
            [
             0.1111111111111111,
             "#46039f"
            ],
            [
             0.2222222222222222,
             "#7201a8"
            ],
            [
             0.3333333333333333,
             "#9c179e"
            ],
            [
             0.4444444444444444,
             "#bd3786"
            ],
            [
             0.5555555555555556,
             "#d8576b"
            ],
            [
             0.6666666666666666,
             "#ed7953"
            ],
            [
             0.7777777777777778,
             "#fb9f3a"
            ],
            [
             0.8888888888888888,
             "#fdca26"
            ],
            [
             1,
             "#f0f921"
            ]
           ],
           "sequentialminus": [
            [
             0,
             "#0d0887"
            ],
            [
             0.1111111111111111,
             "#46039f"
            ],
            [
             0.2222222222222222,
             "#7201a8"
            ],
            [
             0.3333333333333333,
             "#9c179e"
            ],
            [
             0.4444444444444444,
             "#bd3786"
            ],
            [
             0.5555555555555556,
             "#d8576b"
            ],
            [
             0.6666666666666666,
             "#ed7953"
            ],
            [
             0.7777777777777778,
             "#fb9f3a"
            ],
            [
             0.8888888888888888,
             "#fdca26"
            ],
            [
             1,
             "#f0f921"
            ]
           ]
          },
          "colorway": [
           "#636efa",
           "#EF553B",
           "#00cc96",
           "#ab63fa",
           "#FFA15A",
           "#19d3f3",
           "#FF6692",
           "#B6E880",
           "#FF97FF",
           "#FECB52"
          ],
          "font": {
           "color": "#2a3f5f"
          },
          "geo": {
           "bgcolor": "white",
           "lakecolor": "white",
           "landcolor": "#E5ECF6",
           "showlakes": true,
           "showland": true,
           "subunitcolor": "white"
          },
          "hoverlabel": {
           "align": "left"
          },
          "hovermode": "closest",
          "mapbox": {
           "style": "light"
          },
          "paper_bgcolor": "white",
          "plot_bgcolor": "#E5ECF6",
          "polar": {
           "angularaxis": {
            "gridcolor": "white",
            "linecolor": "white",
            "ticks": ""
           },
           "bgcolor": "#E5ECF6",
           "radialaxis": {
            "gridcolor": "white",
            "linecolor": "white",
            "ticks": ""
           }
          },
          "scene": {
           "xaxis": {
            "backgroundcolor": "#E5ECF6",
            "gridcolor": "white",
            "gridwidth": 2,
            "linecolor": "white",
            "showbackground": true,
            "ticks": "",
            "zerolinecolor": "white"
           },
           "yaxis": {
            "backgroundcolor": "#E5ECF6",
            "gridcolor": "white",
            "gridwidth": 2,
            "linecolor": "white",
            "showbackground": true,
            "ticks": "",
            "zerolinecolor": "white"
           },
           "zaxis": {
            "backgroundcolor": "#E5ECF6",
            "gridcolor": "white",
            "gridwidth": 2,
            "linecolor": "white",
            "showbackground": true,
            "ticks": "",
            "zerolinecolor": "white"
           }
          },
          "shapedefaults": {
           "line": {
            "color": "#2a3f5f"
           }
          },
          "ternary": {
           "aaxis": {
            "gridcolor": "white",
            "linecolor": "white",
            "ticks": ""
           },
           "baxis": {
            "gridcolor": "white",
            "linecolor": "white",
            "ticks": ""
           },
           "bgcolor": "#E5ECF6",
           "caxis": {
            "gridcolor": "white",
            "linecolor": "white",
            "ticks": ""
           }
          },
          "title": {
           "x": 0.05
          },
          "xaxis": {
           "automargin": true,
           "gridcolor": "white",
           "linecolor": "white",
           "ticks": "",
           "title": {
            "standoff": 15
           },
           "zerolinecolor": "white",
           "zerolinewidth": 2
          },
          "yaxis": {
           "automargin": true,
           "gridcolor": "white",
           "linecolor": "white",
           "ticks": "",
           "title": {
            "standoff": 15
           },
           "zerolinecolor": "white",
           "zerolinewidth": 2
          }
         }
        },
        "title": {
         "text": "Profit als Funktion von Storage Level und Efficiency"
        },
        "width": 1000
       }
      }
     },
     "metadata": {},
     "output_type": "display_data"
    }
   ],
   "source": [
    "import plotly.graph_objects as go\n",
    "import numpy as np\n",
    "from scipy.interpolate import griddata\n",
    "\n",
    "# Deine Originaldaten als NumPy-Arrays\n",
    "x = np.array(x_axis)  # Max Storage Level\n",
    "y = np.array(y_axis)  # Efficiency\n",
    "z = np.array(profit)  # Profit\n",
    "\n",
    "# Erstelle ein regelmäßiges Raster für x und y\n",
    "x_lin = np.linspace(min(x), max(x), 30)  # 30 Punkte auf der x-Achse\n",
    "y_lin = np.linspace(min(y), max(y), 30)  # 30 Punkte auf der y-Achse\n",
    "x_grid, y_grid = np.meshgrid(x_lin, y_lin)\n",
    "\n",
    "# Interpolation der Profit-Daten auf das Raster\n",
    "z_grid = griddata((x, y), z, (x_grid, y_grid), method='cubic')\n",
    "\n",
    "# 3D-Plot erstellen\n",
    "fig = go.Figure(data=[go.Surface(x=x_grid, y=y_grid, z=z_grid, colorscale=\"Viridis\")])\n",
    "\n",
    "# Achsentitel setzen\n",
    "fig.update_layout(\n",
    "    title=\"Profit als Funktion von Storage Level und Efficiency\",\n",
    "    scene=dict(\n",
    "        xaxis_title=\"Max Storage Level\",\n",
    "        yaxis_title=\"Efficiency\",\n",
    "        zaxis_title=\"Profit (€)\"\n",
    "    ),\n",
    "    width=1000,  # Breite in Pixel\n",
    "    height=800   # Höhe in Pixel\n",
    ")\n",
    "\n",
    "\n",
    "fig.show()\n"
   ]
  }
 ],
 "metadata": {
  "kernelspec": {
   "display_name": ".venv",
   "language": "python",
   "name": "python3"
  },
  "language_info": {
   "codemirror_mode": {
    "name": "ipython",
    "version": 3
   },
   "file_extension": ".py",
   "mimetype": "text/x-python",
   "name": "python",
   "nbconvert_exporter": "python",
   "pygments_lexer": "ipython3",
   "version": "3.10.11"
  }
 },
 "nbformat": 4,
 "nbformat_minor": 2
}
